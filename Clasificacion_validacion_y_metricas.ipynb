{
  "nbformat": 4,
  "nbformat_minor": 0,
  "metadata": {
    "colab": {
      "provenance": [],
      "include_colab_link": true
    },
    "kernelspec": {
      "name": "python3",
      "display_name": "Python 3"
    },
    "language_info": {
      "name": "python"
    }
  },
  "cells": [
    {
      "cell_type": "markdown",
      "metadata": {
        "id": "view-in-github",
        "colab_type": "text"
      },
      "source": [
        "<a href=\"https://colab.research.google.com/github/evs-11/Clasificaci-n_Validacion-de-Modelos-y-Metricas-de-Evaluacion/blob/main/Clasificacion_validacion_y_metricas.ipynb\" target=\"_parent\"><img src=\"https://colab.research.google.com/assets/colab-badge.svg\" alt=\"Open In Colab\"/></a>"
      ]
    },
    {
      "cell_type": "markdown",
      "source": [
        "# <font color='dark'>**Clasificación: Validación de modelos y métricas de evaluación**</h1>"
      ],
      "metadata": {
        "id": "MCqTDybk4ShK"
      }
    },
    {
      "cell_type": "markdown",
      "source": [
        "### Proyecto\n",
        "\n",
        "Una empresa de financiamiento de automóviles está atravesando una situación complicada, con una alta demanda para una flota reducida de vehículos y un alto número de morosos, lo que está generando grandes pérdidas para la empresa.\n",
        "\n",
        "Nosotros fuimos contratados para buscar mejoras en la identificación de morosos. El análisis de los clientes actualmente se realiza de forma manual, cliente por cliente, lo que consume mucho tiempo y, aun así, la detección de morosos es muy imprecisa.\n",
        "\n",
        "Nuestra tarea es utilizar los datos proporcionados por la empresa para **clasificar** a los clientes en cumplidores y morosos."
      ],
      "metadata": {
        "id": "WscU3KG7a9No"
      }
    },
    {
      "cell_type": "markdown",
      "source": [
        "## <font color='dark'>Clasificando los datos</h1>"
      ],
      "metadata": {
        "id": "WgS8iF51Csrn"
      }
    },
    {
      "cell_type": "markdown",
      "source": [
        "### Creando un modelo inicial"
      ],
      "metadata": {
        "id": "6lExmBuKn-xe"
      }
    },
    {
      "cell_type": "code",
      "source": [
        "import pandas as pd   # importamos la bibliotec"
      ],
      "metadata": {
        "id": "ANJDC3LqP43q"
      },
      "execution_count": 73,
      "outputs": []
    },
    {
      "cell_type": "code",
      "source": [
        "# creamos la variable y leemos el archivo\n",
        "datos = pd.read_csv('/content/prestacar.csv')"
      ],
      "metadata": {
        "id": "UPddns6dP4kt"
      },
      "execution_count": 74,
      "outputs": []
    },
    {
      "cell_type": "code",
      "source": [
        "# visualizamos el conjunto de datos\n",
        "datos"
      ],
      "metadata": {
        "id": "UVIX6QLpP4iC",
        "outputId": "44aa7365-5bab-4973-be3e-93841da848a9",
        "colab": {
          "base_uri": "https://localhost:8080/",
          "height": 423
        }
      },
      "execution_count": 75,
      "outputs": [
        {
          "output_type": "execute_result",
          "data": {
            "text/plain": [
              "       ingresos_cliente  anualidad_prestamo  años_casa_propia  telefono_trab  \\\n",
              "0          12600.000000         3569.400000         12.157324              1   \n",
              "1           9000.000000         2722.188351          7.000000              0   \n",
              "2          15750.000000         4477.500000         12.000000              0   \n",
              "3           9000.000000         1309.050000         12.157324              0   \n",
              "4           7650.000000         1125.000000         12.157324              0   \n",
              "...                 ...                 ...               ...            ...   \n",
              "54020      16855.246324          675.000000         12.157324              1   \n",
              "54021      11250.000000          675.000000         14.000000              0   \n",
              "54022      13500.000000          900.000000         64.000000              0   \n",
              "54023      11250.000000         2371.500000         12.157324              0   \n",
              "54024      21060.000000         2459.250000         12.157324              0   \n",
              "\n",
              "       evaluacion_ciudad   score_1   score_2   score_3  score_social  \\\n",
              "0                    2.0  0.057153  0.527227  0.513171      0.117428   \n",
              "1                    2.0  0.657661  0.285898  0.614414      0.222700   \n",
              "2                    2.0  0.501213  0.695423  0.513171      0.117428   \n",
              "3                    3.0  0.501213  0.155973  0.513171      0.117428   \n",
              "4                    2.0  0.294328  0.152076  0.513171      0.117428   \n",
              "...                  ...       ...       ...       ...           ...   \n",
              "54020                2.0  0.501213  0.180635  0.513171      0.082500   \n",
              "54021                3.0  0.409620  0.606002  0.513171      0.117428   \n",
              "54022                2.0  0.162632  0.525412  0.513171      0.117428   \n",
              "54023                3.0  0.501213  0.664027  0.513171      0.117428   \n",
              "54024                2.0  0.339656  0.656468  0.513171      0.117428   \n",
              "\n",
              "       cambio_telefono  moroso  \n",
              "0          2545.000000       0  \n",
              "1           495.000000       0  \n",
              "2          1212.000000       0  \n",
              "3           515.000000       0  \n",
              "4           162.000000       0  \n",
              "...                ...     ...  \n",
              "54020         0.000000       1  \n",
              "54021       466.000000       1  \n",
              "54022       962.106056       1  \n",
              "54023       482.000000       1  \n",
              "54024         0.000000       1  \n",
              "\n",
              "[54025 rows x 11 columns]"
            ],
            "text/html": [
              "\n",
              "  <div id=\"df-bd64ac98-6b99-4c1f-baab-255e56a645b3\" class=\"colab-df-container\">\n",
              "    <div>\n",
              "<style scoped>\n",
              "    .dataframe tbody tr th:only-of-type {\n",
              "        vertical-align: middle;\n",
              "    }\n",
              "\n",
              "    .dataframe tbody tr th {\n",
              "        vertical-align: top;\n",
              "    }\n",
              "\n",
              "    .dataframe thead th {\n",
              "        text-align: right;\n",
              "    }\n",
              "</style>\n",
              "<table border=\"1\" class=\"dataframe\">\n",
              "  <thead>\n",
              "    <tr style=\"text-align: right;\">\n",
              "      <th></th>\n",
              "      <th>ingresos_cliente</th>\n",
              "      <th>anualidad_prestamo</th>\n",
              "      <th>años_casa_propia</th>\n",
              "      <th>telefono_trab</th>\n",
              "      <th>evaluacion_ciudad</th>\n",
              "      <th>score_1</th>\n",
              "      <th>score_2</th>\n",
              "      <th>score_3</th>\n",
              "      <th>score_social</th>\n",
              "      <th>cambio_telefono</th>\n",
              "      <th>moroso</th>\n",
              "    </tr>\n",
              "  </thead>\n",
              "  <tbody>\n",
              "    <tr>\n",
              "      <th>0</th>\n",
              "      <td>12600.000000</td>\n",
              "      <td>3569.400000</td>\n",
              "      <td>12.157324</td>\n",
              "      <td>1</td>\n",
              "      <td>2.0</td>\n",
              "      <td>0.057153</td>\n",
              "      <td>0.527227</td>\n",
              "      <td>0.513171</td>\n",
              "      <td>0.117428</td>\n",
              "      <td>2545.000000</td>\n",
              "      <td>0</td>\n",
              "    </tr>\n",
              "    <tr>\n",
              "      <th>1</th>\n",
              "      <td>9000.000000</td>\n",
              "      <td>2722.188351</td>\n",
              "      <td>7.000000</td>\n",
              "      <td>0</td>\n",
              "      <td>2.0</td>\n",
              "      <td>0.657661</td>\n",
              "      <td>0.285898</td>\n",
              "      <td>0.614414</td>\n",
              "      <td>0.222700</td>\n",
              "      <td>495.000000</td>\n",
              "      <td>0</td>\n",
              "    </tr>\n",
              "    <tr>\n",
              "      <th>2</th>\n",
              "      <td>15750.000000</td>\n",
              "      <td>4477.500000</td>\n",
              "      <td>12.000000</td>\n",
              "      <td>0</td>\n",
              "      <td>2.0</td>\n",
              "      <td>0.501213</td>\n",
              "      <td>0.695423</td>\n",
              "      <td>0.513171</td>\n",
              "      <td>0.117428</td>\n",
              "      <td>1212.000000</td>\n",
              "      <td>0</td>\n",
              "    </tr>\n",
              "    <tr>\n",
              "      <th>3</th>\n",
              "      <td>9000.000000</td>\n",
              "      <td>1309.050000</td>\n",
              "      <td>12.157324</td>\n",
              "      <td>0</td>\n",
              "      <td>3.0</td>\n",
              "      <td>0.501213</td>\n",
              "      <td>0.155973</td>\n",
              "      <td>0.513171</td>\n",
              "      <td>0.117428</td>\n",
              "      <td>515.000000</td>\n",
              "      <td>0</td>\n",
              "    </tr>\n",
              "    <tr>\n",
              "      <th>4</th>\n",
              "      <td>7650.000000</td>\n",
              "      <td>1125.000000</td>\n",
              "      <td>12.157324</td>\n",
              "      <td>0</td>\n",
              "      <td>2.0</td>\n",
              "      <td>0.294328</td>\n",
              "      <td>0.152076</td>\n",
              "      <td>0.513171</td>\n",
              "      <td>0.117428</td>\n",
              "      <td>162.000000</td>\n",
              "      <td>0</td>\n",
              "    </tr>\n",
              "    <tr>\n",
              "      <th>...</th>\n",
              "      <td>...</td>\n",
              "      <td>...</td>\n",
              "      <td>...</td>\n",
              "      <td>...</td>\n",
              "      <td>...</td>\n",
              "      <td>...</td>\n",
              "      <td>...</td>\n",
              "      <td>...</td>\n",
              "      <td>...</td>\n",
              "      <td>...</td>\n",
              "      <td>...</td>\n",
              "    </tr>\n",
              "    <tr>\n",
              "      <th>54020</th>\n",
              "      <td>16855.246324</td>\n",
              "      <td>675.000000</td>\n",
              "      <td>12.157324</td>\n",
              "      <td>1</td>\n",
              "      <td>2.0</td>\n",
              "      <td>0.501213</td>\n",
              "      <td>0.180635</td>\n",
              "      <td>0.513171</td>\n",
              "      <td>0.082500</td>\n",
              "      <td>0.000000</td>\n",
              "      <td>1</td>\n",
              "    </tr>\n",
              "    <tr>\n",
              "      <th>54021</th>\n",
              "      <td>11250.000000</td>\n",
              "      <td>675.000000</td>\n",
              "      <td>14.000000</td>\n",
              "      <td>0</td>\n",
              "      <td>3.0</td>\n",
              "      <td>0.409620</td>\n",
              "      <td>0.606002</td>\n",
              "      <td>0.513171</td>\n",
              "      <td>0.117428</td>\n",
              "      <td>466.000000</td>\n",
              "      <td>1</td>\n",
              "    </tr>\n",
              "    <tr>\n",
              "      <th>54022</th>\n",
              "      <td>13500.000000</td>\n",
              "      <td>900.000000</td>\n",
              "      <td>64.000000</td>\n",
              "      <td>0</td>\n",
              "      <td>2.0</td>\n",
              "      <td>0.162632</td>\n",
              "      <td>0.525412</td>\n",
              "      <td>0.513171</td>\n",
              "      <td>0.117428</td>\n",
              "      <td>962.106056</td>\n",
              "      <td>1</td>\n",
              "    </tr>\n",
              "    <tr>\n",
              "      <th>54023</th>\n",
              "      <td>11250.000000</td>\n",
              "      <td>2371.500000</td>\n",
              "      <td>12.157324</td>\n",
              "      <td>0</td>\n",
              "      <td>3.0</td>\n",
              "      <td>0.501213</td>\n",
              "      <td>0.664027</td>\n",
              "      <td>0.513171</td>\n",
              "      <td>0.117428</td>\n",
              "      <td>482.000000</td>\n",
              "      <td>1</td>\n",
              "    </tr>\n",
              "    <tr>\n",
              "      <th>54024</th>\n",
              "      <td>21060.000000</td>\n",
              "      <td>2459.250000</td>\n",
              "      <td>12.157324</td>\n",
              "      <td>0</td>\n",
              "      <td>2.0</td>\n",
              "      <td>0.339656</td>\n",
              "      <td>0.656468</td>\n",
              "      <td>0.513171</td>\n",
              "      <td>0.117428</td>\n",
              "      <td>0.000000</td>\n",
              "      <td>1</td>\n",
              "    </tr>\n",
              "  </tbody>\n",
              "</table>\n",
              "<p>54025 rows × 11 columns</p>\n",
              "</div>\n",
              "    <div class=\"colab-df-buttons\">\n",
              "\n",
              "  <div class=\"colab-df-container\">\n",
              "    <button class=\"colab-df-convert\" onclick=\"convertToInteractive('df-bd64ac98-6b99-4c1f-baab-255e56a645b3')\"\n",
              "            title=\"Convert this dataframe to an interactive table.\"\n",
              "            style=\"display:none;\">\n",
              "\n",
              "  <svg xmlns=\"http://www.w3.org/2000/svg\" height=\"24px\" viewBox=\"0 -960 960 960\">\n",
              "    <path d=\"M120-120v-720h720v720H120Zm60-500h600v-160H180v160Zm220 220h160v-160H400v160Zm0 220h160v-160H400v160ZM180-400h160v-160H180v160Zm440 0h160v-160H620v160ZM180-180h160v-160H180v160Zm440 0h160v-160H620v160Z\"/>\n",
              "  </svg>\n",
              "    </button>\n",
              "\n",
              "  <style>\n",
              "    .colab-df-container {\n",
              "      display:flex;\n",
              "      gap: 12px;\n",
              "    }\n",
              "\n",
              "    .colab-df-convert {\n",
              "      background-color: #E8F0FE;\n",
              "      border: none;\n",
              "      border-radius: 50%;\n",
              "      cursor: pointer;\n",
              "      display: none;\n",
              "      fill: #1967D2;\n",
              "      height: 32px;\n",
              "      padding: 0 0 0 0;\n",
              "      width: 32px;\n",
              "    }\n",
              "\n",
              "    .colab-df-convert:hover {\n",
              "      background-color: #E2EBFA;\n",
              "      box-shadow: 0px 1px 2px rgba(60, 64, 67, 0.3), 0px 1px 3px 1px rgba(60, 64, 67, 0.15);\n",
              "      fill: #174EA6;\n",
              "    }\n",
              "\n",
              "    .colab-df-buttons div {\n",
              "      margin-bottom: 4px;\n",
              "    }\n",
              "\n",
              "    [theme=dark] .colab-df-convert {\n",
              "      background-color: #3B4455;\n",
              "      fill: #D2E3FC;\n",
              "    }\n",
              "\n",
              "    [theme=dark] .colab-df-convert:hover {\n",
              "      background-color: #434B5C;\n",
              "      box-shadow: 0px 1px 3px 1px rgba(0, 0, 0, 0.15);\n",
              "      filter: drop-shadow(0px 1px 2px rgba(0, 0, 0, 0.3));\n",
              "      fill: #FFFFFF;\n",
              "    }\n",
              "  </style>\n",
              "\n",
              "    <script>\n",
              "      const buttonEl =\n",
              "        document.querySelector('#df-bd64ac98-6b99-4c1f-baab-255e56a645b3 button.colab-df-convert');\n",
              "      buttonEl.style.display =\n",
              "        google.colab.kernel.accessAllowed ? 'block' : 'none';\n",
              "\n",
              "      async function convertToInteractive(key) {\n",
              "        const element = document.querySelector('#df-bd64ac98-6b99-4c1f-baab-255e56a645b3');\n",
              "        const dataTable =\n",
              "          await google.colab.kernel.invokeFunction('convertToInteractive',\n",
              "                                                    [key], {});\n",
              "        if (!dataTable) return;\n",
              "\n",
              "        const docLinkHtml = 'Like what you see? Visit the ' +\n",
              "          '<a target=\"_blank\" href=https://colab.research.google.com/notebooks/data_table.ipynb>data table notebook</a>'\n",
              "          + ' to learn more about interactive tables.';\n",
              "        element.innerHTML = '';\n",
              "        dataTable['output_type'] = 'display_data';\n",
              "        await google.colab.output.renderOutput(dataTable, element);\n",
              "        const docLink = document.createElement('div');\n",
              "        docLink.innerHTML = docLinkHtml;\n",
              "        element.appendChild(docLink);\n",
              "      }\n",
              "    </script>\n",
              "  </div>\n",
              "\n",
              "\n",
              "    <div id=\"df-055a6328-ee56-4ab7-89c7-7d88dc58b928\">\n",
              "      <button class=\"colab-df-quickchart\" onclick=\"quickchart('df-055a6328-ee56-4ab7-89c7-7d88dc58b928')\"\n",
              "                title=\"Suggest charts\"\n",
              "                style=\"display:none;\">\n",
              "\n",
              "<svg xmlns=\"http://www.w3.org/2000/svg\" height=\"24px\"viewBox=\"0 0 24 24\"\n",
              "     width=\"24px\">\n",
              "    <g>\n",
              "        <path d=\"M19 3H5c-1.1 0-2 .9-2 2v14c0 1.1.9 2 2 2h14c1.1 0 2-.9 2-2V5c0-1.1-.9-2-2-2zM9 17H7v-7h2v7zm4 0h-2V7h2v10zm4 0h-2v-4h2v4z\"/>\n",
              "    </g>\n",
              "</svg>\n",
              "      </button>\n",
              "\n",
              "<style>\n",
              "  .colab-df-quickchart {\n",
              "      --bg-color: #E8F0FE;\n",
              "      --fill-color: #1967D2;\n",
              "      --hover-bg-color: #E2EBFA;\n",
              "      --hover-fill-color: #174EA6;\n",
              "      --disabled-fill-color: #AAA;\n",
              "      --disabled-bg-color: #DDD;\n",
              "  }\n",
              "\n",
              "  [theme=dark] .colab-df-quickchart {\n",
              "      --bg-color: #3B4455;\n",
              "      --fill-color: #D2E3FC;\n",
              "      --hover-bg-color: #434B5C;\n",
              "      --hover-fill-color: #FFFFFF;\n",
              "      --disabled-bg-color: #3B4455;\n",
              "      --disabled-fill-color: #666;\n",
              "  }\n",
              "\n",
              "  .colab-df-quickchart {\n",
              "    background-color: var(--bg-color);\n",
              "    border: none;\n",
              "    border-radius: 50%;\n",
              "    cursor: pointer;\n",
              "    display: none;\n",
              "    fill: var(--fill-color);\n",
              "    height: 32px;\n",
              "    padding: 0;\n",
              "    width: 32px;\n",
              "  }\n",
              "\n",
              "  .colab-df-quickchart:hover {\n",
              "    background-color: var(--hover-bg-color);\n",
              "    box-shadow: 0 1px 2px rgba(60, 64, 67, 0.3), 0 1px 3px 1px rgba(60, 64, 67, 0.15);\n",
              "    fill: var(--button-hover-fill-color);\n",
              "  }\n",
              "\n",
              "  .colab-df-quickchart-complete:disabled,\n",
              "  .colab-df-quickchart-complete:disabled:hover {\n",
              "    background-color: var(--disabled-bg-color);\n",
              "    fill: var(--disabled-fill-color);\n",
              "    box-shadow: none;\n",
              "  }\n",
              "\n",
              "  .colab-df-spinner {\n",
              "    border: 2px solid var(--fill-color);\n",
              "    border-color: transparent;\n",
              "    border-bottom-color: var(--fill-color);\n",
              "    animation:\n",
              "      spin 1s steps(1) infinite;\n",
              "  }\n",
              "\n",
              "  @keyframes spin {\n",
              "    0% {\n",
              "      border-color: transparent;\n",
              "      border-bottom-color: var(--fill-color);\n",
              "      border-left-color: var(--fill-color);\n",
              "    }\n",
              "    20% {\n",
              "      border-color: transparent;\n",
              "      border-left-color: var(--fill-color);\n",
              "      border-top-color: var(--fill-color);\n",
              "    }\n",
              "    30% {\n",
              "      border-color: transparent;\n",
              "      border-left-color: var(--fill-color);\n",
              "      border-top-color: var(--fill-color);\n",
              "      border-right-color: var(--fill-color);\n",
              "    }\n",
              "    40% {\n",
              "      border-color: transparent;\n",
              "      border-right-color: var(--fill-color);\n",
              "      border-top-color: var(--fill-color);\n",
              "    }\n",
              "    60% {\n",
              "      border-color: transparent;\n",
              "      border-right-color: var(--fill-color);\n",
              "    }\n",
              "    80% {\n",
              "      border-color: transparent;\n",
              "      border-right-color: var(--fill-color);\n",
              "      border-bottom-color: var(--fill-color);\n",
              "    }\n",
              "    90% {\n",
              "      border-color: transparent;\n",
              "      border-bottom-color: var(--fill-color);\n",
              "    }\n",
              "  }\n",
              "</style>\n",
              "\n",
              "      <script>\n",
              "        async function quickchart(key) {\n",
              "          const quickchartButtonEl =\n",
              "            document.querySelector('#' + key + ' button');\n",
              "          quickchartButtonEl.disabled = true;  // To prevent multiple clicks.\n",
              "          quickchartButtonEl.classList.add('colab-df-spinner');\n",
              "          try {\n",
              "            const charts = await google.colab.kernel.invokeFunction(\n",
              "                'suggestCharts', [key], {});\n",
              "          } catch (error) {\n",
              "            console.error('Error during call to suggestCharts:', error);\n",
              "          }\n",
              "          quickchartButtonEl.classList.remove('colab-df-spinner');\n",
              "          quickchartButtonEl.classList.add('colab-df-quickchart-complete');\n",
              "        }\n",
              "        (() => {\n",
              "          let quickchartButtonEl =\n",
              "            document.querySelector('#df-055a6328-ee56-4ab7-89c7-7d88dc58b928 button');\n",
              "          quickchartButtonEl.style.display =\n",
              "            google.colab.kernel.accessAllowed ? 'block' : 'none';\n",
              "        })();\n",
              "      </script>\n",
              "    </div>\n",
              "\n",
              "  <div id=\"id_6c844aa8-ab4f-407a-9320-76501c430940\">\n",
              "    <style>\n",
              "      .colab-df-generate {\n",
              "        background-color: #E8F0FE;\n",
              "        border: none;\n",
              "        border-radius: 50%;\n",
              "        cursor: pointer;\n",
              "        display: none;\n",
              "        fill: #1967D2;\n",
              "        height: 32px;\n",
              "        padding: 0 0 0 0;\n",
              "        width: 32px;\n",
              "      }\n",
              "\n",
              "      .colab-df-generate:hover {\n",
              "        background-color: #E2EBFA;\n",
              "        box-shadow: 0px 1px 2px rgba(60, 64, 67, 0.3), 0px 1px 3px 1px rgba(60, 64, 67, 0.15);\n",
              "        fill: #174EA6;\n",
              "      }\n",
              "\n",
              "      [theme=dark] .colab-df-generate {\n",
              "        background-color: #3B4455;\n",
              "        fill: #D2E3FC;\n",
              "      }\n",
              "\n",
              "      [theme=dark] .colab-df-generate:hover {\n",
              "        background-color: #434B5C;\n",
              "        box-shadow: 0px 1px 3px 1px rgba(0, 0, 0, 0.15);\n",
              "        filter: drop-shadow(0px 1px 2px rgba(0, 0, 0, 0.3));\n",
              "        fill: #FFFFFF;\n",
              "      }\n",
              "    </style>\n",
              "    <button class=\"colab-df-generate\" onclick=\"generateWithVariable('datos')\"\n",
              "            title=\"Generate code using this dataframe.\"\n",
              "            style=\"display:none;\">\n",
              "\n",
              "  <svg xmlns=\"http://www.w3.org/2000/svg\" height=\"24px\"viewBox=\"0 0 24 24\"\n",
              "       width=\"24px\">\n",
              "    <path d=\"M7,19H8.4L18.45,9,17,7.55,7,17.6ZM5,21V16.75L18.45,3.32a2,2,0,0,1,2.83,0l1.4,1.43a1.91,1.91,0,0,1,.58,1.4,1.91,1.91,0,0,1-.58,1.4L9.25,21ZM18.45,9,17,7.55Zm-12,3A5.31,5.31,0,0,0,4.9,8.1,5.31,5.31,0,0,0,1,6.5,5.31,5.31,0,0,0,4.9,4.9,5.31,5.31,0,0,0,6.5,1,5.31,5.31,0,0,0,8.1,4.9,5.31,5.31,0,0,0,12,6.5,5.46,5.46,0,0,0,6.5,12Z\"/>\n",
              "  </svg>\n",
              "    </button>\n",
              "    <script>\n",
              "      (() => {\n",
              "      const buttonEl =\n",
              "        document.querySelector('#id_6c844aa8-ab4f-407a-9320-76501c430940 button.colab-df-generate');\n",
              "      buttonEl.style.display =\n",
              "        google.colab.kernel.accessAllowed ? 'block' : 'none';\n",
              "\n",
              "      buttonEl.onclick = () => {\n",
              "        google.colab.notebook.generateWithVariable('datos');\n",
              "      }\n",
              "      })();\n",
              "    </script>\n",
              "  </div>\n",
              "\n",
              "    </div>\n",
              "  </div>\n"
            ],
            "application/vnd.google.colaboratory.intrinsic+json": {
              "type": "dataframe",
              "variable_name": "datos",
              "summary": "{\n  \"name\": \"datos\",\n  \"rows\": 54025,\n  \"fields\": [\n    {\n      \"column\": \"ingresos_cliente\",\n      \"properties\": {\n        \"dtype\": \"number\",\n        \"std\": 9658.762569130264,\n        \"min\": 2700.0,\n        \"max\": 450000.0,\n        \"num_unique_values\": 663,\n        \"samples\": [\n          11018.7,\n          38520.0,\n          17796.6\n        ],\n        \"semantic_type\": \"\",\n        \"description\": \"\"\n      }\n    },\n    {\n      \"column\": \"anualidad_prestamo\",\n      \"properties\": {\n        \"dtype\": \"number\",\n        \"std\": 1305.3647344874787,\n        \"min\": 218.7,\n        \"max\": 22500.0,\n        \"num_unique_values\": 8004,\n        \"samples\": [\n          5339.7,\n          5067.0,\n          5757.3\n        ],\n        \"semantic_type\": \"\",\n        \"description\": \"\"\n      }\n    },\n    {\n      \"column\": \"a\\u00f1os_casa_propia\",\n      \"properties\": {\n        \"dtype\": \"number\",\n        \"std\": 7.452120104984191,\n        \"min\": 0.0,\n        \"max\": 69.0,\n        \"num_unique_values\": 53,\n        \"samples\": [\n          11.0,\n          31.0,\n          32.0\n        ],\n        \"semantic_type\": \"\",\n        \"description\": \"\"\n      }\n    },\n    {\n      \"column\": \"telefono_trab\",\n      \"properties\": {\n        \"dtype\": \"number\",\n        \"std\": 0,\n        \"min\": 0,\n        \"max\": 1,\n        \"num_unique_values\": 2,\n        \"samples\": [\n          0,\n          1\n        ],\n        \"semantic_type\": \"\",\n        \"description\": \"\"\n      }\n    },\n    {\n      \"column\": \"evaluacion_ciudad\",\n      \"properties\": {\n        \"dtype\": \"number\",\n        \"std\": 0.49880682251877845,\n        \"min\": 1.0,\n        \"max\": 3.0,\n        \"num_unique_values\": 4,\n        \"samples\": [\n          3.0,\n          2.030038427084816\n        ],\n        \"semantic_type\": \"\",\n        \"description\": \"\"\n      }\n    },\n    {\n      \"column\": \"score_1\",\n      \"properties\": {\n        \"dtype\": \"number\",\n        \"std\": 0.14238945649917853,\n        \"min\": 0.014568132,\n        \"max\": 0.942680454,\n        \"num_unique_values\": 23062,\n        \"samples\": [\n          0.475611877,\n          0.435226091\n        ],\n        \"semantic_type\": \"\",\n        \"description\": \"\"\n      }\n    },\n    {\n      \"column\": \"score_2\",\n      \"properties\": {\n        \"dtype\": \"number\",\n        \"std\": 0.8759454878096079,\n        \"min\": 5e-06,\n        \"max\": 100.0,\n        \"num_unique_values\": 38047,\n        \"samples\": [\n          0.416306086,\n          0.675062411\n        ],\n        \"semantic_type\": \"\",\n        \"description\": \"\"\n      }\n    },\n    {\n      \"column\": \"score_3\",\n      \"properties\": {\n        \"dtype\": \"number\",\n        \"std\": 0.06272486372343226,\n        \"min\": 0.000527265,\n        \"max\": 0.869210801,\n        \"num_unique_values\": 612,\n        \"samples\": [\n          0.420610964,\n          0.168416171\n        ],\n        \"semantic_type\": \"\",\n        \"description\": \"\"\n      }\n    },\n    {\n      \"column\": \"score_social\",\n      \"properties\": {\n        \"dtype\": \"number\",\n        \"std\": 0.0761796573204536,\n        \"min\": 0.0,\n        \"max\": 1.0,\n        \"num_unique_values\": 1459,\n        \"samples\": [\n          0.1674,\n          0.6381\n        ],\n        \"semantic_type\": \"\",\n        \"description\": \"\"\n      }\n    },\n    {\n      \"column\": \"cambio_telefono\",\n      \"properties\": {\n        \"dtype\": \"number\",\n        \"std\": 818.1417090553241,\n        \"min\": 0.0,\n        \"max\": 4185.0,\n        \"num_unique_values\": 3408,\n        \"samples\": [\n          966.0,\n          3099.0\n        ],\n        \"semantic_type\": \"\",\n        \"description\": \"\"\n      }\n    },\n    {\n      \"column\": \"moroso\",\n      \"properties\": {\n        \"dtype\": \"number\",\n        \"std\": 0,\n        \"min\": 0,\n        \"max\": 1,\n        \"num_unique_values\": 2,\n        \"samples\": [\n          1,\n          0\n        ],\n        \"semantic_type\": \"\",\n        \"description\": \"\"\n      }\n    }\n  ]\n}"
            }
          },
          "metadata": {},
          "execution_count": 75
        }
      ]
    },
    {
      "cell_type": "code",
      "source": [
        "# segmentar nuestro conjunto de datos en nuestra base para poder obtener todos los atributos explicativos de mi variable de respuesta.\n",
        "X= datos.drop(columns='moroso',axis=1)          # X todas las variables explicativas, desde el ingreso del cliente hasta el cambio de teléfono.\n",
        "y = datos.moroso                                # Y va a ser únicamente la columna morosos."
      ],
      "metadata": {
        "id": "MikoMXI7P4dG"
      },
      "execution_count": 76,
      "outputs": []
    },
    {
      "cell_type": "code",
      "source": [
        "# modelo de clasificación de árbol\n",
        "from sklearn.tree import DecisionTreeClassifier\n",
        "\n",
        "# creamos el modelo\n",
        "# cuando no se pasa ningún parámetro da un puntaje de 100%\n",
        "modelo = DecisionTreeClassifier()    # .fit()se utiliza para entrenar un modelo a partir de las variables explicativas y la variable respuesta.\n",
        "modelo.fit(X,y)\n",
        "modelo.score(X,y)                   # la finalidad de comparar las predicciones realizadas por el modelo con los valores reales de los datos y calcula una tasa de acierto en porcentaje llamada exactitud.\n"
      ],
      "metadata": {
        "id": "_d_sqVJcQcGA",
        "outputId": "36948934-f95a-4b51-f159-4b0ce90bbf15",
        "colab": {
          "base_uri": "https://localhost:8080/"
        }
      },
      "execution_count": 77,
      "outputs": [
        {
          "output_type": "execute_result",
          "data": {
            "text/plain": [
              "1.0"
            ]
          },
          "metadata": {},
          "execution_count": 77
        }
      ]
    },
    {
      "cell_type": "code",
      "source": [
        "print(f'La exactitud del modelo es: {modelo.score(X,y)}')"
      ],
      "metadata": {
        "id": "hO2e9F_7TXPN",
        "outputId": "4c169f36-8b5f-4530-8139-9172bc7e53b8",
        "colab": {
          "base_uri": "https://localhost:8080/"
        }
      },
      "execution_count": 78,
      "outputs": [
        {
          "output_type": "stream",
          "name": "stdout",
          "text": [
            "La exactitud del modelo es: 1.0\n"
          ]
        }
      ]
    },
    {
      "cell_type": "markdown",
      "source": [
        "### Validando el modelo"
      ],
      "metadata": {
        "id": "EPrFcm39oAof"
      }
    },
    {
      "cell_type": "markdown",
      "source": [
        "Evaluar el modelo con los mismos datos utilizados en el entrenamiento no es recomendable. Es necesario que la evaluación se realice con datos independientes.  \n",
        "\n",
        "Evaluar el modelo con los propios datos de entrenamiento sería equivalente a entregar un examen con las preguntas y las respuestas a una persona y, al momento de evaluarla nuevamente, entregarle un examen con las mismas preguntas y opciones. Se espera que esa persona obtenga un buen resultado, ya que ya ha visto las respuestas y ha memorizado el resultado. Esto es diferente de haber aprendido la materia a partir de ese examen y luego presentar una prueba con contenido similar y obtener un resultado positivo.  \n",
        "\n",
        "Con el objetivo de verificar la capacidad de generalización de un modelo, debemos dividir el conjunto de datos en tres partes: datos de entrenamiento, validación y prueba.  \n",
        "\n",
        "- El **conjunto de entrenamiento** se utiliza para entrenar los modelos. A partir de este conjunto, los modelos identifican patrones en los datos.  \n",
        "\n",
        "- El **conjunto de validación** se emplea para evaluar el desempeño de diferentes modelos con datos nuevos que no fueron utilizados en el entrenamiento.  \n",
        "\n",
        "- El **conjunto de prueba** se mantiene separado desde el inicio para simular datos del mundo real. No se utiliza en ninguna etapa del entrenamiento ni de la validación, sirviendo como una estimación de la capacidad del modelo elegido para generalizar y predecir nuevos datos."
      ],
      "metadata": {
        "id": "v0u-uij9eNcD"
      }
    },
    {
      "cell_type": "markdown",
      "source": [
        "<a href=\"https://ibb.co/9H2Z1HZ5\"><img src=\"https://i.ibb.co/0yZs6ysb/datos-train-test.png\" alt=\"datos-train-test\" border=\"0\"></a>"
      ],
      "metadata": {
        "id": "TCIN5oOJFk_W"
      }
    },
    {
      "cell_type": "code",
      "source": [
        "from sklearn.model_selection import train_test_split   # separa en base de entrenamiento y en base de prueba\n"
      ],
      "metadata": {
        "id": "OICJjv9HP1QZ"
      },
      "execution_count": 79,
      "outputs": []
    },
    {
      "cell_type": "markdown",
      "source": [
        "Vamos a hacer primero la separación para el entrenamiento y validación y para prueba, y después vamos a hacer la separación de entrenamiento y validación efectivamente. ¿Cómo lo hacemos? Vamos a tomar nuestra X, nuestra X, Test, vamos a tomar nuestra Y y nuestra Y, Test que van a ser los de prueba y vamos a hacer lo siguiente Train, Test, Split. Vamos a introducirle nuestra X, nuestra Y, vamos a tomar una base de prueba Test, Size del 15%, 0.15 y vamos a utilizar el método Stratify.\n",
        "\n",
        "¿Cuál es el objetivo de hacer este Stratify? Que deje la misma cantidad de observaciones para morosos en los dos conjuntos de datos que estoy separando. ¿Qué quiere decir ello? Que si en mi conjunto de prueba tengo un 10% de morosos, también quiero que en mi conjunto de entrenamiento y validación exista un 10% de morosos. Entonces, esa es la idea y vamos a hacer este Stratify utilizando nuestra Y.\n",
        "\n",
        "Por último, vamos a establecer un estado de aleatoriedad RandomState y vamos a darle el número 5. El estado de aleatoriedad básicamente nos permite replicar esta misma división en cualquier momento, es decir, la forma en que voy a dividir mis muestras en este ejercicio podrá replicarse en cualquier máquina, porque siempre que utilice el RandomState 5 él va a dividir de la misma manera, por eso se llama un estado de pseudo aleatoriedad."
      ],
      "metadata": {
        "id": "LK2qnWIqTImH"
      }
    },
    {
      "cell_type": "markdown",
      "source": [
        "Vamos a hacer lo mismo pero para la validación. Entonces, vuelvo y tomo mi nueva X y mi nueva Y, ¿verdad? Y en vez de XTEST aquí voy a llamar XVAL y YVAL, ¿ok?\n",
        "\n",
        "Y aquí, en lugar de dejarlo como X, lo voy a cambiar a XTRAIN y en lugar de dejar Y así, lo voy a cambiar a YTRAIN. De esta manera, ya segmento mis datos para entrenamiento y para prueba. No voy a especificar el tamaño de la prueba porque por defecto es el 25%. Si observas aquí, indica que cuando no se aplica un tamaño de prueba, se configura al 25%, así que lo dejaré así."
      ],
      "metadata": {
        "id": "yWRRRFIAXdoD"
      }
    },
    {
      "cell_type": "code",
      "source": [
        "X,X_test,y,y_test = train_test_split(X,y,test_size=0.15,stratify=y,random_state=5)\n",
        "\n",
        "# lo mismo pero para la validación.\n",
        "X_train,X_val,y_train,y_val = train_test_split(X,y,stratify=y,random_state=5)\n"
      ],
      "metadata": {
        "id": "mvDcVFFDP1sB"
      },
      "execution_count": 80,
      "outputs": []
    },
    {
      "cell_type": "code",
      "source": [
        "# instanciamos el modelo,  no es la mejor forma.\n",
        "modelo = DecisionTreeClassifier()\n",
        "modelo.fit(X_train,y_train)\n",
        "print(f'La exactitud del modelo con el conjunto de entenamiento es: {modelo.score(X_train,y_train)}')\n",
        "print(f'La exactitud del modelo con el conjunto de validación es: {modelo.score(X_val,y_val)}')\n"
      ],
      "metadata": {
        "id": "sEJPwwG_P1Md",
        "outputId": "eaa95364-3893-43e5-8bac-bb3296d8a38c",
        "colab": {
          "base_uri": "https://localhost:8080/"
        }
      },
      "execution_count": 81,
      "outputs": [
        {
          "output_type": "stream",
          "name": "stdout",
          "text": [
            "La exactitud del modelo con el conjunto de entenamiento es: 1.0\n",
            "La exactitud del modelo con el conjunto de validación es: 0.8497517637836426\n"
          ]
        }
      ]
    },
    {
      "cell_type": "code",
      "source": [
        "# instanciamos el modelo de mejor manera, debemos colocar la profundidad para que no vaya hasta el final\n",
        "modelo = DecisionTreeClassifier(max_depth=10)\n",
        "modelo.fit(X_train,y_train)\n",
        "print(f'La exactitud del modelo con el conjunto de entenamiento es: {modelo.score(X_train,y_train)}')\n",
        "print(f'La exactitud del modelo con el conjunto de validación es: {modelo.score(X_val,y_val)}')"
      ],
      "metadata": {
        "id": "NIeGQZGcP1J1",
        "outputId": "108bdca4-a01c-4c63-83df-93ef0ac45be1",
        "colab": {
          "base_uri": "https://localhost:8080/"
        }
      },
      "execution_count": 82,
      "outputs": [
        {
          "output_type": "stream",
          "name": "stdout",
          "text": [
            "La exactitud del modelo con el conjunto de entenamiento es: 0.9206155632984901\n",
            "La exactitud del modelo con el conjunto de validación es: 0.9057573382109573\n"
          ]
        }
      ]
    },
    {
      "cell_type": "markdown",
      "source": [
        "Y ahora observa que ya con este parámetro, durante mi entrenamiento llegó a un 92% y la exactitud del modelo al momento de validarlo fue el 90%. ¿Cuál es la conclusión aquí? Está generalizando mejor. ¿Por qué? Porque no se está memorizando todas las salidas y únicamente ajustamos un parámetro.Entonces aquí ya comenzamos a encontrar el camino para poder hacer nuestra validación del modelo, pero ahora también nos falta evaluarlo."
      ],
      "metadata": {
        "id": "8SCoEc2GZ_Sp"
      }
    },
    {
      "cell_type": "markdown",
      "source": [
        "### Evaluando el modelo"
      ],
      "metadata": {
        "id": "WtlRAZt96VLG"
      }
    },
    {
      "cell_type": "code",
      "source": [
        "# importamos la matriz de confusión\n",
        "from sklearn.metrics import confusion_matrix"
      ],
      "metadata": {
        "id": "IlUZBhPrPyYh"
      },
      "execution_count": 83,
      "outputs": []
    },
    {
      "cell_type": "markdown",
      "source": [],
      "metadata": {
        "id": "ycFRmt8DchrM"
      }
    },
    {
      "cell_type": "markdown",
      "source": [
        "Crear una variable que llamaremos y_predicha. Y ella va a tomar nuestro último modelo, entonces vamos a hacer modelo.predict y vamos a hacer una predicción con la X de validación.\n",
        "\n",
        "Después vamos a crear nuestra matriz de confusión que va a tomar nuestra confusion_matrix, que recibe la Y de validación y la y_predicha. Entonces, hace esa comparación de los valores reales. La Y de validación es el valor real y la y_predicha es la que estamos prediciendo a través del modelo. Y vamos a hacer un print de la matriz de confusión."
      ],
      "metadata": {
        "id": "huUOo7LqdIHk"
      }
    },
    {
      "cell_type": "code",
      "source": [
        "# creamos una variable y ella toma el último modelo.\n",
        "y_previsto = modelo.predict(X_val)\n",
        "matriz_confusion = confusion_matrix(y_val,y_previsto)\n",
        "print(matriz_confusion)"
      ],
      "metadata": {
        "id": "iill3u5HPyOA",
        "outputId": "604f9949-fb49-411f-f498-ced19b420b62",
        "colab": {
          "base_uri": "https://localhost:8080/"
        }
      },
      "execution_count": 84,
      "outputs": [
        {
          "output_type": "stream",
          "name": "stdout",
          "text": [
            "[[10357   122]\n",
            " [  960    42]]\n"
          ]
        }
      ]
    },
    {
      "cell_type": "markdown",
      "source": [
        "Observa que me devolvió una matriz, pero no sé realmente estos valores. 10,356, 123, 957, 45. ¿Pero qué? ¿Qué es qué? Entonces, para ello vamos a continuar aquí importando recursos. From sklearn.metrics import confusion_matrix display, que nos va a permitir dibujar nuestra matriz de confusión."
      ],
      "metadata": {
        "id": "KPzQWjD2eC5z"
      }
    },
    {
      "cell_type": "code",
      "source": [
        "from sklearn.metrics import ConfusionMatrixDisplay"
      ],
      "metadata": {
        "id": "gtFWt6emPyJt"
      },
      "execution_count": 85,
      "outputs": []
    },
    {
      "cell_type": "markdown",
      "source": [
        "Vamos a crear una variable que llamaremos visualizacion y ella recibe nuestra matriz de confusión. Y vamos a dar visualizacion.plot(). Abrimos y cerramos paréntesis, colocamos punto y coma, porque si no tendríamos que importar matplotlib para hacer un plt.show. Aquí con el punto y coma ya directamente se abstrae esa parte.\n",
        "Tenemos nuestra matriz de confusión. En el eje Y tenemos los valores reales, 0 siendo cumplido, 1 siendo deudor. Y aquí en el eje X tenemos los valores previstos, 0 siendo cumplido y 1 siendo deudor."
      ],
      "metadata": {
        "id": "WMbPmwoZeIES"
      }
    },
    {
      "cell_type": "code",
      "source": [
        "visualizacion = ConfusionMatrixDisplay(matriz_confusion)\n",
        "visualizacion.plot();"
      ],
      "metadata": {
        "id": "qg0OgZeqPyGJ",
        "outputId": "600c657f-9ba1-4ae3-cf4e-d8503479a6cd",
        "colab": {
          "base_uri": "https://localhost:8080/",
          "height": 449
        }
      },
      "execution_count": 86,
      "outputs": [
        {
          "output_type": "display_data",
          "data": {
            "text/plain": [
              "<Figure size 640x480 with 2 Axes>"
            ],
            "image/png": "[encoded data removed]"
          },
          "metadata": {}
        }
      ]
    },
    {
      "cell_type": "markdown",
      "source": [
        "Voy a tomar aquí nuevamente, porque está un poco difícil aún de leer, y voy a colocar aquí los parámetros mejor. Confusion_matrix es igual a matriz de confusión. Y también voy a colocar los labels. Display_labels. Y los coloco en una lista de Python. Entonces, el primer label va a ser cumplido, que el cliente es cumplido, y el otro label va a ser deudor."
      ],
      "metadata": {
        "id": "y3Pmdf5PfkYp"
      }
    },
    {
      "cell_type": "code",
      "source": [
        "\n",
        "visualizacion = ConfusionMatrixDisplay(confusion_matrix = matriz_confusion,display_labels=['Cumplido','Moroso'])\n",
        "visualizacion.plot();\n"
      ],
      "metadata": {
        "id": "J2Fgk8bDe0E6",
        "outputId": "46f0a0bb-caec-43f2-ea87-ee9aae1419a9",
        "colab": {
          "base_uri": "https://localhost:8080/",
          "height": 449
        }
      },
      "execution_count": 87,
      "outputs": [
        {
          "output_type": "display_data",
          "data": {
            "text/plain": [
              "<Figure size 640x480 with 2 Axes>"
            ],
            "image/png": "[encoded data removed]"
          },
          "metadata": {}
        }
      ]
    },
    {
      "cell_type": "markdown",
      "source": [
        "**¿Qué quiere decir mi matriz de confusión?** Que de mi modelo, predijo cumplidos de todo el conjunto de datos, al momento de validar, más de 10,000 clientes de forma correcta. Sin embargo, hubo 957 clientes que mi modelo dijo que eran cumplidos, pero en realidad eran deudores. Es decir, 957 clientes fueron clasificados como clientes cumplidos, pero en realidad eran deudores.\n",
        "Entonces, existe un riesgo muy grande aquí. Y en este lado, ¿verdad? Lo mismo sucede con los morosos. Mi modelo indicó que 123 clientes eran morosos, cuando en realidad eran cumplidos. Y solo identificó a 45 de estos morosos, ¿verdad? Es decir, solo clasificó de manera efectiva a 45 clientes morosos como morosos. Y de manera efectiva, más de 10,000 clientes cumplidos como cumplidos."
      ],
      "metadata": {
        "id": "r00KkDH0gFLg"
      }
    },
    {
      "cell_type": "markdown",
      "source": [
        "Estos números aquí, digamos, son los que nos permitirán trabajar con nuestro modelo para mejorarlo. Porque definitivamente queremos priorizar los casos en los que nuestro cliente realmente es moroso. Y no decir, por ejemplo, que es un cliente moroso cuando en realidad es cumplido. Entonces, dejaría de prestarle a 123 personas o a 123 clientes que me iban a pagar bien. Y estoy prestando a 957 clientes que no me van a pagar bien. Entonces, aquí, digamos, se está asumiendo un riesgo muy grande. Potencialmente, ¿no? Estamos hablando potencialmente."
      ],
      "metadata": {
        "id": "2QqcX_C8giv4"
      }
    },
    {
      "cell_type": "markdown",
      "source": [
        "###**Entendiendo la matriz de confusión**\n",
        "\n",
        "Para obtener una evaluación más completa del desempeño de modelos de clasificación, podemos utilizar una herramienta conocida como matriz de confusión. Esta matriz ofrece ventajas a la persona científica de datos, ya que permite entender cuántos errores y aciertos tiene las predicciones de un modelo. En lugar de una tasa de acierto general, la matriz es capaz de proporcionar información en una visualización para cada una de las categorías de la variable objetivo.\n",
        "\n",
        "Piensa en un sistema de seguridad de un edificio que utiliza cámaras para identificar personas que entran. La \"matriz de confusión\" se vuelve valiosa, ya que permite verificar cuántas veces el sistema acertó al identificar correctamente a las personas autorizadas, cuántas veces acusó erróneamente a personas y cuántas veces dejó pasar a personas no autorizadas. Con estos números, es posible ajustar el sistema para minimizar falsos positivos y negativos, mejorando su precisión en la detección de visitantes.\n",
        "Las categorías de la variable objetivo están representadas por el valor 0 (ausencia del atributo), también llamado negativo, y por el valor 1 (presencia del atributo), también llamado positivo.\n",
        ".Verdaderos Negativos (VN): Cuando el valor real es 0 y la predicción también es 0. Indica que el modelo clasificó correctamente los valores de la clase negativa.\n",
        "\n",
        ".Falsos Positivos (FP): Cuando el valor real es 0 y la predicción es 1. Indica que el modelo clasificó erróneamente un elemento de la clase negativa como si fuera de la clase positiva.\n",
        "\n",
        ".Falsos Negativos (FN): Cuando el valor real es 1 y la predicción es 0. Indica que el modelo clasificó erróneamente un elemento de la clase positiva como si fuera de la clase negativa.\n",
        "\n",
        ".Verdaderos Positivos (VP): Cuando el valor real es 1 y la predicción también es 1. Indica que el modelo clasificó correctamente los valores de la clase positiva.\n",
        "\n",
        "Estos valores son muy útiles para un análisis más profundo del modelo de clasificación. Esto permite identificar las capacidades y limitaciones de la predicción, si hay un equilibrio entre los aciertos y errores o si el resultado está sesgado hacia una clase en detrimento de la otra. Con esto, es evidente que la matriz de confusión es una herramienta mucho más completa que la métrica de precisión, que representa solo el porcentaje de aciertos del modelo, sin considerar las clases de manera aislada.\n"
      ],
      "metadata": {
        "id": "N55UPwJAg6bv"
      }
    },
    {
      "cell_type": "markdown",
      "source": [
        "## <font color='dark'>Métricas de evaluación</h1>"
      ],
      "metadata": {
        "id": "tPogL-24ntSH"
      }
    },
    {
      "cell_type": "markdown",
      "source": [
        "### Exactitud, precisión y recall (sensibilidad)."
      ],
      "metadata": {
        "id": "nP1WfyyR6XMl"
      }
    },
    {
      "cell_type": "markdown",
      "source": [
        "Tenemos verdaderos negativos en este primer cuadrante, que son los casos donde el valor real era cero, es decir, cumplido, es un cliente cumplido, cero. Y el valor predicho era cero, es decir, verdadero negativo. Realmente este es un cliente cumplido, verdadero negativo, que fueron más de 10.000.\n",
        "\n",
        "También tenemos el caso donde el valor real era cero, pero yo predije que era un cliente moroso, entonces es un falso positivo, es decir, es un falso 1, es un falso moroso porque realmente este es cumplido. El falso positivo se conoce como error tipo 1.\n",
        "\n",
        "Además, en este tercer cuadrante tengo los valores reales cuando es moroso, es decir, cuando es 1. Entonces, 1, y mi modelo dijo que era cumplido, es decir, que era cero, entonces es un falso negativo, es decir, yo lo predije como cero, falsamente, falso negativo, entonces tengo un error tipo 2. Hubo 957 casos donde mi modelo dijo que eran clientes cumplidos cuando en realidad eran morosos.\n",
        "\n",
        "Este número es muy importante. Y también tenemos los verdaderos positivos, que son los casos en los cuales el modelo efectivamente predijo clientes morosos que sí realmente eran morosos, entonces nota que únicamente hubo 45. Ya viendo estos números sin necesidad de entrar en fórmulas, ya sé que mi modelo no está generalizando bien."
      ],
      "metadata": {
        "id": "NQN5Dh5TkJD7"
      }
    },
    {
      "cell_type": "markdown",
      "source": [
        "<a href=\"https://ibb.co/351SbY7t\"><img src=\"https://i.ibb.co/wZypqrRD/matriz-confusion.png\" alt=\"matriz-confusion\" border=\"0\"></a>"
      ],
      "metadata": {
        "id": "oE8N0NqoH6hy"
      }
    },
    {
      "cell_type": "markdown",
      "source": [
        "Las métricas que vamos a calcular, que son precisión, recall, y F1 score. Accuracy, o exactitud, que es la primera métrica que utilizamos que era score, ella únicamente suma verdaderos positivos y verdaderos negativos, es decir, suma estos 10,000, más de 10,000, más estos 45, y los divide en el total de observaciones, es decir, sumando todo, sumando todos estos cuadritos.\n",
        "\n",
        "Entonces, lógicamente, si aquí tengo 10,000 y aquí tengo 45 y únicamente le estoy sumando 1,000 más, entonces el número va a quedar alrededor del 90%, es decir, 10,000 sobre 11,000, ¿sí? , algo así. Entonces yo no voy a entrar aquí a hacer cálculos en mi mente, pero para que utilicemos los recursos de Scikit-learn, entonces vamos a importar estas métricas."
      ],
      "metadata": {
        "id": "x5uDPlXolNXB"
      }
    },
    {
      "cell_type": "markdown",
      "source": [
        "<a href=\"https://imgbb.com/\"><img src=\"https://i.ibb.co/6Jp6rKyC/Captura-de-tela-2025-03-22-120744.png\" alt=\"Captura-de-tela-2025-03-22-120744\" border=\"0\"></a>"
      ],
      "metadata": {
        "id": "k0ldCSgoZiPX"
      }
    },
    {
      "cell_type": "code",
      "source": [
        "from sklearn.metrics import accuracy_score, precision_score, recall_score,f1_score\n"
      ],
      "metadata": {
        "id": "IIEaf2fmPmq1"
      },
      "execution_count": 88,
      "outputs": []
    },
    {
      "cell_type": "markdown",
      "source": [
        "Qué es la precisión? Verdaderos positivos, es decir, true positive (verdadero positivo), 45, es decir, en 45 casos que él identificó que realmente eran morosos, dividido entre verdaderos positivos más falsos positivos, es decir, dividido entre este valor más este valor, entonces 45 sobre 45 más 123.\n",
        "Voy a hacerlo aquí a mano antes de usar la biblioteca."
      ],
      "metadata": {
        "id": "P91iL8f-nwKP"
      }
    },
    {
      "cell_type": "code",
      "source": [
        "# precisión\n",
        "45/(45+123)"
      ],
      "metadata": {
        "id": "QnGxEIrWPmbx",
        "outputId": "a81338a8-4183-4348-f8b9-e01d29ce4f24",
        "colab": {
          "base_uri": "https://localhost:8080/"
        }
      },
      "execution_count": 89,
      "outputs": [
        {
          "output_type": "execute_result",
          "data": {
            "text/plain": [
              "0.26785714285714285"
            ]
          },
          "metadata": {},
          "execution_count": 89
        }
      ]
    },
    {
      "cell_type": "markdown",
      "source": [
        "Tengo la precisión, tengo la sensibilidad, que es el mismo recall (recuerdo), voy a colocar aquí entre paréntesis recall. Entonces, ¿cómo es el recall? Aquí solo cambio, en vez de precisión, coloco recall, y la exactitud. Entonces, la exactitud aquí sería accuracy, del modelo es accuracy score. Entonces, voy a hacer esta impresión aquí. La precisión de mi modelo es exactamente el número que les mostré aquí, el mismo cálculo lo hizo para recall, la sensibilidad. ¿Qué quiere decir esto? Que tiene un 4% de sensibilidad. ¿Por qué? ¿Cómo calcula la sensibilidad? Toma los verdaderos positivos, ¿verdad? Y los divide entre el valor de verdaderos positivos más falsos negativos, o sea, 45 dividido entre 45 más 957.\n",
        "\n"
      ],
      "metadata": {
        "id": "zx1sOzcFna1n"
      }
    },
    {
      "cell_type": "code",
      "source": [
        "print(f'La precisión del modelo es: {precision_score(y_val,y_previsto)}')\n",
        "print(f'La sensibilidad (Recall)  del modelo es: {recall_score(y_val,y_previsto)}')\n",
        "print(f'La exactitud (accuracy) del modelo es: {accuracy_score(y_val,y_previsto)}')\n"
      ],
      "metadata": {
        "id": "7C7NoVZnPmX1",
        "outputId": "527ef432-e1bf-4bd2-93fa-f2ed6d9cd5d9",
        "colab": {
          "base_uri": "https://localhost:8080/"
        }
      },
      "execution_count": 90,
      "outputs": [
        {
          "output_type": "stream",
          "name": "stdout",
          "text": [
            "La precisión del modelo es: 0.25609756097560976\n",
            "La sensibilidad (Recall)  del modelo es: 0.041916167664670656\n",
            "La exactitud (accuracy) del modelo es: 0.9057573382109573\n"
          ]
        }
      ]
    },
    {
      "cell_type": "markdown",
      "source": [
        "Entonces, ¿qué quiere decir esto? Estoy prestando dinero, o la financiera, la empresa financiera está financiando a muchas personas morosas, entonces esto es un problema muy serio. La métrica de validación que se va a utilizar, la que vamos a mejorar es el recall. Queremos disminuir al máximo el error tipo 2, y vamos a ver solo como referencia el F1 score, solo para tenerlo como referencia"
      ],
      "metadata": {
        "id": "vD5KsQAIojZV"
      }
    },
    {
      "cell_type": "markdown",
      "source": [
        "Entonces, voy a copiar aquí, pegar, el F1 score del modelo, que penaliza a mi modelo. ¿Qué hace? Toma, ¿verdad? dos veces la precisión por el recall, dividido entre la precisión más el recall. Entonces, penaliza a mi modelo, voy a tener también seguramente un valor cercano, aquí puse accuracy, es el F1, un valor cercano a 0, ok. Entonces, 0.076, o sea, mientras más lejos de 1, quiere decir que el modelo está desempeñándose muy mal."
      ],
      "metadata": {
        "id": "FKE2p1VppfM1"
      }
    },
    {
      "cell_type": "code",
      "source": [
        "print(f'El F1-scorre del modelo es: {f1_score(y_val,y_previsto)}')"
      ],
      "metadata": {
        "id": "u2SqICFJPmU-",
        "outputId": "651d42a6-2fef-4fe9-944e-133fa474114e",
        "colab": {
          "base_uri": "https://localhost:8080/"
        }
      },
      "execution_count": 91,
      "outputs": [
        {
          "output_type": "stream",
          "name": "stdout",
          "text": [
            "El F1-scorre del modelo es: 0.07204116638078903\n"
          ]
        }
      ]
    },
    {
      "cell_type": "markdown",
      "source": [
        "###**Cuándo usar cada métrica**\n",
        "\n",
        "Evaluar de manera adecuada el desempeño de un modelo de machine learning es esencial para asegurar que el modelo está resolviendo el problema de negocio que necesita ser solucionado. Existen diversas métricas que pueden ser utilizadas para evaluar el desempeño de los modelos de clasificación, cada una de ellas tiene ventajas y limitaciones. Estas métricas se calculan a partir de la comparación entre las clasificaciones realizadas por el modelo y los valores reales de la base de datos. Por lo tanto, pueden ser extraídas a partir de una matriz de confusión. Las principales métricas de clasificación son:\n",
        "\n",
        "**Exactitud**\n",
        "\n",
        "Es la métrica más común y básica en problemas de clasificación. Se utiliza para medir la proporción de datos previstos correctamente por el modelo en relación al total de los datos. Esta métrica es útil cuando las clases de la variable objetivo están balanceadas, es decir, cuando hay una cantidad equilibrada de datos para cada clase y una importancia equivalente de clasificación entre las categorías. Como ejemplo de utilización, tenemos el reconocimiento de dígitos manuscritos. Podemos utilizar imágenes de caracteres de letras y números para entrenar un modelo de clasificación para identificar correctamente la escritura. Como cada letra o número no tiene una importancia mayor que los demás, la exactitud se convierte en una buena métrica para medir la capacidad del modelo en clasificar correctamente los dígitos.\n",
        "\n",
        "**Recuperación (recall)**\n",
        "\n",
        "Mide la proporción de datos positivos que fueron correctamente identificados por el modelo, es decir, revela la capacidad del modelo en evitar la clasificación incorrecta de datos positivos como negativos. Se usa cuando el riesgo o costo de clasificar falsos negativos es alto. Por ejemplo, en casos de diagnóstico de enfermedades graves, donde es fundamental detectar correctamente la presencia de la enfermedad.\n",
        "\n",
        "A continuación, podemos constatar el cálculo del recall a partir de la matriz de confusión. El recall solo toma en cuenta los valores positivos reales, es decir, los valores de la segunda fila de la matriz. Se calcula a partir de la división entre Verdaderos Positivos (VP) y la suma de todos los positivos reales (VP + FN).\n",
        "\n",
        "**Precisión**\n",
        "\n",
        "Mide la proporción de datos clasificados como positivos que son realmente positivos, es decir, revela la capacidad del modelo en evitar la clasificación incorrecta de datos negativos como positivos. Se usa cuando el riesgo o costo de clasificar falsos positivos es alto, por ejemplo, en casos de selección de acciones en el mercado financiero, donde lo importante es seleccionar acciones que tengan gran probabilidad de retorno, reduciendo la cantidad de acciones malas (falsos positivos) incluso si otras buenas acciones no han sido detectadas por el modelo (falso negativo). La precisión también es importante en el ejemplo de detección de enfermedades, donde queremos evitar que pacientes sanos sean erróneamente clasificados como enfermos.\n",
        "\n",
        "A continuación, podemos analizar el cálculo de la precisión a partir de la matriz de confusión. La precisión solo toma en cuenta los valores positivos previstos por el modelo, es decir, los valores de la segunda columna de la matriz. Se calcula a partir de la división entre Verdaderos Positivos (VP) y la suma de todos los positivos previstos (VP + FP).\n",
        "\n",
        "**F1-Score**\n",
        "\n",
        "Proporciona un equilibrio entre el recall y la precisión, siendo útil cuando las clases de la variable objetivo están desbalanceadas, es decir, cuando hay una cantidad de datos muy diferente para cada clase. Además, es aplicable cuando el riesgo o costo de falsos positivos y de falsos negativos es alto simultáneamente. En casos de detección de tumores en pacientes, es necesario tener un equilibrio entre evitar errores en la detección de tumores cuando la persona realmente los tiene y evitar errores al informar que una persona tiene un tumor cuando en realidad no lo tiene.\n",
        "\n",
        "El cálculo del F1-Score se realiza a partir de la media armónica entre la precisión y el recall. Por lo tanto, equivale a 2 veces la precisión por el recall, dividido por la suma entre la precisión y el recall"
      ],
      "metadata": {
        "id": "BViIMm9cp9s9"
      }
    },
    {
      "cell_type": "markdown",
      "source": [
        "### Curva ROC"
      ],
      "metadata": {
        "id": "I8ELhexg2jNx"
      }
    },
    {
      "cell_type": "markdown",
      "source": [
        "¿cómo se interpreta? Este color mostaza, que tengo aquí en mi gráfica, representa los verdaderos negativos. Este, que es como un mostaza más claro, falsos positivos. Este, azul, aguamarina, o azul claro, sería falsos negativos. Y este, azul, que es como un azul oscuro, verdadero positivo. Aquí tengo mi predictor. ¿Qué quiere decir esto? Este es como mi árbol de decisión de profundidad 10, que instancié y quedó así mi modelo.\n",
        "\n",
        "A través de las Características Operativas del Receptor, lo que hago es ajustar mi modelo para priorizar una métrica sobre la otra. Entonces, volviendo a nuestra gráfica de la Matriz de Confusión, tengo esta métrica que son los morosos, es decir, los verdaderos positivos. Quiero que cuando sean morosos, mi modelo sea capaz de hacer una previsión correcta de que es moroso. Pero mi modelo, únicamente predijo 45 personas morosas y hubo personas que eran morosas, ¿verdad? 957, casi el 95% de las observaciones del total de morosos de la base fueron clasificados como cumplidos.\n",
        "\n",
        "Entonces, ¿qué quiere decir esto? Que el 95% de las veces mi modelo está prestando a personas o potencialmente me va a llevar a hacer préstamos a personas que no van a pagar. Entonces, lo que quiero es disminuir el error tipo 2, es decir, aumentar mi puntaje de RECALL. Es decir, que tenga más identificados los morosos, es decir, que ya no sean 45, sino que en la medida de lo posible pueda maximizar la identificación o la clasificación de clientes morosos.\n",
        "\n",
        "¿Cuál es el trade-off o a cambio de qué? Entonces, nota que también tengo una tasa de falsos positivos, que es el error tipo 1. Entonces, aquí tengo falsos positivos, ¿verdad? Y en la medida que identifique más morosos, lógicamente, mi número de falsos positivos va a aumentar y el número de personas cumplidas, que fue clasificada como cumplida, es decir, verdaderos negativos, va a disminuir porque estos valores van a ser, es decir, la suma de todos estos valores no va a cambiar. Lo único que se va a modificar es la distribución, como los voy a dejar clasificados al final.\n",
        "\n",
        "Entonces, voy a disminuir a los cumplidos, los voy a volver falsos positivos para poder identificar a los morosos. Entonces, seguramente dejaré de recibir dinero de personas cumplidas, es decir, dejaré de hacer préstamos porque los voy a clasificar mal, siendo falsos positivos, a cambio de identificar a más morosos.\n",
        "\n",
        "Entonces, la curva ROC, volviendo nuevamente a este gráfico, pensemos que este azul oscuro son los verdaderos positivos, es decir, los morosos. Entonces, en la medida que identifique más morosos, nota que también comienzo a sacrificar de este lado a personas. Es decir, digamos, me vengo aquí, clasifiqué a los 900 morosos de forma correcta, pero si trazo esta recta hasta arriba, esto quiere decir que voy a tener toda esta cantidad de falsos positivos, ¿verdad?, de mi base.\n",
        "\n",
        "Entonces, si tengo una base de 10,000 personas, quiere decir que, para poder clasificar correctamente a mis 900 morosos, voy a sacrificar 9,000 personas de la base de datos que son cumplidas. Entonces, eso realmente es un problema, porque dejé de hacer préstamo a 9,000 personas para identificar a 900, tampoco es la idea. La idea es encontrar en qué parte dejo ajustado mi modelo, ¿verdad?, en qué parte coloco esta recta para maximizar mi RECALL sin, digamos, afectar la precisión de mi modelo.\n",
        "\n",
        "Entonces, el área bajo la curva, ¿verdad? Me ayuda a identificar este caso. Mientras más cerca esté a este lado, lógicamente, mejor para mi modelo, pero a cambio de qué, ¿verdad? ¿Cuál es el tradeoff (compensación)?\n",
        "\n",
        "La curva AUC, en el mejor de los casos, es 100%. De esta forma, con Python y Scikit-Learn, podemos medir cómo está la curva AUC de nuestro modelo."
      ],
      "metadata": {
        "id": "TEM0WQN0svCT"
      }
    },
    {
      "cell_type": "code",
      "source": [
        "from IPython.display import Image\n",
        "Image(url='https://raw.githubusercontent.com/dariyasydykova/open_projects/master/ROC_animation/animations/cutoff.gif')"
      ],
      "metadata": {
        "colab": {
          "base_uri": "https://localhost:8080/",
          "height": 422
        },
        "id": "PhUNE4Xm4MII",
        "outputId": "d12ac941-cb3e-4bef-d6be-b528e47aefcc"
      },
      "execution_count": 92,
      "outputs": [
        {
          "output_type": "execute_result",
          "data": {
            "text/html": [
              "<img src=\"https://raw.githubusercontent.com/dariyasydykova/open_projects/master/ROC_animation/animations/cutoff.gif\"/>"
            ],
            "text/plain": [
              "<IPython.core.display.Image object>"
            ]
          },
          "metadata": {},
          "execution_count": 92
        }
      ]
    },
    {
      "cell_type": "markdown",
      "source": [
        "Fuente: [paulvanderlaken.com](https://paulvanderlaken.com/2019/08/16/roc-auc-precision-and-recall-visually-explained/)\n",
        "\n",
        "\n"
      ],
      "metadata": {
        "id": "XK8_7Ruy32BT"
      }
    },
    {
      "cell_type": "code",
      "source": [
        "from sklearn.metrics import  RocCurveDisplay"
      ],
      "metadata": {
        "id": "FHc-8FjePhM6"
      },
      "execution_count": 93,
      "outputs": []
    },
    {
      "cell_type": "markdown",
      "source": [
        "La curva AUC, en el mejor de los casos, es 100%. De esta forma, con Python y Scikit-Learn, podemos medir cómo está la curva AUC de nuestro modelo.\n",
        "\n",
        "Entonces, from Scikit-Learn.metrics import curve, es ROC curve, ROC curve display, vamos a graficarlo. Aquí simplemente hacemos la curva ROC, ROC curve display from predictions, de la predicción que ya hicimos, y colocamos nuestra Y real, es decir, Y val, coma, nuestra Y prevista, Y previsto, y vamos a darle un título a nuestra gráfica, entonces, sería árbol de decisión. Y ponemos un punto y coma para que ya grafique.\n",
        "\n",
        "Observa, la curva ROC de nuestro modelo solo aumentó un poco en esta región, y ya se fue aquí recta. ¿Qué quiere decir esto? Mientras más cerca esté aquí, es decir, esto significa aleatoriedad, 50-50, es producto de la aleatoriedad. Entonces, esto tampoco sirve, quiere decir que el modelo no está generalizando ni encontrando a las personas, ni clasificando bien.\n",
        "\n",
        "Este modelo, lógicamente, con la curva ROC, a pesar de que diga que tiene una exactitud del 90%, queda claro que es un modelo deficiente."
      ],
      "metadata": {
        "id": "GLZfqfJZuLWI"
      }
    },
    {
      "cell_type": "code",
      "source": [
        "RocCurveDisplay.from_predictions(y_val,y_previsto,name='Arbol de Decisión');  # punto y coma para que grafique\n"
      ],
      "metadata": {
        "id": "V6Ua2rY3PhFt",
        "outputId": "65c3af33-6efd-4c05-abdc-7dea2b04ae26",
        "colab": {
          "base_uri": "https://localhost:8080/",
          "height": 451
        }
      },
      "execution_count": 94,
      "outputs": [
        {
          "output_type": "display_data",
          "data": {
            "text/plain": [
              "<Figure size 640x480 with 1 Axes>"
            ],
            "image/png": "[encoded data removed]"
          },
          "metadata": {}
        }
      ]
    },
    {
      "cell_type": "code",
      "source": [
        "from sklearn.metrics import roc_auc_score     # se llama ROC-AOC-score, porque ya tenemos la curva, ahora nos falta el puntaje.\n"
      ],
      "metadata": {
        "id": "LJE-yyWMPg8R"
      },
      "execution_count": 95,
      "outputs": []
    },
    {
      "cell_type": "markdown",
      "source": [
        "Aquí hacemos un print, printf, de formato, el área bajo la curva. ROC es, entonces, los puntos, abrimos y cerramos llaves, y colocamos ROC-AOC-score, y él también recibe la Y-real, que sería Y-val, y la Y-prevista, Y-previsto.\n",
        "\n",
        "Vemos que el valor es 0.516. Aquí ya lo redondeo a 0.52. Pero entonces, esta es una forma de validar nuestro modelo.\n"
      ],
      "metadata": {
        "id": "YR_r87r_voZd"
      }
    },
    {
      "cell_type": "code",
      "source": [
        "print(f'El área bajo la curva ROC es: {roc_auc_score(y_val,y_previsto)}')"
      ],
      "metadata": {
        "id": "7mtvjPHsPi1o",
        "outputId": "ddac1b1d-9aa2-40e7-dd55-943e6b51f9b5",
        "colab": {
          "base_uri": "https://localhost:8080/"
        }
      },
      "execution_count": 96,
      "outputs": [
        {
          "output_type": "stream",
          "name": "stdout",
          "text": [
            "El área bajo la curva ROC es: 0.5151369176905278\n"
          ]
        }
      ]
    },
    {
      "cell_type": "markdown",
      "source": [
        "### Curva de  precisión x sensibilidad"
      ],
      "metadata": {
        "id": "IztSEZfh7QFe"
      }
    },
    {
      "cell_type": "code",
      "source": [
        "Image(url='https://paulvanderlaken.com/wp-content/uploads/2019/08/roc.gif')"
      ],
      "metadata": {
        "colab": {
          "base_uri": "https://localhost:8080/",
          "height": 422
        },
        "id": "EJzfjuxa3fxD",
        "outputId": "d99cabc1-c524-4f52-a7bd-b6d9e65a8cca"
      },
      "execution_count": 97,
      "outputs": [
        {
          "output_type": "execute_result",
          "data": {
            "text/html": [
              "<img src=\"https://paulvanderlaken.com/wp-content/uploads/2019/08/roc.gif\"/>"
            ],
            "text/plain": [
              "<IPython.core.display.Image object>"
            ]
          },
          "metadata": {},
          "execution_count": 97
        }
      ]
    },
    {
      "cell_type": "markdown",
      "source": [
        "Fuente: [paulvanderlaken.com](https://paulvanderlaken.com/2019/08/16/roc-auc-precision-and-recall-visually-explained/)\n"
      ],
      "metadata": {
        "id": "bUoGCSUB4msC"
      }
    },
    {
      "cell_type": "markdown",
      "source": [
        "Aquí tengo diversos tipos de modelos de Machine Learning. Por ejemplo, un predictor clasifica de esta forma, otro predictor de esta forma, de esta forma, de esta forma. El predictor ideal es cuando logra aislar bien y determinar de forma perfecta o clasificar mejor de forma perfecta a cada categoría, entonces, morosos de un lado y cumplidos de otro. Supongamos que morosos es azul y cumplidos de rojo. El modelo ideal, es el que permite clasificarlos bien, y nota que la curva se acerca más a 1, mientras que cuando están sobrepuestos es todo producto de la aleatoriedad, puede ser el uno o el otro, entonces, por eso notas estos puntitos es cada una de las observaciones del modelo, entonces, cuando está sobrepuesto, quiere decir que está todo como aleatorio, está todo como mezclado.\n",
        "\n",
        "Entonces, aquí está todo mezclado y por eso queda este valor de área bajo la curva tan bajito, pero a medida que logramos aislar bien o separar bien cada una de estas clases, lógicamente, mi modelo va a ser mucho mejor."
      ],
      "metadata": {
        "id": "bJhsI5fjwWt1"
      }
    },
    {
      "cell_type": "code",
      "source": [
        "from sklearn.metrics import PrecisionRecallDisplay"
      ],
      "metadata": {
        "id": "7t20ira6Pcds"
      },
      "execution_count": 98,
      "outputs": []
    },
    {
      "cell_type": "code",
      "source": [
        "PrecisionRecallDisplay.from_predictions(y_val,y_previsto,name='Árbol de Decisión');  # punto y coma para gráficar\n"
      ],
      "metadata": {
        "id": "Drs3Z6RTPcTc",
        "outputId": "416a284b-7361-4e34-9410-9ceb950a51db",
        "colab": {
          "base_uri": "https://localhost:8080/",
          "height": 451
        }
      },
      "execution_count": 99,
      "outputs": [
        {
          "output_type": "display_data",
          "data": {
            "text/plain": [
              "<Figure size 640x480 with 1 Axes>"
            ],
            "image/png": "[encoded data removed]"
          },
          "metadata": {}
        }
      ]
    },
    {
      "cell_type": "markdown",
      "source": [
        "es una curva también que nos permite ver la precisión y el recall, entonces, mira cómo quedó, él quedó como más preciso nuestro modelo, aquí está el 26% que vimos de precisión y el 4% que tiene de recall, entonces, el árbol de decisión, o sea, el promedio, el promedio del average precision recall es 0.10, o sea, la idea es que el promedio quede en 1, pero 0.10 es deficiente."
      ],
      "metadata": {
        "id": "IBaOwnG1xKgk"
      }
    },
    {
      "cell_type": "code",
      "source": [
        "from sklearn.metrics import average_precision_score"
      ],
      "metadata": {
        "id": "DmhO5H5cPcOp"
      },
      "execution_count": 100,
      "outputs": []
    },
    {
      "cell_type": "code",
      "source": [
        "print(f'El score promedio de precisión vs recall es: {average_precision_score(y_val,y_previsto)}')\n",
        "# da 10 %"
      ],
      "metadata": {
        "id": "SS08sHDkPeaG",
        "outputId": "e0c74243-066b-4fdc-995d-54f7c50c96ea",
        "colab": {
          "base_uri": "https://localhost:8080/"
        }
      },
      "execution_count": 101,
      "outputs": [
        {
          "output_type": "stream",
          "name": "stdout",
          "text": [
            "El score promedio de precisión vs recall es: 0.0943510380247745\n"
          ]
        }
      ]
    },
    {
      "cell_type": "markdown",
      "source": [
        "### Informe de métricas"
      ],
      "metadata": {
        "id": "Bm2E6GEJDJLH"
      }
    },
    {
      "cell_type": "markdown",
      "source": [
        "Podemos también utilizar un recurso que es un informe de métricas, que va a traer todos estos resultados ya consolidados para que podamos analizar directamente desde un mismo lugar.\n",
        "El informe presenta la precisión, recall y f1-score de cada clase, además de devolver un promedio de estas métricas de forma general o ponderada en relación a la cantidad de datos de cada clase.\n",
        "\n",
        "Entonces, vamos a importarlo."
      ],
      "metadata": {
        "id": "bLDwRPQnzohJ"
      }
    },
    {
      "cell_type": "code",
      "source": [
        "from sklearn.metrics import classification_report"
      ],
      "metadata": {
        "id": "C85qunYhPZTJ"
      },
      "execution_count": 102,
      "outputs": []
    },
    {
      "cell_type": "code",
      "source": [
        "# instanciamos directamente\n",
        "print(classification_report(y_val,y_previsto))"
      ],
      "metadata": {
        "id": "pnN6QRlYPZQR",
        "outputId": "fff34fea-0224-440c-a519-bf3a95b25a25",
        "colab": {
          "base_uri": "https://localhost:8080/"
        }
      },
      "execution_count": 103,
      "outputs": [
        {
          "output_type": "stream",
          "name": "stdout",
          "text": [
            "              precision    recall  f1-score   support\n",
            "\n",
            "           0       0.92      0.99      0.95     10479\n",
            "           1       0.26      0.04      0.07      1002\n",
            "\n",
            "    accuracy                           0.91     11481\n",
            "   macro avg       0.59      0.52      0.51     11481\n",
            "weighted avg       0.86      0.91      0.87     11481\n",
            "\n"
          ]
        }
      ]
    },
    {
      "cell_type": "markdown",
      "source": [
        "Tenemos el siguiente informe. Tenemos el informe con la precisión, el recall o la sensibilidad, el score F1 y support, que es la cantidad de muestras que soportan estos valores. De entrada, tengo aquí la clase 0, que son las personas clientes cumplidas, ¿verdad? Y la clase 1, que son las personas clientes que no pagan, o sea, las morosas. Entonces, cumplidas es 0, morosas es 1.\n",
        "\n",
        "¿Qué sucede? Cuando hace este análisis, hace el cálculo basado en el total de observaciones, que son 11,481, ¿ok? Y nota que existe una clase predominante, que son las personas clientes buenas. O sea, más del 90% del conjunto de datos está compuesto por personas que pagan bien. Entonces, la tendencia del modelo, lógicamente, como es la clase mayor, es a clasificar correctamente a las personas clientes cumplidas, ¿ok?\n",
        "\n",
        "Por eso tengo una precisión de 0.92, ¿verdad? Porque está tomando 10,479 dividido entre 11,481, ¿ok? Entonces, tengo esta precisión alta para la clase 0, que son las cumplidas. Para la clase 1, estoy tomando 1,002 sobre 11,481. Entonces, por eso ya tengo un valor mucho menor. ¿Por qué? Porque ya estoy tomando una clase desbalanceada, ¿ok? Aquí, de entrada, veo que no tengo un equilibrio entre las clases. Entonces, eso puede, lógicamente, afectar mi modelado.\n",
        "\n",
        "Tengo los puntajes de precisión, de recall, para cada una de las clases. Y, como estamos trabajando con recall, nota que este recall de 0.04 es, pues, deficiente, muy bajo. Y la precisión, también, de 0.27, pues, muy mal, ¿ok? Entonces, este modelo, realmente, no identificó bien a las personas morosas, porque en las personas morosas es lo que estamos tratando de clasificar.\n",
        "\n",
        "También, en la parte inferior, tenemos la exactitud. A pesar de aparecer el puntaje de exactitud de 0.91, ¿verdad? Bajo F1 score, realmente, es la exactitud. O sea, está tomando, haciendo la medida, como los cálculos que previamente mostramos. Entonces, es del 91%, pero eso no quiere decir que mi modelo esté clasificando bien, ¿ok? Entonces, es un punto muy importante.\n",
        "\n",
        "También, tenemos el promedio general, ¿verdad? Que es lo que toma, es el valor de precisión. Lo suma y lo divide entre 2. Y lo mismo aquí para recall. Entonces, nota que el promedio general para la precisión es 0.59. Para recall, 0.52. El F1 es 0.51, siempre tomando como referencia las 11,500 muestras que tengo en el conjunto de entrenamiento y validación.\n",
        "Y el promedio ponderado, ¿verdad? Adicionalmente, tiene en cuenta las muestras, ¿ok? Entonces, en este caso, el promedio ponderado es calculado precisión veces soporte, ¿verdad? Dividido por la cantidad de muestras que hay. Y lo mismo para la clase 1. Entonces, precisión veces soporte dividido por la cantidad de muestras. Entonces, aquí, este desbalanceo hace que lleguemos a estos promedios ponderados que acaban favoreciendo la clase más frecuente, que serían las personas clientes cumplidas.\n",
        "Este informe de métricas es bastante útil. Sin embargo, no es la única manera de validar nuestros modelos. Hay, inclusive, otros pasos de validación muy interesantes, porque hasta el momento lo único que hemos hecho es validar este modelo inicial sin realizar ningún ajuste a él, sino entender muy bien las métricas que nos ofrece para, a partir de allí, entonces ver qué es lo que podemos hacer para mejorar nuestro modelo de clasificación."
      ],
      "metadata": {
        "id": "1vcWN2TSzlYA"
      }
    },
    {
      "cell_type": "markdown",
      "source": [
        "## <font color='dark'> Validación cruzada</h1>"
      ],
      "metadata": {
        "id": "SuxCy_oZZQxE"
      }
    },
    {
      "cell_type": "markdown",
      "source": [
        "### Usando KFold"
      ],
      "metadata": {
        "id": "17q2T0iRnzSg"
      }
    },
    {
      "cell_type": "markdown",
      "source": [
        "La validación del modelo de clasificación a partir de la separación de los datos en conjuntos de entrenamiento y validación hace que el resultado dependa en gran medida de esta división. Puede suceder que, de forma aleatoria, el patrón de los datos de validación sea diferente al de los datos de entrenamiento, lo que podría llevar a obtener un resultado mucho mejor o mucho peor que la realidad simplemente por suerte o mala suerte.  \n",
        "\n",
        "Teniendo esto en cuenta, es posible utilizar la **validación cruzada**, una estrategia más consistente y ampliamente utilizada en proyectos de *machine learning*.  \n",
        "\n",
        "En la validación cruzada, en lugar de separar los datos en entrenamiento y validación una sola vez, se dividen en varias partes de igual tamaño. En cada una de estas divisiones, se usa una parte para validación y todas las demás para entrenamiento. Este proceso se repite hasta que todas las partes hayan sido utilizadas tanto para validación como para entrenamiento.  \n",
        "\n",
        "Se generará un modelo para cada una de estas divisiones y la evaluación del desempeño se realizará promediando la métrica de cada modelo. Esto elimina la dependencia de la separación de los datos, ya que hay una mayor variación en la selección de los mismos y se obtiene un valor medio.  \n",
        "\n",
        "Generalmente, se utilizan 5 o 10 partes. Un número mayor no suele ser necesario, ya que implica un procesamiento más costoso, y valores menores ya ayudan a mitigar el problema de la selección de los datos."
      ],
      "metadata": {
        "id": "zjfYnDWJ6C2A"
      }
    },
    {
      "cell_type": "markdown",
      "source": [
        "<a href=\"https://ibb.co/KcBtshJR\"><img src=\"https://i.ibb.co/nq4X1mFZ/train-y-validacion.png\" alt=\"train-y-validacion\" border=\"0\"></a>"
      ],
      "metadata": {
        "id": "oSboV-QNMG__"
      }
    },
    {
      "cell_type": "code",
      "source": [
        "from sklearn.model_selection import KFold, cross_validate"
      ],
      "metadata": {
        "id": "TU8HYdzmPI7P"
      },
      "execution_count": 104,
      "outputs": []
    },
    {
      "cell_type": "markdown",
      "source": [
        " Hacemos la validación cruzada y el KFold. Lo siguiente es que vamos a recrear nuestro modelo. El modelo va a ser un clasificador de árbol de decisión Decision Tree Classifier y vamos a establecer la misma profundidad maxDepth igual a 10.\n",
        "\n",
        "Ahora sí vamos a crear nuestro KFold. Entonces, KF, vamos a llamarlo KF, es igual a KFold y nuestro KFold recibe lo siguiente. Él recibe la cantidad de divisiones nSplits que va a ser igual a 5. Él recibe también, si queremos, que se mezcle. Entonces, hacemos un shuffle igual a true. Hace un shuffling (mezcla) y, por último, él necesita un estado de aleatoriedad para poder reproducir esta misma división de los segmentos de datos para entrenamiento y para validación.\n",
        "\n",
        "Ahora viene la validación cruzada. Entonces, lo llamaremos crossValidation. Entonces, sería como mejor se ve resultadosCrossValidation que sería igual a crossValidate y que recibe él. Él va a recibir el modelo, que es el estimador. Entonces, va a ser el modelo, va a recibir nuestra X, va a recibir nuestra Y y va a recibir también, como queremos, esa validación cruzada. Y utilizamos nuestro KFold. Él nos devuelve un diccionario. Entonces, hago cvResultados.\n",
        "Él se demoró un poco porque él hace todas las iteraciones segmenta, inclusive él muestra el tiempo que demoró para hacer el fit del modelo. Entonces, demoró .43, .79, .43, .48, .33. Ahí está lo que demoró. Después, el tiempo que demoró para establecer el puntaje, ¿verdad? Y por último, el puntaje en sí.\n",
        "¿El puntaje cuál? La exactitud."
      ],
      "metadata": {
        "id": "pnOa8oX88aD5"
      }
    },
    {
      "cell_type": "code",
      "source": [
        "\n",
        "modelo = DecisionTreeClassifier(max_depth=10)\n",
        "kf = KFold(n_splits=5, shuffle=True,random_state=5)\n",
        "cv_resultado = cross_validate(modelo,X,y,cv=kf)\n",
        "cv_resultado"
      ],
      "metadata": {
        "id": "McSadnzDPI4G",
        "outputId": "ea3fe926-f4f6-47bb-c41a-8d69895663d0",
        "colab": {
          "base_uri": "https://localhost:8080/"
        }
      },
      "execution_count": 105,
      "outputs": [
        {
          "output_type": "execute_result",
          "data": {
            "text/plain": [
              "{'fit_time': array([0.2476294 , 0.2281723 , 0.22281647, 0.22721624, 0.24141097]),\n",
              " 'score_time': array([0.00345182, 0.00343466, 0.00331116, 0.00328088, 0.00339603]),\n",
              " 'test_score': array([0.91268372, 0.90733885, 0.90766551, 0.91343641, 0.89906359])}"
            ]
          },
          "metadata": {},
          "execution_count": 105
        }
      ]
    },
    {
      "cell_type": "markdown",
      "source": [
        " Se trata de la llave que se llama testScore. TestScore. Entonces, vemos aquí el resultado. Entonces, en cada una de las iteraciones. Por ejemplo, en este primer caso, el resultado fue 0.91. En este segundo caso, el resultado fue 0.90.\n",
        "\n",
        "Y así sucesivamente."
      ],
      "metadata": {
        "id": "ISnKx0GX9rSW"
      }
    },
    {
      "cell_type": "code",
      "source": [
        "cv_resultado['test_score']"
      ],
      "metadata": {
        "id": "o5oZ8-lhPIy_",
        "outputId": "57146d7e-0185-43c8-dd88-d3eb70c46405",
        "colab": {
          "base_uri": "https://localhost:8080/"
        }
      },
      "execution_count": 106,
      "outputs": [
        {
          "output_type": "execute_result",
          "data": {
            "text/plain": [
              "array([0.91268372, 0.90733885, 0.90766551, 0.91343641, 0.89906359])"
            ]
          },
          "metadata": {},
          "execution_count": 106
        }
      ]
    },
    {
      "cell_type": "markdown",
      "source": [
        " ¿Cómo estimo si está generalizando bien? ¿Y cuál es el intervalo de confianza? Entonces, necesito calcular el promedio. ¿Verdad? De todos estos valores. Que es la suma de todos estos resultados, dividido entre 5. Lógicamente, el promedio. Y después, la desviación estándar. ¿Sí? Entonces, con la desviación estándar, voy a calcular el intervalo de confianza. Que va a ser igual al promedio, menos dos veces la desviación estándar. ¿Verdad? Y esa es la parte inferior. Y la parte superior va a ser el promedio, más dos veces la desviación estándar. Y, lógicamente, asegurándonos de que la parte superior del intervalo de confianza no supere 1. Porque el valor máximo es el 100%. ¿Ok?"
      ],
      "metadata": {
        "id": "E6ZE6vSy-Rm-"
      }
    },
    {
      "cell_type": "markdown",
      "source": [
        "Vamos a hacer promedio. Entonces, promedio es igual a, precisamente, la media de este array. Entonces, mean. La desviación estándar. A ver. Mean. La desviación estándar. Vamos a ponerlo aquí. Desvío. STD. Va a ser igual también a CVResultado.STD. ¿Ok? Y ahora, vamos a colocar aquí mejor. Bueno, todo aquí en la parte inferior. No pasa nada. Print. Abrimos y cerramos paréntesis. Format. Entonces, colocamos el promedio de la exactitud es de los puntos. Entonces, colocamos promedio. Lo mismo vamos a colocar para la desviación estándar. La desviación estándar es de desvío estándar. Y, por último, aquí quedó como desvío. Listo.\n",
        "\n",
        "Y, por último, el intervalo de confianza. El intervalo de confianza es, aquí abro corchetes y coloco aquí una coma, vuelvo y abro llaves y coloco de nuevo corchete para cerrar. Entonces, dijimos que es el promedio menos dos veces la desviación estándar. Y la parte superior es el promedio más dos veces la desviación estándar. ¿Ok? Pero, puede ser que hay casos en los cuales el promedio es 0.99, o sea, está casi llegando al 100% y la desviación estándar es, por ejemplo, de 0.02. Entonces, ¿qué sucede? El intervalo de confianza va a superar el 1. Y eso no lo podemos permitir. El máximo es 1. Entonces, en el mejor de los casos va a ser 1. Entonces, voy a tomar el valor mínimo, ¿verdad? De este límite superior del intervalo de confianza."
      ],
      "metadata": {
        "id": "4Yus3_T7DDiZ"
      }
    },
    {
      "cell_type": "code",
      "source": [
        "promedio = cv_resultado['test_score'].mean()\n",
        "desvio_std = cv_resultado['test_score'].std()\n",
        "print(f'El promedio de la exactitud es de: {promedio}')\n",
        "print(f'El desvio típico es de: {desvio_std}')\n",
        "print(f'El intervalo de confianza es de: [{promedio-2*desvio_std},{min(promedio+2*desvio_std,1)}]')\n"
      ],
      "metadata": {
        "id": "ogVc_XdK-PPv",
        "outputId": "1140688a-1e84-4c30-ab5f-9259c196ea3d",
        "colab": {
          "base_uri": "https://localhost:8080/"
        }
      },
      "execution_count": 107,
      "outputs": [
        {
          "output_type": "stream",
          "name": "stdout",
          "text": [
            "El promedio de la exactitud es de: 0.9080376157725727\n",
            "El desvio típico es de: 0.005136014155211102\n",
            "El intervalo de confianza es de: [0.8977655874621505,0.9183096440829949]\n"
          ]
        }
      ]
    },
    {
      "cell_type": "markdown",
      "source": [
        "### Validación cruzada con sensibilidad"
      ],
      "metadata": {
        "id": "GAHrtLM2OCjO"
      }
    },
    {
      "cell_type": "markdown",
      "source": [
        "Vamos a hacer promedio. Entonces, promedio es igual a, precisamente, la media de este array. Entonces, mean. La desviación estándar. A ver. Mean. La desviación estándar. Vamos a ponerlo aquí. Desvío. STD. Va a ser igual también a CVResultado.STD. ¿Ok? Y ahora, vamos a colocar aquí mejor. Bueno, todo aquí en la parte inferior. No pasa nada. Print. Abrimos y cerramos paréntesis. Format. Entonces, colocamos el promedio de la exactitud es de los puntos. Entonces, colocamos promedio. Lo mismo vamos a colocar para la desviación estándar. La desviación estándar es de desvío estándar. Y, por último, aquí quedó como desvío. Listo.\n",
        "\n",
        "Y, por último, el intervalo de confianza. El intervalo de confianza es, aquí abro corchetes y coloco aquí una coma, vuelvo y abro llaves y coloco de nuevo corchete para cerrar. Entonces, dijimos que es el promedio menos dos veces la desviación estándar. Y la parte superior es el promedio más dos veces la desviación estándar. ¿Ok? Pero, puede ser que hay casos en los cuales el promedio es 0.99, o sea, está casi llegando al 100% y la desviación estándar es, por ejemplo, de 0.02. Entonces, ¿qué sucede? El intervalo de confianza va a superar el 1. Y eso no lo podemos permitir. El máximo es 1. Entonces, en el mejor de los casos va a ser 1. Entonces, voy a tomar el valor mínimo, ¿verdad? De este límite superior del intervalo de confianza."
      ],
      "metadata": {
        "id": "l13ZU1hQKe2b"
      }
    },
    {
      "cell_type": "code",
      "source": [
        "def intervalo_confianza(resultado):\n",
        "  promedio = resultado['test_score'].mean()\n",
        "  desvio_std = resultado['test_score'].std()\n",
        "  return(f'El intervalo de confianza es de: [{promedio-2*desvio_std},{min(promedio+2*desvio_std,1)}]')\n"
      ],
      "metadata": {
        "id": "Ywfsoe3_PLYZ"
      },
      "execution_count": 108,
      "outputs": []
    },
    {
      "cell_type": "markdown",
      "source": [
        "Creamos nuestra función y ahora vamos a hacer este mismo ejercicio con el mismo modelo. Copiamos, lo pegamos y aquí la diferencia es que vamos a dar el parámetro scoring y scoring va a ser recall. Entonces, de esta manera, estoy de nuevo creando mi modelo y voy a calcular este scoring con el recall directamente.\n",
        "\n",
        "Y nota que ya me da estos resultados de recall: 0.25, 0.21, 0.19, 0.14, 0.21. Entonces vamos a ver el intervalo de confianza. Entonces sería intervalo de confianza y este recibe como parámetro cv_resultados."
      ],
      "metadata": {
        "id": "GzV_Ib-EMGs_"
      }
    },
    {
      "cell_type": "code",
      "source": [
        "modelo = DecisionTreeClassifier(max_depth=10)\n",
        "kf = KFold(n_splits=5, shuffle=True,random_state=5)\n",
        "cv_resultado = cross_validate(modelo,X,y,cv=kf,scoring='recall')\n",
        "cv_resultado"
      ],
      "metadata": {
        "id": "PV3m-6IxPLMf",
        "outputId": "a8c0c00d-7661-4a52-8046-ec9101ea4ece",
        "colab": {
          "base_uri": "https://localhost:8080/"
        }
      },
      "execution_count": 109,
      "outputs": [
        {
          "output_type": "execute_result",
          "data": {
            "text/plain": [
              "{'fit_time': array([0.24317813, 0.22378659, 0.22318864, 0.23365545, 0.25311613]),\n",
              " 'score_time': array([0.00786519, 0.00578308, 0.00567174, 0.01274824, 0.00561714]),\n",
              " 'test_score': array([0.02906209, 0.01980198, 0.01845018, 0.01697128, 0.02543353])}"
            ]
          },
          "metadata": {},
          "execution_count": 109
        }
      ]
    },
    {
      "cell_type": "code",
      "source": [
        "intervalo_confianza(cv_resultado)"
      ],
      "metadata": {
        "id": "Y-gpgU7pPLJv",
        "outputId": "8ced4d2f-d765-4862-cd14-419771864235",
        "colab": {
          "base_uri": "https://localhost:8080/",
          "height": 36
        }
      },
      "execution_count": 110,
      "outputs": [
        {
          "output_type": "execute_result",
          "data": {
            "text/plain": [
              "'El intervalo de confianza es de: [0.012806332467243787,0.0310812904411783]'"
            ],
            "application/vnd.google.colaboratory.intrinsic+json": {
              "type": "string"
            }
          },
          "metadata": {},
          "execution_count": 110
        }
      ]
    },
    {
      "cell_type": "markdown",
      "source": [
        "Ejecutamos entonces aquí la validación cruzada para la sensibilidad. Funciona exactamente igual a los pasos anteriores y lo único que hacemos es colocar aquí el tipo de puntaje que vamos a utilizar que es el recall. Y nota que tiene un desvío estándar bastante grande porque varía de 0.13 a 0.27.\n",
        "\n",
        "Entonces, ese es el resultado para recall que fue la métrica que estábamos priorizando. Recuerda que este modelo sigue siendo deficiente, no hemos trabajado en mejorar el modelo. Lo único que hemos hecho hasta ahora es validarlo, utilizar diversas técnicas para la validación con diversas métricas de modo que podamos tomar acciones basados en los resultados que seamos data driven."
      ],
      "metadata": {
        "id": "zxDWMKKjMwFN"
      }
    },
    {
      "cell_type": "markdown",
      "source": [
        "### Estratificando los datos"
      ],
      "metadata": {
        "id": "-FAOYtNen4qJ"
      }
    },
    {
      "cell_type": "code",
      "source": [
        "datos['moroso'].value_counts()\n",
        "# son 49309 muestras como cumplidos y 4716 morosos"
      ],
      "metadata": {
        "id": "G6bPA6vaPN1A",
        "outputId": "c8d12fd0-bbb4-427f-a3f8-5d845ca1c79f",
        "colab": {
          "base_uri": "https://localhost:8080/",
          "height": 178
        }
      },
      "execution_count": 111,
      "outputs": [
        {
          "output_type": "execute_result",
          "data": {
            "text/plain": [
              "moroso\n",
              "0    49309\n",
              "1     4716\n",
              "Name: count, dtype: int64"
            ],
            "text/html": [
              "<div>\n",
              "<style scoped>\n",
              "    .dataframe tbody tr th:only-of-type {\n",
              "        vertical-align: middle;\n",
              "    }\n",
              "\n",
              "    .dataframe tbody tr th {\n",
              "        vertical-align: top;\n",
              "    }\n",
              "\n",
              "    .dataframe thead th {\n",
              "        text-align: right;\n",
              "    }\n",
              "</style>\n",
              "<table border=\"1\" class=\"dataframe\">\n",
              "  <thead>\n",
              "    <tr style=\"text-align: right;\">\n",
              "      <th></th>\n",
              "      <th>count</th>\n",
              "    </tr>\n",
              "    <tr>\n",
              "      <th>moroso</th>\n",
              "      <th></th>\n",
              "    </tr>\n",
              "  </thead>\n",
              "  <tbody>\n",
              "    <tr>\n",
              "      <th>0</th>\n",
              "      <td>49309</td>\n",
              "    </tr>\n",
              "    <tr>\n",
              "      <th>1</th>\n",
              "      <td>4716</td>\n",
              "    </tr>\n",
              "  </tbody>\n",
              "</table>\n",
              "</div><br><label><b>dtype:</b> int64</label>"
            ]
          },
          "metadata": {},
          "execution_count": 111
        }
      ]
    },
    {
      "cell_type": "code",
      "source": [
        "datos['moroso'].value_counts(normalize=True)   # vemos la proporción, el porcentaje\n",
        "\n",
        "# 91% clientes cumplidos y 9% clientes morosos"
      ],
      "metadata": {
        "id": "DklHMBxFLnuw",
        "outputId": "6294c9d7-5d6c-430e-a382-f0acf18c6a21",
        "colab": {
          "base_uri": "https://localhost:8080/",
          "height": 178
        }
      },
      "execution_count": 112,
      "outputs": [
        {
          "output_type": "execute_result",
          "data": {
            "text/plain": [
              "moroso\n",
              "0    0.912707\n",
              "1    0.087293\n",
              "Name: proportion, dtype: float64"
            ],
            "text/html": [
              "<div>\n",
              "<style scoped>\n",
              "    .dataframe tbody tr th:only-of-type {\n",
              "        vertical-align: middle;\n",
              "    }\n",
              "\n",
              "    .dataframe tbody tr th {\n",
              "        vertical-align: top;\n",
              "    }\n",
              "\n",
              "    .dataframe thead th {\n",
              "        text-align: right;\n",
              "    }\n",
              "</style>\n",
              "<table border=\"1\" class=\"dataframe\">\n",
              "  <thead>\n",
              "    <tr style=\"text-align: right;\">\n",
              "      <th></th>\n",
              "      <th>proportion</th>\n",
              "    </tr>\n",
              "    <tr>\n",
              "      <th>moroso</th>\n",
              "      <th></th>\n",
              "    </tr>\n",
              "  </thead>\n",
              "  <tbody>\n",
              "    <tr>\n",
              "      <th>0</th>\n",
              "      <td>0.912707</td>\n",
              "    </tr>\n",
              "    <tr>\n",
              "      <th>1</th>\n",
              "      <td>0.087293</td>\n",
              "    </tr>\n",
              "  </tbody>\n",
              "</table>\n",
              "</div><br><label><b>dtype:</b> float64</label>"
            ]
          },
          "metadata": {},
          "execution_count": 112
        }
      ]
    },
    {
      "cell_type": "markdown",
      "source": [
        "Si observamos rápidamente la cantidad de personas morosas y cumplidas, entonces voy a tomar mis datos, morosas y doy un valueCount (conteo de valores), entonces tengo 4.716 morosas y 49.309 cumplidas. Entonces, ¿qué significa esto? Que más del 90% de mis datos pertenecen a una misma clase y el resto a otra clase, por lo que mi dataframe está muy desequilibrado.\n",
        "Cuando hicimos estos splits, no nos aseguramos de que se mantuviera la misma proporción de muestras. Por ejemplo, en este split es probable que haya quedado el 5% de la clase morosa y el 95% de la clase cumplida y en este grupo podría haber quedado el 100% de la clase cumplida y nada de morosa. Entonces, corremos el riesgo de que nuestro algoritmo aún no esté haciendo una validación cruzada efectiva.\n",
        "Podemos utilizar otro recurso de Sklearn que es un método estratificado de KFold. Entonces, from sklearn.modelSelection import stratified kfold, lo importamos y los pasos son exactamente iguales a los que ya hemos realizado."
      ],
      "metadata": {
        "id": "69NRa-caObdl"
      }
    },
    {
      "cell_type": "code",
      "source": [
        "from sklearn.model_selection import StratifiedKFold"
      ],
      "metadata": {
        "id": "HONIpY1BPNzd"
      },
      "execution_count": 113,
      "outputs": []
    },
    {
      "cell_type": "code",
      "source": [
        "modelo = DecisionTreeClassifier(max_depth=10)\n",
        "skf = StratifiedKFold(n_splits=5, shuffle=True,random_state=5)\n",
        "cv_resultado = cross_validate(modelo,X,y,cv=skf,scoring='recall')\n",
        "cv_resultado"
      ],
      "metadata": {
        "id": "jCFRBhd_PNxT",
        "outputId": "eec3afaa-c60c-4413-a439-12c820edf9b6",
        "colab": {
          "base_uri": "https://localhost:8080/"
        }
      },
      "execution_count": 114,
      "outputs": [
        {
          "output_type": "execute_result",
          "data": {
            "text/plain": [
              "{'fit_time': array([0.22775578, 0.2240262 , 0.22824144, 0.24844933, 0.23129511]),\n",
              " 'score_time': array([0.00568151, 0.00544   , 0.00648975, 0.00560498, 0.00581765]),\n",
              " 'test_score': array([0.03491272, 0.02746567, 0.02992519, 0.02369077, 0.02493766])}"
            ]
          },
          "metadata": {},
          "execution_count": 114
        }
      ]
    },
    {
      "cell_type": "markdown",
      "source": [
        "En vez de utilizar kfold va a ser stratified kfold. Entonces, stratified kfold, la misma cantidad de splits, que también haga el shuffling y el random state igual a 5.\n",
        "\n",
        "Aquí estoy garantizando que la proporción de cada clase se mantenga. Quiero que en todos estos grupos, independientemente de cómo queden, todos tengan un porcentaje aproximado de la clase morosa. Si, por ejemplo, quedó el 10% moroso en cada uno de los grupos, entonces, estaría bien.\n",
        "Por último, hacemos esta validación, utilizamos el SKF (nuestro stratified kfold) y lo almacenamos en resultados.\n"
      ],
      "metadata": {
        "id": "39S0L8_qP5Tw"
      }
    },
    {
      "cell_type": "code",
      "source": [
        "intervalo_confianza(cv_resultado)"
      ],
      "metadata": {
        "id": "Eq84F2egRBKz",
        "outputId": "7f6e1b09-1482-48c5-82a9-77f200513eb4",
        "colab": {
          "base_uri": "https://localhost:8080/",
          "height": 36
        }
      },
      "execution_count": 115,
      "outputs": [
        {
          "output_type": "execute_result",
          "data": {
            "text/plain": [
              "'El intervalo de confianza es de: [0.020208872394152293,0.03616392843772556]'"
            ],
            "application/vnd.google.colaboratory.intrinsic+json": {
              "type": "string"
            }
          },
          "metadata": {},
          "execution_count": 115
        }
      ]
    },
    {
      "cell_type": "markdown",
      "source": [
        "Aquí no necesitamos ver los resultados directamente, sino que podemos ya utilizar nuestra función de intervalo de confianza. Entonces, intervalo confianza va a recibir los resultados, se ven resultados, entonces, ejecutamos nuestra celda y notamos que el intervalo de confianza, lógicamente, tuvo un cambio significativo porque en el primer caso la variación fue de 0.13 a 0.27 y en este caso ya fue de 0.012 a 0.030.\n",
        "Entonces, el desvío típico aumentó, pero a principio, estoy obteniendo un intervalo de confianza con una variación que con este modelo puede presentar una puntuación de recall que va a variar entre el 0.018, o sea, 1.2%, casi 2% y el 3.9 %, no puede esperar más de ello con este modelo.\n",
        "Aquí notamos un detalle muy interesante y es que estamos lidiando con un conjunto de datos desequilibrado, un conjunto de datos en el que tengo 50.000 registros que son personas cumplidas y tengo casi 5.000 que son personas morosas. Entonces, detectar a estas personas morosas de esta forma es muy difícil. ¿Qué estrategia podríamos implementar, entonces, para mejorar nuestra previsión?"
      ],
      "metadata": {
        "id": "O2j1ECKgRCfg"
      }
    },
    {
      "cell_type": "markdown",
      "source": [
        "###**Otros métodos de validación**\n",
        "\n",
        "**GroupKFold**\n",
        "\n",
        "El método GroupKFold es una variación de la validación cruzada KFold tradicional y se utiliza cuando los datos tienen alguna estructura de grupo o dependencia que no debe ser rota, generalmente una característica en una de las columnas de la base de datos.\n",
        "\n",
        "Este enfoque utiliza una estrategia de separación de los datos para que los registros pertenecientes a un grupo específico se mantengan juntos durante las divisiones del KFold, garantizando que no sean separados entre los conjuntos de entrenamiento y validación. Esto es útil para evitar posibles sesgos y garantizar que el modelo generalice para grupos desconocidos, es decir, incluso si no hay datos del grupo en el conjunto de entrenamiento, el modelo deberá tener un buen desempeño al predecir el resultado para los datos de ese grupo.\n",
        "\n",
        "**Leave-p-out**\n",
        "\n",
        "El método Leave-p-out funciona de manera diferente al método KFold. En lugar de dividir el conjunto de datos en una cantidad fija de conjuntos, se elegirá una cantidad 'p' de elementos para ser dejados fuera del entrenamiento. Los datos se entrenarán en el resto y se validarán solo en los 'p' elementos. Este proceso se repite hasta que todos los datos se utilicen como datos de validación. El resultado final puede considerarse el promedio de los resultados obtenidos en los modelos, tal como se hace en la validación cruzada tradicional.\n",
        "\n",
        "Esto proporciona una validación mucho más completa, ya que considera todas las combinaciones posibles de datos de entrenamiento y validación. Sin embargo, es mucho más costosa computacionalmente, ya que se crearán muchos modelos y esto aumenta a medida que el conjunto de datos es muy grande y el valor elegido para 'p' es pequeño.\n",
        "\n",
        "**Leave-one-out**\n",
        "\n",
        "El método Leave-one-out es una forma especial del Leave-p-out, donde se elige el valor de p=1. De esta manera, solo se reserva una muestra para validación y todos los demás datos se eligen para entrenamiento. Este proceso se repite para todas las muestras de la base de datos. Esto significa que, si hay 1000 filas en la base de datos, se entrenarán 1000 modelos distintos.\n",
        "\n",
        "Se espera que este método demande mucho computacionalmente, debido a la creación de un modelo para cada fila de la base de datos. Por lo tanto, se indica solo en los casos en que la base de datos es muy pequeña. En estas situaciones, es interesante utilizar la mayor cantidad de datos posible para el entrenamiento, para que el modelo pueda entender el patrón de los datos. Otra estrategia de validación cruzada eliminaría muchos datos que serían útiles en el entrenamiento.\n",
        "\n",
        "Si deseas saber más sobre otros métodos de validación disponibles en la biblioteca Scikit-Learn, puedes consultar la documentación https://scikit-learn.org/stable/modules/cross_validation.htmlValidación (Validación cruzada: evaluando el desempeño del estimador).\n",
        "\n",
        "Si quieres crear una visualización para tener un mejor entendimiento de cómo se realizó la división de los datos en algún proyecto, ya sea con KFold, StratifiedKFold o GroupKFold, puedes explorar la documentación Visualizando el comportamiento de validación cruzada en scikit-learn."
      ],
      "metadata": {
        "id": "TS7hznjXSs9w"
      }
    },
    {
      "cell_type": "markdown",
      "source": [
        "## <font color='dark'>Balanceo de los datos</h1>"
      ],
      "metadata": {
        "id": "yaVwNb1kn8sX"
      }
    },
    {
      "cell_type": "markdown",
      "source": [
        " Nos encontramos ante una situación en la que nuestro conjunto de datos está desbalanceado. ¿A qué me refiero con esto? Hay una clase predominante, que es la clase \"cumplido\", cuando los clientes pagan puntualmente su obligación, y lógicamente es más del 90%. De hecho, en nuestro conjunto de datos pudimos observar que hay 49.000 muestras que aparecen como \"cumplidos\" y 4.700 que aparecen como \"morosos\".\n",
        " Existe un mecanismo que es el balanceo de los datos, donde trato de aplicar técnicas que me permitan identificar mejor esta frontera de decisión, que es donde voy a establecer si el cliente es \"moroso\" o si es \"cumplido\". Y la idea es llegar de la forma más precisa posible a esta frontera de decisión para que la financiera de automóviles no pierda dinero.\n",
        "\n",
        "Una de las primeras técnicas, que es la que vamos a discutir a continuación, es el oversampling (sobremuestreo). ¿Qué significa esto? Que voy a generar datos sintéticos a partir de la clase que es la minoría, que sería \"morosos\". Entonces, si quiero generar datos sintéticos a partir de esa minoría, lógicamente podría hacerlo generando datos aleatorios con tal de que me acerque en la medida de las posibilidades al total de muestras que corresponde con los clientes \"cumplidos\".\n",
        "\n",
        "Bajo esta situación, si lo hago de forma aleatoria, es la forma más inocente de hacerlo, ¿verdad? No creo que sea lo más efectivo. Y para ello, podemos apoyarnos en este recurso de la biblioteca Imbalanced Learn, que es SMOTE. Del módulo Imbalanced Learn, traemos SMOTE, que genera estos datos sintéticos de la minoría a partir de un algoritmo que fue desarrollado hace más de 20 años, cuando se estaba trabajando bastante con inteligencia artificial."
      ],
      "metadata": {
        "id": "15Ifz76ZLdPQ"
      }
    },
    {
      "cell_type": "markdown",
      "source": [
        "### Oversampling"
      ],
      "metadata": {
        "id": "4eYKxWJd6g6w"
      }
    },
    {
      "cell_type": "markdown",
      "source": [
        "https://imbalanced-learn.org/stable/references/generated/imblearn.over_sampling.SMOTE.html#id1"
      ],
      "metadata": {
        "id": "N0MJ7hGUmL4l"
      }
    },
    {
      "cell_type": "code",
      "source": [
        "from imblearn.over_sampling import SMOTE"
      ],
      "metadata": {
        "id": "cO0Dx5xAO4B5"
      },
      "execution_count": 116,
      "outputs": []
    },
    {
      "cell_type": "markdown",
      "source": [
        "Traemos SMOTE, así en mayúscula. Después lo instanciamos. Entonces, colocamos oversampling. Vamos a decir que nuestro oversampling es SMOTE directamente. Nuestra clase SMOTE. Y ahora vamos a crear nuestra X balanceada y nuestra Y balanceada.\n",
        "\n",
        "Entonces, X balanceada, Y balanceada, va a ser igual a oversampling y vamos a aplicarle el método fitResample. Y nuestro método fitResample va a recibir a nuestra X y a nuestra Y. De esta manera ya creo mis datos aquí, mis muestras balanceadas, y puedo ahora, a partir de aquí, ver cómo quedó mi Y balanceada."
      ],
      "metadata": {
        "id": "s5ZQpnA2Ozt0"
      }
    },
    {
      "cell_type": "code",
      "source": [
        "# lo instanciamos\n",
        "oversampling = SMOTE()\n",
        "X_balanceada,y_balanceada = oversampling.fit_resample(X,y)"
      ],
      "metadata": {
        "id": "h6DQqcttO3_c"
      },
      "execution_count": 117,
      "outputs": []
    },
    {
      "cell_type": "code",
      "source": [
        "y_balanceada.value_counts(normalize=True)   # vemos como quedó la y_balanceada\n",
        "\n",
        "# moroso quedó en 50 % y como 50 % clientes morosos en sí"
      ],
      "metadata": {
        "id": "dQcZ2ie_ONGu",
        "outputId": "3d38cc55-e94d-4c05-b0b1-dffcee193663",
        "colab": {
          "base_uri": "https://localhost:8080/",
          "height": 178
        }
      },
      "execution_count": 118,
      "outputs": [
        {
          "output_type": "execute_result",
          "data": {
            "text/plain": [
              "moroso\n",
              "0    0.5\n",
              "1    0.5\n",
              "Name: proportion, dtype: float64"
            ],
            "text/html": [
              "<div>\n",
              "<style scoped>\n",
              "    .dataframe tbody tr th:only-of-type {\n",
              "        vertical-align: middle;\n",
              "    }\n",
              "\n",
              "    .dataframe tbody tr th {\n",
              "        vertical-align: top;\n",
              "    }\n",
              "\n",
              "    .dataframe thead th {\n",
              "        text-align: right;\n",
              "    }\n",
              "</style>\n",
              "<table border=\"1\" class=\"dataframe\">\n",
              "  <thead>\n",
              "    <tr style=\"text-align: right;\">\n",
              "      <th></th>\n",
              "      <th>proportion</th>\n",
              "    </tr>\n",
              "    <tr>\n",
              "      <th>moroso</th>\n",
              "      <th></th>\n",
              "    </tr>\n",
              "  </thead>\n",
              "  <tbody>\n",
              "    <tr>\n",
              "      <th>0</th>\n",
              "      <td>0.5</td>\n",
              "    </tr>\n",
              "    <tr>\n",
              "      <th>1</th>\n",
              "      <td>0.5</td>\n",
              "    </tr>\n",
              "  </tbody>\n",
              "</table>\n",
              "</div><br><label><b>dtype:</b> float64</label>"
            ]
          },
          "metadata": {},
          "execution_count": 118
        }
      ]
    },
    {
      "cell_type": "markdown",
      "source": [
        "Y el siguiente paso es simplemente instanciar de nuevo nuestro modelo. ¿De acuerdo? Voy a copiarlo, pegarlo aquí en la parte inferior. Este se ejecutó. De nuevo voy a copiarlo, copiar, voy a pegar. Y en este caso no vamos a colocar X y Y, sino que vamos a colocar X balanceada y Y balanceada. ¿De acuerdo? Pero para el mismo modelo."
      ],
      "metadata": {
        "id": "n5JaRChAQoQq"
      }
    },
    {
      "cell_type": "code",
      "source": [
        "# instanciamos el modelo\n",
        "modelo = DecisionTreeClassifier(max_depth=10)\n",
        "skf = StratifiedKFold(n_splits=5, shuffle=True,random_state=5)\n",
        "cv_resultado = cross_validate(modelo,X_balanceada,y_balanceada,cv=skf,scoring='recall')\n"
      ],
      "metadata": {
        "id": "7Lp4GoMRO355"
      },
      "execution_count": 119,
      "outputs": []
    },
    {
      "cell_type": "markdown",
      "source": [
        "Y ahora vamos a ver qué sucedió. Intervalo de confianza. Y vamos a colocar nuestros resultados que ya son, esta variable CVResultados está almacenando los datos del oversampling (sobremuestreo). ¿De acuerdo? Entonces, observa que nuestro modelo aquí haciendo este ejercicio con Smote, ya nos trae unas métricas totalmente diferentes y que nos hacen, digamos, sorprendernos muchísimo con un resultado que pasó del 2% de recall al 70%. O sea, el intervalo de confianza, lo que puedo esperar de este modelo aquí, de esta manera como fue entrenado con oversampling, es que mi modelo generalice entre el 70% y el 75%."
      ],
      "metadata": {
        "id": "s1Iver4TR2xi"
      }
    },
    {
      "cell_type": "code",
      "source": [
        "intervalo_confianza(cv_resultado)"
      ],
      "metadata": {
        "id": "JEDFso5XQ_85",
        "outputId": "b2138f86-b86e-4c0b-f08a-8289e38eb7fb",
        "colab": {
          "base_uri": "https://localhost:8080/",
          "height": 36
        }
      },
      "execution_count": 120,
      "outputs": [
        {
          "output_type": "execute_result",
          "data": {
            "text/plain": [
              "'El intervalo de confianza es de: [0.6886042435148216,0.7279839516864459]'"
            ],
            "application/vnd.google.colaboratory.intrinsic+json": {
              "type": "string"
            }
          },
          "metadata": {},
          "execution_count": 120
        }
      ]
    },
    {
      "cell_type": "markdown",
      "source": [
        "Pero, digamos, ¿qué tan confiable es este ejercicio? Porque generamos más de 40.000 datos o alrededor de 40.000 datos de forma sintética. ¿De acuerdo? Entonces, es un aspecto que debe ser considerado cuidadosamente.\n",
        "\n",
        "Sin embargo, todo esto lo hemos ido realizando de forma muy manual y podríamos simplemente generar una pipeline (tubería), ¿verdad? Que sería como un flujo de trabajo, una serie de tareas que se ejecuten de forma secuencial para llegar a esta validación de nuestro modelo como la estamos realizando de forma exhaustiva."
      ],
      "metadata": {
        "id": "Lug-2UrgSG9H"
      }
    },
    {
      "cell_type": "markdown",
      "source": [
        "###**Para saber más: balanceo de datos**\n",
        "\n",
        "**Oversampling**\n",
        "\n",
        "La estrategia de oversampling consiste en aumentar la cantidad de datos de la clase que tiene menor frecuencia hasta que tenga la misma cantidad que la clase de mayor frecuencia. De esta manera, el modelo prestará más atención al patrón de los datos de la clase que tenía menor frecuencia al principio y podrá diferenciar mejor las dos clases.\n",
        "\n",
        "Para aumentar la cantidad de datos necesitamos generar nuevos registros en la base de datos. Es posible utilizar un oversampling aleatorio para duplicar registros de manera aleatoria o usar una técnica como SMOTE para generar datos sintéticos con un patrón cercano a los datos existentes. La desventaja de esta estrategia es la posibilidad de sobreajuste del modelo, especialmente al utilizar el oversampling aleatorio. En este caso, el modelo puede especializarse demasiado en el patrón de los datos que son muy parecidos o idénticos, ya que son copiados o generados sintéticamente.\n",
        "\n",
        "**Undersampling**\n",
        "\n",
        "La estrategia de undersampling es contraria al oversampling y consiste en reducir la cantidad de datos de la clase que tiene mayor frecuencia hasta que tenga la misma cantidad que la clase de menor frecuencia. De esta forma, el modelo no prestará atención solo a los datos de mayor cantidad y podrá diferenciar mejor las dos clases.\n",
        "\n",
        "Para reducir la cantidad de datos, necesitamos eliminar o borrar registros existentes. Es posible utilizar un undersampling aleatorio para seleccionar los registros que se mantendrán o usar técnicas que seleccionan o eliminan datos a partir de un patrón establecido. La principal desventaja de la estrategia de undersampling es la eliminación de datos que pueden ser muy importantes para la comprensión del problema, especialmente cuando esta eliminación se realiza sin ningún criterio, como es el caso del undersampling aleatorio.\n",
        "\n",
        "Ambas estrategias son válidas para intentar mejorar el desempeño de un modelo de clasificación, pero debemos estar atentos al utilizarlas debido a los puntos negativos que son inherentes a cada uno de los métodos. En cualquier proyecto que utilice alguna de estas herramientas, se debe realizar un análisis para identificar si realmente ayudaron o perjudicaron el desempeño del modelo de clasificación.\n",
        "\n",
        " Discutir en el Foro\n",
        " Siguiente"
      ],
      "metadata": {
        "id": "PAXA87SJSbSn"
      }
    },
    {
      "cell_type": "markdown",
      "source": [
        "###**biblioteca imblearn**\n",
        "\n",
        "La clasificación de datos desbalanceados puede convertirse en una tarea bastante desafiante, ya que el enfoque tradicional de entrenar un modelo utilizando estos datos a menudo lleva a resultados muy insatisfactorios, donde el modelo tiende a favorecer la clase con mayor cantidad de datos en detrimento de la otra.\n",
        "\n",
        "Para abordar este tipo de situación, la biblioteca https://imbalanced-learn.org/stable/index.html , breviada como imblearn, ofrece diversas técnicas y herramientas con el objetivo de equilibrar la distribución de las categorías de la variable objetivo y mejorar el rendimiento de los modelos de machine learning. Las técnicas consisten en algoritmos de reamostrado de oversampling, undersampling y algoritmos que combinan ambas estrategias simultáneamente.\n",
        "\n",
        "Algunos de los algoritmos de oversampling de la biblioteca:\n",
        "\n",
        ".https://imbalanced-learn.org/stable/references/generated/imblearn.over_sampling.RandomOverSampler.html\n",
        ".https://imbalanced-learn.org/stable/references/generated/imblearn.over_sampling.SMOTE.html\n",
        ".https://imbalanced-learn.org/stable/references/generated/imblearn.over_sampling.ADASYN.html\n",
        ".https://imbalanced-learn.org/stable/references/generated/imblearn.over_sampling.KMeansSMOTE.html\n",
        "\n",
        "Algunos de los algoritmos de undersampling de la biblioteca:\n",
        "\n",
        ".https://imbalanced-learn.org/stable/references/generated/imblearn.under_sampling.RandomUnderSampler.html\n",
        ".https://imbalanced-learn.org/stable/references/generated/imblearn.under_sampling.NearMiss.html\n",
        ".https://imbalanced-learn.org/stable/references/generated/imblearn.under_sampling.ClusterCentroids.html\n",
        ".https://imbalanced-learn.org/stable/references/generated/imblearn.under_sampling.TomekLinks.html\n",
        "\n",
        "Algoritmos que combinan las dos técnicas de oversampling y undersampling:\n",
        "\n",
        ".https://imbalanced-learn.org/stable/references/generated/imblearn.combine.SMOTEENN.html\n",
        ".https://imbalanced-learn.org/stable/references/generated/imblearn.combine.SMOTETomek.html\n",
        "\n",
        "Además de las técnicas de balanceo de datos, la biblioteca proporciona herramientas para la construcción de\n",
        "https://imbalanced-learn.org/stable/references/pipeline.html, https://imbalanced-learn.org/stable/references/ensemble.html para datos desbalanceados y cálculos de https://imbalanced-learn.org/stable/references/metrics.html\n",
        ""
      ],
      "metadata": {
        "id": "or74YdlCSr2_"
      }
    },
    {
      "cell_type": "markdown",
      "source": [
        "### Pipeline para validación"
      ],
      "metadata": {
        "id": "fHSNXznm6ia-"
      }
    },
    {
      "cell_type": "markdown",
      "source": [
        "Obtuvimos resultados de recall bastante optimistas. Sin embargo, esta no es la forma de determinar que nuestro modelo está funcionando bien, porque en realidad estamos haciendo una validación con datos ya balanceados. La idea es entrenar nuestro modelo, lógicamente haciendo este oversampling, pero a la hora de validar nuestros datos, estos serán desbalanceados.\n",
        "\n",
        "Por lo tanto, la forma correcta de realizar este proceso es utilizando un pipeline para la validación, utilizando, por supuesto, el pipeline que nos ofrece la biblioteca InBalanceLearn. Así que vamos a importar from imblearn.pipeline import pipeline, pero como se trata de un pipeline desbalanceado, lo llamaré imbpipeline para no generar confusión con un pipeline normal. Un pipeline es una secuencia de tareas que ejecutamos. Aquí, lo que vamos a hacer realmente es llevar una secuencia a todo nuestro proceso de entrenamiento y validación utilizando, por supuesto, SMOTE."
      ],
      "metadata": {
        "id": "7lfAYIejUR4F"
      }
    },
    {
      "cell_type": "code",
      "source": [
        "from imblearn.pipeline import Pipeline as imbpipeline"
      ],
      "metadata": {
        "id": "DaoAbR84O44S"
      },
      "execution_count": 121,
      "outputs": []
    },
    {
      "cell_type": "markdown",
      "source": [
        "Vamos a instanciar de nuevo nuestro modelo, que es un árbol de decisión, DecisionTreeClassifier, que tiene una profundidad máxima de 10. Después de tener ya nuestro modelo, vamos a crear nuestro pipeline. Lo llamaremos simplemente pipeline, que será igual a nuestro imbpipeline y este recibe unos parámetros que vamos a introducir en una lista. Esta lista va a recibir tuplas. El primer elemento de la tupla será el primer paso que vamos a hacer, que es el oversample, y el oversample va a utilizar el algoritmo SMOTE que ya trabajamos previamente. Después de ello, el segundo elemento de nuestra tupla será el modelo. Así que aquí será otra tupla. El modelo será el modelo de árbol, porque es un árbol de decisión. Lo llamamos árbol para mantener el patrón y aquí colocamos nuestro modelo. Así que ya tenemos nuestro pipeline, lo creamos."
      ],
      "metadata": {
        "id": "QVxqsXxVYOtq"
      }
    },
    {
      "cell_type": "code",
      "source": [
        "# instanciamos de nuevo\n",
        "modelo = DecisionTreeClassifier(max_depth=10)\n",
        "# creamos la pipeline\n",
        "pipeline = imbpipeline([('oversample',SMOTE()),('arbol',modelo)])"
      ],
      "metadata": {
        "id": "7UezUduWO41c"
      },
      "execution_count": 122,
      "outputs": []
    },
    {
      "cell_type": "markdown",
      "source": [
        "Después de tener nuestro pipeline, vamos a colocar todos nuestros datos a partir del StratifiedKFold como hemos venido trabajando y aquí nuestros resultados van a cambiar. Aquí no será más el modelo, sino que será nuestro pipeline y aquí no será la X balanceada, sino que será nuestra X y nuestra Y. Entonces, nuestro pipeline va a tomar nuestra X, va a hacer el oversampling lógicamente con X y Y para entrenar el modelo, pero al momento de realizar la validación, no va a validar con datos irreales, sino que va a mantener las proporciones que el dataset original contiene. Esa es la forma correcta de realizar este tipo de validación con oversampling."
      ],
      "metadata": {
        "id": "dkF68Q_1YeLZ"
      }
    },
    {
      "cell_type": "code",
      "source": [
        "skf = StratifiedKFold(n_splits=5, shuffle=True,random_state=5)\n",
        "cv_resultado = cross_validate(pipeline,X,y,cv=skf,scoring='recall')\n"
      ],
      "metadata": {
        "id": "b7Z-pe6wO4yN"
      },
      "execution_count": 123,
      "outputs": []
    },
    {
      "cell_type": "markdown",
      "source": [
        "Finalmente, vamos a ejecutar nuestra función intervalo_confianza, que nos permitirá ver cómo realmente nuestro modelo comenzó a generalizar a partir de usar este método de generar datos sintéticos."
      ],
      "metadata": {
        "id": "UnRKLJuXcAns"
      }
    },
    {
      "cell_type": "code",
      "source": [
        "intervalo_confianza(cv_resultado)"
      ],
      "metadata": {
        "id": "zJMhMl7AcCMd",
        "outputId": "96ee2b2d-d7b6-411c-b9e9-0513302ea984",
        "colab": {
          "base_uri": "https://localhost:8080/",
          "height": 36
        }
      },
      "execution_count": 124,
      "outputs": [
        {
          "output_type": "execute_result",
          "data": {
            "text/plain": [
              "'El intervalo de confianza es de: [0.20712761411966077,0.3027387935191699]'"
            ],
            "application/vnd.google.colaboratory.intrinsic+json": {
              "type": "string"
            }
          },
          "metadata": {},
          "execution_count": 124
        }
      ]
    },
    {
      "cell_type": "markdown",
      "source": [
        " Mira qué interesante, el intervalo de confianza de nuestro modelo pasó del 2% al 22% y hasta el 28%. Antes, el intervalo de confianza estaba entre el 2% y casi el 4% y pasó hasta el intervalo de confianza entre el 22% y el 28%, es decir, la media sería más o menos el 25%. Es un resultado muy interesante porque estamos utilizando un árbol de decisión básico, elemental, únicamente con 10 de profundidad. Podríamos, por supuesto, hacer un tuning a nuestros parámetros, un ajuste a nuestros hiperparámetros para hacerlo más detallado, pero en principio, este método oversampling se muestra bastante prometedor.\n",
        "\n",
        "Sin embargo, no solo podemos hacer un sobremuestreo. ¿Qué tal si, en vez de generar datos sintéticos, por el contrario, reducimos las muestras de nuestros datos? Entonces, en vez de tener la clase mayoritaria o la clase predominante que sea cumplidos, dejamos la clase predominante en la misma cantidad o en la misma proporción de la clase que es la minoría, que serían los clientes morosos. Eso sería el método undersampling (submuestreo) o el opuesto de oversampling."
      ],
      "metadata": {
        "id": "IOMalz8YcQ2E"
      }
    },
    {
      "cell_type": "markdown",
      "source": [
        "### Undersampling"
      ],
      "metadata": {
        "id": "66PlvwjX6kFv"
      }
    },
    {
      "cell_type": "markdown",
      "source": [
        "Este es un método en el cual, en lugar de generar datos sintéticos, ¿por qué no tomar la clase que tiene, digamos, la mayoría y reducirla, de modo que podamos tener los datos más parecidos a la clase de minoría? Pero también es importante que el patrón de datos allí no disminuya de forma aleatoria, sino que el patrón de datos que utilice para hacer esta disminución, se asemeje o tenga unas características que faciliten, de cierta forma, esta generalización a la hora de modelar.\n",
        "\n",
        "Para ello, la misma biblioteca IMB Learn, nos trae un método que se llama NearMist, que tiene varias versiones. Pero básicamente es un algoritmo que hace esta reducción de muestras, de forma inteligente, para poder generalizar bien con el conjunto de datos."
      ],
      "metadata": {
        "id": "_X_F911ugFIo"
      }
    },
    {
      "cell_type": "markdown",
      "source": [
        "https://imbalanced-learn.org/stable/references/generated/imblearn.under_sampling.NearMiss.html"
      ],
      "metadata": {
        "id": "Fh6VZN5Fx7wl"
      }
    },
    {
      "cell_type": "markdown",
      "source": [
        "Entonces, vamos a importarlo, from imblearn.undersampling import NearMist, así, la N mayúscula y la M mayúscula también. Importamos NearMist y el siguiente paso es la misma pipeline, vamos a crear nuestro modelo. Voy a copiar estos fragmentos de código, porque no hay que reescribirlos, y este también lo podemos utilizar, que fueron los que trabajamos previamente."
      ],
      "metadata": {
        "id": "A3AZaNr7gdP4"
      }
    },
    {
      "cell_type": "code",
      "source": [
        "from imblearn.under_sampling import NearMiss"
      ],
      "metadata": {
        "id": "lUn59uqAO63N"
      },
      "execution_count": 125,
      "outputs": []
    },
    {
      "cell_type": "markdown",
      "source": [
        " Voy a copiar estos fragmentos de código, porque no hay que reescribirlos, y este también lo podemos utilizar, que fueron los que trabajamos previamente.\n",
        " Aquí vamos a hacer algunos ajustes, vamos a utilizar la misma pipeline, pero en vez de oversampling, va a ser undersample. Lo vamos a dejar undersample, y vamos a colocar aquí en vez de smooth, va a ser NearMist, NearMist, y aquí vamos a dar el parámetro de versión, entonces nuestra versión va a ser la versión 3. Como mencioné, en la actividad para saber más, encontrarás más información referente al uso de esta versión."
      ],
      "metadata": {
        "id": "fRlXKKoshIkf"
      }
    },
    {
      "cell_type": "code",
      "source": [
        "# instanciamos de nuevo\n",
        "modelo = DecisionTreeClassifier(max_depth=10)\n",
        "# creamos la pipeline\n",
        "pipeline = imbpipeline([('undersample',NearMiss(version = 3)),('arbol',modelo)])\n",
        "\n",
        "skf = StratifiedKFold(n_splits=5, shuffle=True,random_state=5)\n",
        "cv_resultado = cross_validate(pipeline,X,y,cv=skf,scoring='recall')\n"
      ],
      "metadata": {
        "id": "pOUKHwqRO6zb"
      },
      "execution_count": 126,
      "outputs": []
    },
    {
      "cell_type": "markdown",
      "source": [
        "Y ahora vamos a traer aquí nuestra función para ver el intervalo de confianza, y la ejecutamos."
      ],
      "metadata": {
        "id": "k-Wf1zdnpyRd"
      }
    },
    {
      "cell_type": "code",
      "source": [
        "intervalo_confianza(cv_resultado)"
      ],
      "metadata": {
        "id": "ykn9H4kFO6so",
        "outputId": "3a51c927-6f4f-4818-c0a8-ddbcc5f4acc9",
        "colab": {
          "base_uri": "https://localhost:8080/",
          "height": 36
        }
      },
      "execution_count": 127,
      "outputs": [
        {
          "output_type": "execute_result",
          "data": {
            "text/plain": [
              "'El intervalo de confianza es de: [0.6260126568991562,0.6979919383542832]'"
            ],
            "application/vnd.google.colaboratory.intrinsic+json": {
              "type": "string"
            }
          },
          "metadata": {},
          "execution_count": 127
        }
      ]
    },
    {
      "cell_type": "markdown",
      "source": [
        "Observa que este undersampling, que lo que hizo fue entrenar nuestro modelo, lógicamente con datos ya balanceados, siguiendo la técnica NearMist en su versión 3, pero a la hora de validar utilizó datos completamente desbalanceados, nos trajo unos resultados bastante interesantes con un árbol de decisión de profundidad 10.\n",
        "\n",
        "En este caso, nota que el oversampling nos trajo un promedio de recall de 23%, y el undersampling nos trajo un promedio de recall de alrededor del 62%, es decir, 3 veces mejor. Esto realmente nos llama muchísimo la atención, porque haciendo la validación de la manera correcta, con los métodos correctos, podemos llegar bastante lejos con un modelo sencillo, sin necesidad de ajustar tantos hiperparámetros. No queriendo decir con ello que no sea válido o no sea necesario, lógico que lo es, pero cuando entendemos bien todos estos conceptos de validación de métricas y de cómo implementarlos de la forma correcta, de no hacerlo simplemente de manera aleatoria.\n",
        "\n",
        "En este punto sabemos que undersampling es nuestra mejor apuesta a la hora de entrenar nuestro modelo y de validarlo"
      ],
      "metadata": {
        "id": "JrJAUmF6qQ1c"
      }
    },
    {
      "cell_type": "markdown",
      "source": [
        "###**Versiones del NearMiss**\n",
        "\n",
        "El desequilibrio de clases es un problema común en tareas de clasificación en machine learning, como diagnósticos médicos, detección de fraudes y detección de anomalías, donde la frecuencia de ocurrencia de un evento es muy baja en relación con el total. Una de las estrategias para abordar este problema de datos desequilibrados es el undersampling, que busca reducir el número de muestras de la clase con mayor frecuencia.\n",
        "\n",
        "Entre los algoritmos de undersampling, podemos mencionar el NearMiss, que consiste en seleccionar muestras de la categoría en mayor cantidad que tienen un patrón cercano a la categoría con menor cantidad, con el fin de preservar información importante para la modelación del problema. Al utilizar un criterio de selección de las muestras, este método es mucho más recomendado que el uso de un undersampling puramente aleatorio, que puede eliminar información relevante de los datos.\n",
        "\n",
        "Para seleccionar las muestras, este algoritmo utiliza un método conocido como vecino más cercano. Este método se aplica en 3 pasos:\n",
        "\n",
        ".1er paso: se calculan distancias entre todas las muestras de la clase con mayor frecuencia y de la clase con menor frecuencia.\n",
        "\n",
        ".2º paso: a continuación, para cada muestra de la clase de menor frecuencia, se seleccionan n muestras de la clase de mayor frecuencia; por defecto, este número es 3 y de ahí proviene el nombre de vecinos más cercanos. Se seleccionan 3 vecinos más cercanos para cada muestra de la clase de menor frecuencia.\n",
        "\n",
        ".3er paso: a partir de los elementos que fueron seleccionados, ocurre un nuevo proceso de selección para que quede con la misma cantidad de elementos de la clase de menor frecuencia. Esta selección final tiene 3 versiones diferentes:\n",
        "\n",
        "NearMiss versión 1: se calcula un promedio entre las distancias de los 3 vecinos más cercanos de cada muestra de la clase de mayor frecuencia y se eligen aquellos que tengan la menor media de distancia.\n",
        "\n",
        "NearMiss versión 2: se calcula un promedio entre las distancias de los 3 vecinos más lejanos de cada muestra de la clase de mayor frecuencia y se eligen aquellos que tengan la menor media de distancia.\n",
        "\n",
        "NearMiss versión 3: se divide en dos etapas. Primero, para cada elemento de la clase de menor frecuencia, se eligen y almacenan M vecinos más cercanos, por defecto M también es de 3 vecinos. Luego se calcula el promedio de las distancias entre los elementos almacenados y los elementos de la clase de menor frecuencia y se eligen aquellos que tengan la mayor media de distancia.\n",
        "\n",
        "Si desea saber más sobre las versiones del NearMiss, consulte la documentación de imbalanced-learn:\n",
        "\n",
        ".Formulación matemática del NearMiss\n",
        "https://imbalanced-learn.org/dev/under_sampling.html#mathematical-formulation"
      ],
      "metadata": {
        "id": "_1ecWKlVryaC"
      }
    },
    {
      "cell_type": "markdown",
      "source": [
        "### Probando el modelo"
      ],
      "metadata": {
        "id": "EP-44U0eHt-a"
      }
    },
    {
      "cell_type": "markdown",
      "source": [
        "Hemos llegado a la etapa final de nuestro proyecto, en la cual hemos detectado que la mejor manera de modelar es utilizando el método de Imbalanced Learn de Undersampling. Como lo vimos en nuestro paso anterior, llegamos a un resultado bastante interesante de Recall, que es la métrica que queremos priorizar para que la empresa de financiamiento de automóviles no siga perdiendo tanto dinero y pueda identificar de forma más efectiva a los clientes morosos.\n"
      ],
      "metadata": {
        "id": "D2FP4YS-s5qq"
      }
    },
    {
      "cell_type": "markdown",
      "source": [
        "Entonces, para ello vamos a generar todos los pasos anteriores en uno solo y vamos a ver de qué manera va a quedar nuestro modelo."
      ],
      "metadata": {
        "id": "is57pUJqs9Ew"
      }
    },
    {
      "cell_type": "markdown",
      "source": [
        "El primer paso va a ser instanciar nuestro Undersample, que va a ser directamente el modelo NearMiss en su versión 3, entonces versión = 3, versión aquí es minúscula.\n",
        "Tras ello, vamos a crear nuestra X_balanceada, nuestra Y_balanceada, que va a ser igual a Undersample.FitResample. Él va a hacer un FitResample de nuestra X y nuestra Y, de todo nuestro conjunto de datos con el que hemos venido trabajando. Entonces hacemos el Undersample. y ahora creamos nuestro modelo, sigue siendo nuestro Decision Tree Classifier, entonces DecisionTreeClassifier de MaxDepth, de profundidad máxima de 10.\n",
        "\n",
        "Después de hacer nuestro modelo, vamos a hacer nuestro Fit, entonces modelo.Fit y vamos a tomar nuestra X_balanceada y nuestra Y_balanceada. Hacemos el Fit y hacemos nuestro Y_previsto, entonces Y_previsto va a ser igual a modelo.predict y ahora sí vamos a pasar nuestra X_test. Hasta el momento hemos trabajado, habíamos trabajado todo el tiempo con X_validación pero ahora vamos a hacer nuestra prueba con nuestra X_test."
      ],
      "metadata": {
        "id": "AxL6Z30ZtP3q"
      }
    },
    {
      "cell_type": "code",
      "source": [
        "under_sample = NearMiss(version = 3)\n",
        "X_balanceada,y_balanceada = under_sample.fit_resample(X,y)\n"
      ],
      "metadata": {
        "id": "XWhZlwOTO8eN"
      },
      "execution_count": 128,
      "outputs": []
    },
    {
      "cell_type": "markdown",
      "source": [
        "Y ahora creamos nuestro modelo, sigue siendo nuestro Decision Tree Classifier, entonces DecisionTreeClassifier de MaxDepth, de profundidad máxima de 10.\n",
        "\n",
        "Después de hacer nuestro modelo, vamos a hacer nuestro Fit, entonces modelo.Fit y vamos a tomar nuestra X_balanceada y nuestra Y_balanceada. Hacemos el Fit y hacemos nuestro Y_previsto, entonces Y_previsto va a ser igual a modelo.predict y ahora sí vamos a pasar nuestra X_test. Hasta el momento hemos trabajado, habíamos trabajado todo el tiempo con X_validación pero ahora vamos a hacer nuestra prueba con nuestra X_test.\n",
        "Nuestra X_test es la que trabajamos aquí en la primera división de datos, está bien al principio o muy al comienzo de nuestro notebook. Que hicimos aquí la división, entonces nota que nuestra X_test quedó aquí y no la tocamos más desde ahí, de resto estuvimos trabajando con nuestra X_train y nuestra X_val de validación."
      ],
      "metadata": {
        "id": "N8Sc4Qadt9sA"
      }
    },
    {
      "cell_type": "code",
      "source": [
        "modelo = DecisionTreeClassifier(max_depth=10)\n",
        "modelo.fit(X_balanceada,y_balanceada)\n",
        "y_previsto = modelo.predict(X_test)\n"
      ],
      "metadata": {
        "id": "gZHVqM6hO8bt"
      },
      "execution_count": 130,
      "outputs": []
    },
    {
      "cell_type": "markdown",
      "source": [
        "Ahora sí vamos a hacer esa previsión con datos que nuestro modelo nunca vio, vuelvo a repetir. Estamos simulando datos de la vida real para ver cómo va a desempeñarse nuestro modelo y después vamos a hacer el reporte.\n",
        "\n",
        "Vamos a imprimirlo, entonces print classification_report, vamos a hacer el reporte de nuestra Y_test que nunca la vio y nuestra Y_prevista. Y aún vamos a hacer la impresión Y_prevista, Y_prevista y aún vamos a hacer la impresión o vamos a dibujar nuestra matriz de confusión, entonces confusion_matrix_display, entonces aquí vamos a utilizarlo a partir de las predicciones, entonces from predictions y lo mismo, introducimos nuestra Y_test que nunca vio y nuestra Y_prevista. Entonces ahora sí vamos a colocar el punto y coma y vamos a generar nuestro gráfico, este es el paso final aquí de todo nuestro proyecto."
      ],
      "metadata": {
        "id": "10C1pF3LwCy1"
      }
    },
    {
      "cell_type": "code",
      "source": [
        "print(classification_report(y_test,y_previsto))\n",
        "ConfusionMatrixDisplay.from_predictions(y_test,y_previsto);  # , para graficar\n"
      ],
      "metadata": {
        "id": "QSrpOQpxO8WT",
        "outputId": "22c62a9a-2222-4760-b6d9-7bed3416ff99",
        "colab": {
          "base_uri": "https://localhost:8080/",
          "height": 615
        }
      },
      "execution_count": 131,
      "outputs": [
        {
          "output_type": "stream",
          "name": "stdout",
          "text": [
            "              precision    recall  f1-score   support\n",
            "\n",
            "           0       0.94      0.48      0.64      7397\n",
            "           1       0.11      0.70      0.20       707\n",
            "\n",
            "    accuracy                           0.50      8104\n",
            "   macro avg       0.53      0.59      0.42      8104\n",
            "weighted avg       0.87      0.50      0.60      8104\n",
            "\n"
          ]
        },
        {
          "output_type": "display_data",
          "data": {
            "text/plain": [
              "<Figure size 640x480 with 2 Axes>"
            ],
            "image/png": "[encoded data removed]"
          },
          "metadata": {}
        }
      ]
    },
    {
      "cell_type": "markdown",
      "source": [
        "Entonces nota que aquí está nuestro modelo final ya probado con datos que nunca vio, lo entrenamos siguiendo las mejores prácticas, trabajamos lógicamente con un modelo de undersampling. O sea todo siguiendo todos estos patrones y llegamos entonces a este modelo interesante que logra predecir de forma correcta, 496 casos en los cuales se trata de un cliente moroso.\n",
        "\n",
        "Entonces trajimos nuestra Y_test y nota que nuestro resultado de recall, que es la métrica que queríamos priorizar aquí de la clase, que son morosos fue del 70%, entonces encuentra todo dentro de este rango, dentro de este intervalo de confianza, 70% y desde luego pues sacrificamos la precisión, quedó con precisión del 11%. ¿Cuál es el tradeoff?\n",
        "\n",
        "Vuelvo a repetir, la idea de la empresa era dejar de perder dinero con clientes morosos porque no los estaban identificando correctamente. Ahora, están identificando correctamente a los clientes morosos, pero a cambio, podrían terminar prediciendo que clientes que son posiblemente buenos pagadores sean morosos. Por eso, estoy teniendo esta cantidad de falsos positivos, ¿ok?\n",
        "\n",
        "Para la empresa, esto representa lógicamente un riesgo que va a asumir. La idea es que no vamos a prestar a tantas personas, ¿verdad? No vamos a financiar a tantas personas, pero a cambio, nos aseguraremos de identificar a los morosos antes de conocer las características de estos clientes morosos antes de prestarles. Vamos a proceder con pasos un poco más seguros aquí, trabajando con este modelo de Machine Learning (Aprendizaje Automático) para identificar a clientes morosos."
      ],
      "metadata": {
        "id": "Y7rpgReXxtJ7"
      }
    },
    {
      "cell_type": "markdown",
      "source": [
        "###**Otros métodos de balanceo**\n",
        "\n",
        "Exploramos dos estrategias de balanceo de datos: oversampling y undersampling. En cada una de ellas utilizamos un algoritmo diferente, el SMOTE para generar nuevos datos sintéticos y el NearMiss para mantener datos que tienen un patrón cercano entre las clases.\n",
        "\n",
        "Estos no son los únicos algoritmos existentes y el oversampling y undersampling no necesitan ser utilizados de manera aislada. Es posible combinar las dos estrategias en una sola para equilibrar los puntos negativos de cada una de ellas. Esto no quiere decir que esta estrategia sea más efectiva en todas las ocasiones, pero es una opción que puede ser explorada en los proyectos.\n",
        "\n",
        "Como desafío, utiliza el algoritmo SMOTEENN, que combina el oversampling con SMOTE y el undersampling con el ENN (Edited Nearest Neighbours), para balancear los datos y observa los resultados obtenidos por el modelo usando el pipeline y la validación cruzada.\n",
        "\n",
        "Como un consejo, revisa la documentación del método SMOTEENN a partir de este enlace https://imbalanced-learn.org/stable/references/generated/imblearn.combine.SMOTEENN.html  para identificar cómo importar el método y cómo utilizarlo."
      ],
      "metadata": {
        "id": "ANW2nfLIyxqp"
      }
    }
  ]
}