{
  "nbformat": 4,
  "nbformat_minor": 0,
  "metadata": {
    "colab": {
      "provenance": [],
      "include_colab_link": true
    },
    "kernelspec": {
      "name": "python3",
      "display_name": "Python 3"
    },
    "language_info": {
      "name": "python"
    }
  },
  "cells": [
    {
      "cell_type": "markdown",
      "metadata": {
        "id": "view-in-github",
        "colab_type": "text"
      },
      "source": [
        "<a href=\"https://colab.research.google.com/github/evs-11/Clasificaci-n_Validacion-de-Modelos-y-Metricas-de-Evaluacion/blob/main/Clasificacion_validacion_y_metricas.ipynb\" target=\"_parent\"><img src=\"https://colab.research.google.com/assets/colab-badge.svg\" alt=\"Open In Colab\"/></a>"
      ]
    },
    {
      "cell_type": "markdown",
      "source": [
        "# <font color='dark'>**Clasificación: Validación de modelos y métricas de evaluación**</h1>"
      ],
      "metadata": {
        "id": "MCqTDybk4ShK"
      }
    },
    {
      "cell_type": "markdown",
      "source": [
        "### Proyecto\n",
        "\n",
        "Una empresa de financiamiento de automóviles está atravesando una situación complicada, con una alta demanda para una flota reducida de vehículos y un alto número de morosos, lo que está generando grandes pérdidas para la empresa.\n",
        "\n",
        "Nosotros fuimos contratados para buscar mejoras en la identificación de morosos. El análisis de los clientes actualmente se realiza de forma manual, cliente por cliente, lo que consume mucho tiempo y, aun así, la detección de morosos es muy imprecisa.\n",
        "\n",
        "Nuestra tarea es utilizar los datos proporcionados por la empresa para **clasificar** a los clientes en cumplidores y morosos."
      ],
      "metadata": {
        "id": "WscU3KG7a9No"
      }
    },
    {
      "cell_type": "markdown",
      "source": [
        "## <font color='dark'>Clasificando los datos</h1>"
      ],
      "metadata": {
        "id": "WgS8iF51Csrn"
      }
    },
    {
      "cell_type": "markdown",
      "source": [
        "### Creando un modelo inicial"
      ],
      "metadata": {
        "id": "6lExmBuKn-xe"
      }
    },
    {
      "cell_type": "code",
      "source": [
        "import pandas as pd   # importamos la bibliotec"
      ],
      "metadata": {
        "id": "ANJDC3LqP43q"
      },
      "execution_count": 1,
      "outputs": []
    },
    {
      "cell_type": "code",
      "source": [
        "# creamos la variable y leemos el archivo\n",
        "datos = pd.read_csv('/content/prestacar.csv')"
      ],
      "metadata": {
        "id": "UPddns6dP4kt"
      },
      "execution_count": 2,
      "outputs": []
    },
    {
      "cell_type": "code",
      "source": [
        "# visualizamos el conjunto de datos\n",
        "datos"
      ],
      "metadata": {
        "id": "UVIX6QLpP4iC",
        "outputId": "1542e44f-1265-4076-9257-c0ddeaa97127",
        "colab": {
          "base_uri": "https://localhost:8080/",
          "height": 443
        }
      },
      "execution_count": 3,
      "outputs": [
        {
          "output_type": "execute_result",
          "data": {
            "text/plain": [
              "       ingresos_cliente  anualidad_prestamo  años_casa_propia  telefono_trab  \\\n",
              "0          12600.000000         3569.400000         12.157324              1   \n",
              "1           9000.000000         2722.188351          7.000000              0   \n",
              "2          15750.000000         4477.500000         12.000000              0   \n",
              "3           9000.000000         1309.050000         12.157324              0   \n",
              "4           7650.000000         1125.000000         12.157324              0   \n",
              "...                 ...                 ...               ...            ...   \n",
              "54020      16855.246324          675.000000         12.157324              1   \n",
              "54021      11250.000000          675.000000         14.000000              0   \n",
              "54022      13500.000000          900.000000         64.000000              0   \n",
              "54023      11250.000000         2371.500000         12.157324              0   \n",
              "54024      21060.000000         2459.250000         12.157324              0   \n",
              "\n",
              "       evaluacion_ciudad   score_1   score_2   score_3  score_social  \\\n",
              "0                    2.0  0.057153  0.527227  0.513171      0.117428   \n",
              "1                    2.0  0.657661  0.285898  0.614414      0.222700   \n",
              "2                    2.0  0.501213  0.695423  0.513171      0.117428   \n",
              "3                    3.0  0.501213  0.155973  0.513171      0.117428   \n",
              "4                    2.0  0.294328  0.152076  0.513171      0.117428   \n",
              "...                  ...       ...       ...       ...           ...   \n",
              "54020                2.0  0.501213  0.180635  0.513171      0.082500   \n",
              "54021                3.0  0.409620  0.606002  0.513171      0.117428   \n",
              "54022                2.0  0.162632  0.525412  0.513171      0.117428   \n",
              "54023                3.0  0.501213  0.664027  0.513171      0.117428   \n",
              "54024                2.0  0.339656  0.656468  0.513171      0.117428   \n",
              "\n",
              "       cambio_telefono  moroso  \n",
              "0          2545.000000       0  \n",
              "1           495.000000       0  \n",
              "2          1212.000000       0  \n",
              "3           515.000000       0  \n",
              "4           162.000000       0  \n",
              "...                ...     ...  \n",
              "54020         0.000000       1  \n",
              "54021       466.000000       1  \n",
              "54022       962.106056       1  \n",
              "54023       482.000000       1  \n",
              "54024         0.000000       1  \n",
              "\n",
              "[54025 rows x 11 columns]"
            ],
            "text/html": [
              "\n",
              "  <div id=\"df-fd357f77-c5a7-4641-8bfa-afe357d4e698\" class=\"colab-df-container\">\n",
              "    <div>\n",
              "<style scoped>\n",
              "    .dataframe tbody tr th:only-of-type {\n",
              "        vertical-align: middle;\n",
              "    }\n",
              "\n",
              "    .dataframe tbody tr th {\n",
              "        vertical-align: top;\n",
              "    }\n",
              "\n",
              "    .dataframe thead th {\n",
              "        text-align: right;\n",
              "    }\n",
              "</style>\n",
              "<table border=\"1\" class=\"dataframe\">\n",
              "  <thead>\n",
              "    <tr style=\"text-align: right;\">\n",
              "      <th></th>\n",
              "      <th>ingresos_cliente</th>\n",
              "      <th>anualidad_prestamo</th>\n",
              "      <th>años_casa_propia</th>\n",
              "      <th>telefono_trab</th>\n",
              "      <th>evaluacion_ciudad</th>\n",
              "      <th>score_1</th>\n",
              "      <th>score_2</th>\n",
              "      <th>score_3</th>\n",
              "      <th>score_social</th>\n",
              "      <th>cambio_telefono</th>\n",
              "      <th>moroso</th>\n",
              "    </tr>\n",
              "  </thead>\n",
              "  <tbody>\n",
              "    <tr>\n",
              "      <th>0</th>\n",
              "      <td>12600.000000</td>\n",
              "      <td>3569.400000</td>\n",
              "      <td>12.157324</td>\n",
              "      <td>1</td>\n",
              "      <td>2.0</td>\n",
              "      <td>0.057153</td>\n",
              "      <td>0.527227</td>\n",
              "      <td>0.513171</td>\n",
              "      <td>0.117428</td>\n",
              "      <td>2545.000000</td>\n",
              "      <td>0</td>\n",
              "    </tr>\n",
              "    <tr>\n",
              "      <th>1</th>\n",
              "      <td>9000.000000</td>\n",
              "      <td>2722.188351</td>\n",
              "      <td>7.000000</td>\n",
              "      <td>0</td>\n",
              "      <td>2.0</td>\n",
              "      <td>0.657661</td>\n",
              "      <td>0.285898</td>\n",
              "      <td>0.614414</td>\n",
              "      <td>0.222700</td>\n",
              "      <td>495.000000</td>\n",
              "      <td>0</td>\n",
              "    </tr>\n",
              "    <tr>\n",
              "      <th>2</th>\n",
              "      <td>15750.000000</td>\n",
              "      <td>4477.500000</td>\n",
              "      <td>12.000000</td>\n",
              "      <td>0</td>\n",
              "      <td>2.0</td>\n",
              "      <td>0.501213</td>\n",
              "      <td>0.695423</td>\n",
              "      <td>0.513171</td>\n",
              "      <td>0.117428</td>\n",
              "      <td>1212.000000</td>\n",
              "      <td>0</td>\n",
              "    </tr>\n",
              "    <tr>\n",
              "      <th>3</th>\n",
              "      <td>9000.000000</td>\n",
              "      <td>1309.050000</td>\n",
              "      <td>12.157324</td>\n",
              "      <td>0</td>\n",
              "      <td>3.0</td>\n",
              "      <td>0.501213</td>\n",
              "      <td>0.155973</td>\n",
              "      <td>0.513171</td>\n",
              "      <td>0.117428</td>\n",
              "      <td>515.000000</td>\n",
              "      <td>0</td>\n",
              "    </tr>\n",
              "    <tr>\n",
              "      <th>4</th>\n",
              "      <td>7650.000000</td>\n",
              "      <td>1125.000000</td>\n",
              "      <td>12.157324</td>\n",
              "      <td>0</td>\n",
              "      <td>2.0</td>\n",
              "      <td>0.294328</td>\n",
              "      <td>0.152076</td>\n",
              "      <td>0.513171</td>\n",
              "      <td>0.117428</td>\n",
              "      <td>162.000000</td>\n",
              "      <td>0</td>\n",
              "    </tr>\n",
              "    <tr>\n",
              "      <th>...</th>\n",
              "      <td>...</td>\n",
              "      <td>...</td>\n",
              "      <td>...</td>\n",
              "      <td>...</td>\n",
              "      <td>...</td>\n",
              "      <td>...</td>\n",
              "      <td>...</td>\n",
              "      <td>...</td>\n",
              "      <td>...</td>\n",
              "      <td>...</td>\n",
              "      <td>...</td>\n",
              "    </tr>\n",
              "    <tr>\n",
              "      <th>54020</th>\n",
              "      <td>16855.246324</td>\n",
              "      <td>675.000000</td>\n",
              "      <td>12.157324</td>\n",
              "      <td>1</td>\n",
              "      <td>2.0</td>\n",
              "      <td>0.501213</td>\n",
              "      <td>0.180635</td>\n",
              "      <td>0.513171</td>\n",
              "      <td>0.082500</td>\n",
              "      <td>0.000000</td>\n",
              "      <td>1</td>\n",
              "    </tr>\n",
              "    <tr>\n",
              "      <th>54021</th>\n",
              "      <td>11250.000000</td>\n",
              "      <td>675.000000</td>\n",
              "      <td>14.000000</td>\n",
              "      <td>0</td>\n",
              "      <td>3.0</td>\n",
              "      <td>0.409620</td>\n",
              "      <td>0.606002</td>\n",
              "      <td>0.513171</td>\n",
              "      <td>0.117428</td>\n",
              "      <td>466.000000</td>\n",
              "      <td>1</td>\n",
              "    </tr>\n",
              "    <tr>\n",
              "      <th>54022</th>\n",
              "      <td>13500.000000</td>\n",
              "      <td>900.000000</td>\n",
              "      <td>64.000000</td>\n",
              "      <td>0</td>\n",
              "      <td>2.0</td>\n",
              "      <td>0.162632</td>\n",
              "      <td>0.525412</td>\n",
              "      <td>0.513171</td>\n",
              "      <td>0.117428</td>\n",
              "      <td>962.106056</td>\n",
              "      <td>1</td>\n",
              "    </tr>\n",
              "    <tr>\n",
              "      <th>54023</th>\n",
              "      <td>11250.000000</td>\n",
              "      <td>2371.500000</td>\n",
              "      <td>12.157324</td>\n",
              "      <td>0</td>\n",
              "      <td>3.0</td>\n",
              "      <td>0.501213</td>\n",
              "      <td>0.664027</td>\n",
              "      <td>0.513171</td>\n",
              "      <td>0.117428</td>\n",
              "      <td>482.000000</td>\n",
              "      <td>1</td>\n",
              "    </tr>\n",
              "    <tr>\n",
              "      <th>54024</th>\n",
              "      <td>21060.000000</td>\n",
              "      <td>2459.250000</td>\n",
              "      <td>12.157324</td>\n",
              "      <td>0</td>\n",
              "      <td>2.0</td>\n",
              "      <td>0.339656</td>\n",
              "      <td>0.656468</td>\n",
              "      <td>0.513171</td>\n",
              "      <td>0.117428</td>\n",
              "      <td>0.000000</td>\n",
              "      <td>1</td>\n",
              "    </tr>\n",
              "  </tbody>\n",
              "</table>\n",
              "<p>54025 rows × 11 columns</p>\n",
              "</div>\n",
              "    <div class=\"colab-df-buttons\">\n",
              "\n",
              "  <div class=\"colab-df-container\">\n",
              "    <button class=\"colab-df-convert\" onclick=\"convertToInteractive('df-fd357f77-c5a7-4641-8bfa-afe357d4e698')\"\n",
              "            title=\"Convert this dataframe to an interactive table.\"\n",
              "            style=\"display:none;\">\n",
              "\n",
              "  <svg xmlns=\"http://www.w3.org/2000/svg\" height=\"24px\" viewBox=\"0 -960 960 960\">\n",
              "    <path d=\"M120-120v-720h720v720H120Zm60-500h600v-160H180v160Zm220 220h160v-160H400v160Zm0 220h160v-160H400v160ZM180-400h160v-160H180v160Zm440 0h160v-160H620v160ZM180-180h160v-160H180v160Zm440 0h160v-160H620v160Z\"/>\n",
              "  </svg>\n",
              "    </button>\n",
              "\n",
              "  <style>\n",
              "    .colab-df-container {\n",
              "      display:flex;\n",
              "      gap: 12px;\n",
              "    }\n",
              "\n",
              "    .colab-df-convert {\n",
              "      background-color: #E8F0FE;\n",
              "      border: none;\n",
              "      border-radius: 50%;\n",
              "      cursor: pointer;\n",
              "      display: none;\n",
              "      fill: #1967D2;\n",
              "      height: 32px;\n",
              "      padding: 0 0 0 0;\n",
              "      width: 32px;\n",
              "    }\n",
              "\n",
              "    .colab-df-convert:hover {\n",
              "      background-color: #E2EBFA;\n",
              "      box-shadow: 0px 1px 2px rgba(60, 64, 67, 0.3), 0px 1px 3px 1px rgba(60, 64, 67, 0.15);\n",
              "      fill: #174EA6;\n",
              "    }\n",
              "\n",
              "    .colab-df-buttons div {\n",
              "      margin-bottom: 4px;\n",
              "    }\n",
              "\n",
              "    [theme=dark] .colab-df-convert {\n",
              "      background-color: #3B4455;\n",
              "      fill: #D2E3FC;\n",
              "    }\n",
              "\n",
              "    [theme=dark] .colab-df-convert:hover {\n",
              "      background-color: #434B5C;\n",
              "      box-shadow: 0px 1px 3px 1px rgba(0, 0, 0, 0.15);\n",
              "      filter: drop-shadow(0px 1px 2px rgba(0, 0, 0, 0.3));\n",
              "      fill: #FFFFFF;\n",
              "    }\n",
              "  </style>\n",
              "\n",
              "    <script>\n",
              "      const buttonEl =\n",
              "        document.querySelector('#df-fd357f77-c5a7-4641-8bfa-afe357d4e698 button.colab-df-convert');\n",
              "      buttonEl.style.display =\n",
              "        google.colab.kernel.accessAllowed ? 'block' : 'none';\n",
              "\n",
              "      async function convertToInteractive(key) {\n",
              "        const element = document.querySelector('#df-fd357f77-c5a7-4641-8bfa-afe357d4e698');\n",
              "        const dataTable =\n",
              "          await google.colab.kernel.invokeFunction('convertToInteractive',\n",
              "                                                    [key], {});\n",
              "        if (!dataTable) return;\n",
              "\n",
              "        const docLinkHtml = 'Like what you see? Visit the ' +\n",
              "          '<a target=\"_blank\" href=https://colab.research.google.com/notebooks/data_table.ipynb>data table notebook</a>'\n",
              "          + ' to learn more about interactive tables.';\n",
              "        element.innerHTML = '';\n",
              "        dataTable['output_type'] = 'display_data';\n",
              "        await google.colab.output.renderOutput(dataTable, element);\n",
              "        const docLink = document.createElement('div');\n",
              "        docLink.innerHTML = docLinkHtml;\n",
              "        element.appendChild(docLink);\n",
              "      }\n",
              "    </script>\n",
              "  </div>\n",
              "\n",
              "\n",
              "    <div id=\"df-85e68bf2-e94e-4c3e-a8b4-286c7c784ab4\">\n",
              "      <button class=\"colab-df-quickchart\" onclick=\"quickchart('df-85e68bf2-e94e-4c3e-a8b4-286c7c784ab4')\"\n",
              "                title=\"Suggest charts\"\n",
              "                style=\"display:none;\">\n",
              "\n",
              "<svg xmlns=\"http://www.w3.org/2000/svg\" height=\"24px\"viewBox=\"0 0 24 24\"\n",
              "     width=\"24px\">\n",
              "    <g>\n",
              "        <path d=\"M19 3H5c-1.1 0-2 .9-2 2v14c0 1.1.9 2 2 2h14c1.1 0 2-.9 2-2V5c0-1.1-.9-2-2-2zM9 17H7v-7h2v7zm4 0h-2V7h2v10zm4 0h-2v-4h2v4z\"/>\n",
              "    </g>\n",
              "</svg>\n",
              "      </button>\n",
              "\n",
              "<style>\n",
              "  .colab-df-quickchart {\n",
              "      --bg-color: #E8F0FE;\n",
              "      --fill-color: #1967D2;\n",
              "      --hover-bg-color: #E2EBFA;\n",
              "      --hover-fill-color: #174EA6;\n",
              "      --disabled-fill-color: #AAA;\n",
              "      --disabled-bg-color: #DDD;\n",
              "  }\n",
              "\n",
              "  [theme=dark] .colab-df-quickchart {\n",
              "      --bg-color: #3B4455;\n",
              "      --fill-color: #D2E3FC;\n",
              "      --hover-bg-color: #434B5C;\n",
              "      --hover-fill-color: #FFFFFF;\n",
              "      --disabled-bg-color: #3B4455;\n",
              "      --disabled-fill-color: #666;\n",
              "  }\n",
              "\n",
              "  .colab-df-quickchart {\n",
              "    background-color: var(--bg-color);\n",
              "    border: none;\n",
              "    border-radius: 50%;\n",
              "    cursor: pointer;\n",
              "    display: none;\n",
              "    fill: var(--fill-color);\n",
              "    height: 32px;\n",
              "    padding: 0;\n",
              "    width: 32px;\n",
              "  }\n",
              "\n",
              "  .colab-df-quickchart:hover {\n",
              "    background-color: var(--hover-bg-color);\n",
              "    box-shadow: 0 1px 2px rgba(60, 64, 67, 0.3), 0 1px 3px 1px rgba(60, 64, 67, 0.15);\n",
              "    fill: var(--button-hover-fill-color);\n",
              "  }\n",
              "\n",
              "  .colab-df-quickchart-complete:disabled,\n",
              "  .colab-df-quickchart-complete:disabled:hover {\n",
              "    background-color: var(--disabled-bg-color);\n",
              "    fill: var(--disabled-fill-color);\n",
              "    box-shadow: none;\n",
              "  }\n",
              "\n",
              "  .colab-df-spinner {\n",
              "    border: 2px solid var(--fill-color);\n",
              "    border-color: transparent;\n",
              "    border-bottom-color: var(--fill-color);\n",
              "    animation:\n",
              "      spin 1s steps(1) infinite;\n",
              "  }\n",
              "\n",
              "  @keyframes spin {\n",
              "    0% {\n",
              "      border-color: transparent;\n",
              "      border-bottom-color: var(--fill-color);\n",
              "      border-left-color: var(--fill-color);\n",
              "    }\n",
              "    20% {\n",
              "      border-color: transparent;\n",
              "      border-left-color: var(--fill-color);\n",
              "      border-top-color: var(--fill-color);\n",
              "    }\n",
              "    30% {\n",
              "      border-color: transparent;\n",
              "      border-left-color: var(--fill-color);\n",
              "      border-top-color: var(--fill-color);\n",
              "      border-right-color: var(--fill-color);\n",
              "    }\n",
              "    40% {\n",
              "      border-color: transparent;\n",
              "      border-right-color: var(--fill-color);\n",
              "      border-top-color: var(--fill-color);\n",
              "    }\n",
              "    60% {\n",
              "      border-color: transparent;\n",
              "      border-right-color: var(--fill-color);\n",
              "    }\n",
              "    80% {\n",
              "      border-color: transparent;\n",
              "      border-right-color: var(--fill-color);\n",
              "      border-bottom-color: var(--fill-color);\n",
              "    }\n",
              "    90% {\n",
              "      border-color: transparent;\n",
              "      border-bottom-color: var(--fill-color);\n",
              "    }\n",
              "  }\n",
              "</style>\n",
              "\n",
              "      <script>\n",
              "        async function quickchart(key) {\n",
              "          const quickchartButtonEl =\n",
              "            document.querySelector('#' + key + ' button');\n",
              "          quickchartButtonEl.disabled = true;  // To prevent multiple clicks.\n",
              "          quickchartButtonEl.classList.add('colab-df-spinner');\n",
              "          try {\n",
              "            const charts = await google.colab.kernel.invokeFunction(\n",
              "                'suggestCharts', [key], {});\n",
              "          } catch (error) {\n",
              "            console.error('Error during call to suggestCharts:', error);\n",
              "          }\n",
              "          quickchartButtonEl.classList.remove('colab-df-spinner');\n",
              "          quickchartButtonEl.classList.add('colab-df-quickchart-complete');\n",
              "        }\n",
              "        (() => {\n",
              "          let quickchartButtonEl =\n",
              "            document.querySelector('#df-85e68bf2-e94e-4c3e-a8b4-286c7c784ab4 button');\n",
              "          quickchartButtonEl.style.display =\n",
              "            google.colab.kernel.accessAllowed ? 'block' : 'none';\n",
              "        })();\n",
              "      </script>\n",
              "    </div>\n",
              "\n",
              "  <div id=\"id_264cccf9-f827-424b-aaba-dc271690bbc0\">\n",
              "    <style>\n",
              "      .colab-df-generate {\n",
              "        background-color: #E8F0FE;\n",
              "        border: none;\n",
              "        border-radius: 50%;\n",
              "        cursor: pointer;\n",
              "        display: none;\n",
              "        fill: #1967D2;\n",
              "        height: 32px;\n",
              "        padding: 0 0 0 0;\n",
              "        width: 32px;\n",
              "      }\n",
              "\n",
              "      .colab-df-generate:hover {\n",
              "        background-color: #E2EBFA;\n",
              "        box-shadow: 0px 1px 2px rgba(60, 64, 67, 0.3), 0px 1px 3px 1px rgba(60, 64, 67, 0.15);\n",
              "        fill: #174EA6;\n",
              "      }\n",
              "\n",
              "      [theme=dark] .colab-df-generate {\n",
              "        background-color: #3B4455;\n",
              "        fill: #D2E3FC;\n",
              "      }\n",
              "\n",
              "      [theme=dark] .colab-df-generate:hover {\n",
              "        background-color: #434B5C;\n",
              "        box-shadow: 0px 1px 3px 1px rgba(0, 0, 0, 0.15);\n",
              "        filter: drop-shadow(0px 1px 2px rgba(0, 0, 0, 0.3));\n",
              "        fill: #FFFFFF;\n",
              "      }\n",
              "    </style>\n",
              "    <button class=\"colab-df-generate\" onclick=\"generateWithVariable('datos')\"\n",
              "            title=\"Generate code using this dataframe.\"\n",
              "            style=\"display:none;\">\n",
              "\n",
              "  <svg xmlns=\"http://www.w3.org/2000/svg\" height=\"24px\"viewBox=\"0 0 24 24\"\n",
              "       width=\"24px\">\n",
              "    <path d=\"M7,19H8.4L18.45,9,17,7.55,7,17.6ZM5,21V16.75L18.45,3.32a2,2,0,0,1,2.83,0l1.4,1.43a1.91,1.91,0,0,1,.58,1.4,1.91,1.91,0,0,1-.58,1.4L9.25,21ZM18.45,9,17,7.55Zm-12,3A5.31,5.31,0,0,0,4.9,8.1,5.31,5.31,0,0,0,1,6.5,5.31,5.31,0,0,0,4.9,4.9,5.31,5.31,0,0,0,6.5,1,5.31,5.31,0,0,0,8.1,4.9,5.31,5.31,0,0,0,12,6.5,5.46,5.46,0,0,0,6.5,12Z\"/>\n",
              "  </svg>\n",
              "    </button>\n",
              "    <script>\n",
              "      (() => {\n",
              "      const buttonEl =\n",
              "        document.querySelector('#id_264cccf9-f827-424b-aaba-dc271690bbc0 button.colab-df-generate');\n",
              "      buttonEl.style.display =\n",
              "        google.colab.kernel.accessAllowed ? 'block' : 'none';\n",
              "\n",
              "      buttonEl.onclick = () => {\n",
              "        google.colab.notebook.generateWithVariable('datos');\n",
              "      }\n",
              "      })();\n",
              "    </script>\n",
              "  </div>\n",
              "\n",
              "    </div>\n",
              "  </div>\n"
            ],
            "application/vnd.google.colaboratory.intrinsic+json": {
              "type": "dataframe",
              "variable_name": "datos",
              "summary": "{\n  \"name\": \"datos\",\n  \"rows\": 54025,\n  \"fields\": [\n    {\n      \"column\": \"ingresos_cliente\",\n      \"properties\": {\n        \"dtype\": \"number\",\n        \"std\": 9658.762569130264,\n        \"min\": 2700.0,\n        \"max\": 450000.0,\n        \"num_unique_values\": 663,\n        \"samples\": [\n          11018.7,\n          38520.0,\n          17796.6\n        ],\n        \"semantic_type\": \"\",\n        \"description\": \"\"\n      }\n    },\n    {\n      \"column\": \"anualidad_prestamo\",\n      \"properties\": {\n        \"dtype\": \"number\",\n        \"std\": 1305.3647344874787,\n        \"min\": 218.7,\n        \"max\": 22500.0,\n        \"num_unique_values\": 8004,\n        \"samples\": [\n          5339.7,\n          5067.0,\n          5757.3\n        ],\n        \"semantic_type\": \"\",\n        \"description\": \"\"\n      }\n    },\n    {\n      \"column\": \"a\\u00f1os_casa_propia\",\n      \"properties\": {\n        \"dtype\": \"number\",\n        \"std\": 7.452120104984191,\n        \"min\": 0.0,\n        \"max\": 69.0,\n        \"num_unique_values\": 53,\n        \"samples\": [\n          11.0,\n          31.0,\n          32.0\n        ],\n        \"semantic_type\": \"\",\n        \"description\": \"\"\n      }\n    },\n    {\n      \"column\": \"telefono_trab\",\n      \"properties\": {\n        \"dtype\": \"number\",\n        \"std\": 0,\n        \"min\": 0,\n        \"max\": 1,\n        \"num_unique_values\": 2,\n        \"samples\": [\n          0,\n          1\n        ],\n        \"semantic_type\": \"\",\n        \"description\": \"\"\n      }\n    },\n    {\n      \"column\": \"evaluacion_ciudad\",\n      \"properties\": {\n        \"dtype\": \"number\",\n        \"std\": 0.49880682251877845,\n        \"min\": 1.0,\n        \"max\": 3.0,\n        \"num_unique_values\": 4,\n        \"samples\": [\n          3.0,\n          2.030038427084816\n        ],\n        \"semantic_type\": \"\",\n        \"description\": \"\"\n      }\n    },\n    {\n      \"column\": \"score_1\",\n      \"properties\": {\n        \"dtype\": \"number\",\n        \"std\": 0.14238945649917853,\n        \"min\": 0.014568132,\n        \"max\": 0.942680454,\n        \"num_unique_values\": 23062,\n        \"samples\": [\n          0.475611877,\n          0.435226091\n        ],\n        \"semantic_type\": \"\",\n        \"description\": \"\"\n      }\n    },\n    {\n      \"column\": \"score_2\",\n      \"properties\": {\n        \"dtype\": \"number\",\n        \"std\": 0.8759454878096079,\n        \"min\": 5e-06,\n        \"max\": 100.0,\n        \"num_unique_values\": 38047,\n        \"samples\": [\n          0.416306086,\n          0.675062411\n        ],\n        \"semantic_type\": \"\",\n        \"description\": \"\"\n      }\n    },\n    {\n      \"column\": \"score_3\",\n      \"properties\": {\n        \"dtype\": \"number\",\n        \"std\": 0.06272486372343226,\n        \"min\": 0.000527265,\n        \"max\": 0.869210801,\n        \"num_unique_values\": 612,\n        \"samples\": [\n          0.420610964,\n          0.168416171\n        ],\n        \"semantic_type\": \"\",\n        \"description\": \"\"\n      }\n    },\n    {\n      \"column\": \"score_social\",\n      \"properties\": {\n        \"dtype\": \"number\",\n        \"std\": 0.0761796573204536,\n        \"min\": 0.0,\n        \"max\": 1.0,\n        \"num_unique_values\": 1459,\n        \"samples\": [\n          0.1674,\n          0.6381\n        ],\n        \"semantic_type\": \"\",\n        \"description\": \"\"\n      }\n    },\n    {\n      \"column\": \"cambio_telefono\",\n      \"properties\": {\n        \"dtype\": \"number\",\n        \"std\": 818.1417090553241,\n        \"min\": 0.0,\n        \"max\": 4185.0,\n        \"num_unique_values\": 3408,\n        \"samples\": [\n          966.0,\n          3099.0\n        ],\n        \"semantic_type\": \"\",\n        \"description\": \"\"\n      }\n    },\n    {\n      \"column\": \"moroso\",\n      \"properties\": {\n        \"dtype\": \"number\",\n        \"std\": 0,\n        \"min\": 0,\n        \"max\": 1,\n        \"num_unique_values\": 2,\n        \"samples\": [\n          1,\n          0\n        ],\n        \"semantic_type\": \"\",\n        \"description\": \"\"\n      }\n    }\n  ]\n}"
            }
          },
          "metadata": {},
          "execution_count": 3
        }
      ]
    },
    {
      "cell_type": "code",
      "source": [
        "# segmentar nuestro conjunto de datos en nuestra base para poder obtener todos los atributos explicativos de mi variable de respuesta.\n",
        "X= datos.drop(columns='moroso',axis=1)          # X todas las variables explicativas, desde el ingreso del cliente hasta el cambio de teléfono.\n",
        "y = datos.moroso                                # Y va a ser únicamente la columna morosos."
      ],
      "metadata": {
        "id": "MikoMXI7P4dG"
      },
      "execution_count": 4,
      "outputs": []
    },
    {
      "cell_type": "code",
      "source": [
        "# modelo de clasificación de árbol\n",
        "from sklearn.tree import DecisionTreeClassifier\n",
        "\n",
        "# creamos el modelo\n",
        "# cuando no se pasa ningún parámetro da un puntaje de 100%\n",
        "modelo = DecisionTreeClassifier()    # .fit()se utiliza para entrenar un modelo a partir de las variables explicativas y la variable respuesta.\n",
        "modelo.fit(X,y)\n",
        "modelo.score(X,y)                   # la finalidad de comparar las predicciones realizadas por el modelo con los valores reales de los datos y calcula una tasa de acierto en porcentaje llamada exactitud.\n"
      ],
      "metadata": {
        "id": "_d_sqVJcQcGA",
        "outputId": "40275bbc-2b5a-453b-8916-ddb993d3e758",
        "colab": {
          "base_uri": "https://localhost:8080/"
        }
      },
      "execution_count": 7,
      "outputs": [
        {
          "output_type": "execute_result",
          "data": {
            "text/plain": [
              "1.0"
            ]
          },
          "metadata": {},
          "execution_count": 7
        }
      ]
    },
    {
      "cell_type": "code",
      "source": [
        "print(f'La exactitud del modelo es: {modelo.score(X,y)}')"
      ],
      "metadata": {
        "id": "hO2e9F_7TXPN",
        "outputId": "b55eec78-0bbc-45d8-d9f3-ce2e9b481a25",
        "colab": {
          "base_uri": "https://localhost:8080/"
        }
      },
      "execution_count": 8,
      "outputs": [
        {
          "output_type": "stream",
          "name": "stdout",
          "text": [
            "La exactitud del modelo es: 1.0\n"
          ]
        }
      ]
    },
    {
      "cell_type": "markdown",
      "source": [
        "### Validando el modelo"
      ],
      "metadata": {
        "id": "EPrFcm39oAof"
      }
    },
    {
      "cell_type": "markdown",
      "source": [
        "Evaluar el modelo con los mismos datos utilizados en el entrenamiento no es recomendable. Es necesario que la evaluación se realice con datos independientes.  \n",
        "\n",
        "Evaluar el modelo con los propios datos de entrenamiento sería equivalente a entregar un examen con las preguntas y las respuestas a una persona y, al momento de evaluarla nuevamente, entregarle un examen con las mismas preguntas y opciones. Se espera que esa persona obtenga un buen resultado, ya que ya ha visto las respuestas y ha memorizado el resultado. Esto es diferente de haber aprendido la materia a partir de ese examen y luego presentar una prueba con contenido similar y obtener un resultado positivo.  \n",
        "\n",
        "Con el objetivo de verificar la capacidad de generalización de un modelo, debemos dividir el conjunto de datos en tres partes: datos de entrenamiento, validación y prueba.  \n",
        "\n",
        "- El **conjunto de entrenamiento** se utiliza para entrenar los modelos. A partir de este conjunto, los modelos identifican patrones en los datos.  \n",
        "\n",
        "- El **conjunto de validación** se emplea para evaluar el desempeño de diferentes modelos con datos nuevos que no fueron utilizados en el entrenamiento.  \n",
        "\n",
        "- El **conjunto de prueba** se mantiene separado desde el inicio para simular datos del mundo real. No se utiliza en ninguna etapa del entrenamiento ni de la validación, sirviendo como una estimación de la capacidad del modelo elegido para generalizar y predecir nuevos datos."
      ],
      "metadata": {
        "id": "v0u-uij9eNcD"
      }
    },
    {
      "cell_type": "markdown",
      "source": [
        "<a href=\"https://ibb.co/9H2Z1HZ5\"><img src=\"https://i.ibb.co/0yZs6ysb/datos-train-test.png\" alt=\"datos-train-test\" border=\"0\"></a>"
      ],
      "metadata": {
        "id": "TCIN5oOJFk_W"
      }
    },
    {
      "cell_type": "code",
      "source": [
        "from sklearn.model_selection import train_test_split   # separa en base de entrenamiento y en base de prueba\n"
      ],
      "metadata": {
        "id": "OICJjv9HP1QZ"
      },
      "execution_count": 10,
      "outputs": []
    },
    {
      "cell_type": "markdown",
      "source": [
        "Vamos a hacer primero la separación para el entrenamiento y validación y para prueba, y después vamos a hacer la separación de entrenamiento y validación efectivamente. ¿Cómo lo hacemos? Vamos a tomar nuestra X, nuestra X, Test, vamos a tomar nuestra Y y nuestra Y, Test que van a ser los de prueba y vamos a hacer lo siguiente Train, Test, Split. Vamos a introducirle nuestra X, nuestra Y, vamos a tomar una base de prueba Test, Size del 15%, 0.15 y vamos a utilizar el método Stratify.\n",
        "\n",
        "¿Cuál es el objetivo de hacer este Stratify? Que deje la misma cantidad de observaciones para morosos en los dos conjuntos de datos que estoy separando. ¿Qué quiere decir ello? Que si en mi conjunto de prueba tengo un 10% de morosos, también quiero que en mi conjunto de entrenamiento y validación exista un 10% de morosos. Entonces, esa es la idea y vamos a hacer este Stratify utilizando nuestra Y.\n",
        "\n",
        "Por último, vamos a establecer un estado de aleatoriedad RandomState y vamos a darle el número 5. El estado de aleatoriedad básicamente nos permite replicar esta misma división en cualquier momento, es decir, la forma en que voy a dividir mis muestras en este ejercicio podrá replicarse en cualquier máquina, porque siempre que utilice el RandomState 5 él va a dividir de la misma manera, por eso se llama un estado de pseudo aleatoriedad."
      ],
      "metadata": {
        "id": "LK2qnWIqTImH"
      }
    },
    {
      "cell_type": "markdown",
      "source": [
        "Vamos a hacer lo mismo pero para la validación. Entonces, vuelvo y tomo mi nueva X y mi nueva Y, ¿verdad? Y en vez de XTEST aquí voy a llamar XVAL y YVAL, ¿ok?\n",
        "\n",
        "Y aquí, en lugar de dejarlo como X, lo voy a cambiar a XTRAIN y en lugar de dejar Y así, lo voy a cambiar a YTRAIN. De esta manera, ya segmento mis datos para entrenamiento y para prueba. No voy a especificar el tamaño de la prueba porque por defecto es el 25%. Si observas aquí, indica que cuando no se aplica un tamaño de prueba, se configura al 25%, así que lo dejaré así."
      ],
      "metadata": {
        "id": "yWRRRFIAXdoD"
      }
    },
    {
      "cell_type": "code",
      "source": [
        "X,X_test,y,y_test = train_test_split(X,y,test_size=0.15,stratify=y,random_state=5)\n",
        "\n",
        "# lo mismo pero para la validación.\n",
        "X_train,X_val,y_train,y_val = train_test_split(X,y,stratify=y,random_state=5)\n"
      ],
      "metadata": {
        "id": "mvDcVFFDP1sB"
      },
      "execution_count": 11,
      "outputs": []
    },
    {
      "cell_type": "code",
      "source": [
        "# instanciamos el modelo,  no es la mejor forma.\n",
        "modelo = DecisionTreeClassifier()\n",
        "modelo.fit(X_train,y_train)\n",
        "print(f'La exactitud del modelo con el conjunto de entenamiento es: {modelo.score(X_train,y_train)}')\n",
        "print(f'La exactitud del modelo con el conjunto de validación es: {modelo.score(X_val,y_val)}')\n"
      ],
      "metadata": {
        "id": "sEJPwwG_P1Md",
        "outputId": "e34b5762-66a9-47d3-f8f1-c7f0f66c9c6f",
        "colab": {
          "base_uri": "https://localhost:8080/"
        }
      },
      "execution_count": 12,
      "outputs": [
        {
          "output_type": "stream",
          "name": "stdout",
          "text": [
            "La exactitud del modelo con el conjunto de entenamiento es: 1.0\n",
            "La exactitud del modelo con el conjunto de validación es: 0.8500130650640189\n"
          ]
        }
      ]
    },
    {
      "cell_type": "code",
      "source": [
        "# instanciamos el modelo de mejor manera, debemos colocar la profundidad para que no vaya hasta el final\n",
        "modelo = DecisionTreeClassifier(max_depth=10)\n",
        "modelo.fit(X_train,y_train)\n",
        "print(f'La exactitud del modelo con el conjunto de entenamiento es: {modelo.score(X_train,y_train)}')\n",
        "print(f'La exactitud del modelo con el conjunto de validación es: {modelo.score(X_val,y_val)}')"
      ],
      "metadata": {
        "id": "NIeGQZGcP1J1",
        "outputId": "6253c7a0-979f-4a4f-ba9a-bc14c08cf109",
        "colab": {
          "base_uri": "https://localhost:8080/"
        }
      },
      "execution_count": 13,
      "outputs": [
        {
          "output_type": "stream",
          "name": "stdout",
          "text": [
            "La exactitud del modelo con el conjunto de entenamiento es: 0.9206155632984901\n",
            "La exactitud del modelo con el conjunto de validación es: 0.9054089365037888\n"
          ]
        }
      ]
    },
    {
      "cell_type": "markdown",
      "source": [
        "Y ahora observa que ya con este parámetro, durante mi entrenamiento llegó a un 92% y la exactitud del modelo al momento de validarlo fue el 90%. ¿Cuál es la conclusión aquí? Está generalizando mejor. ¿Por qué? Porque no se está memorizando todas las salidas y únicamente ajustamos un parámetro.Entonces aquí ya comenzamos a encontrar el camino para poder hacer nuestra validación del modelo, pero ahora también nos falta evaluarlo."
      ],
      "metadata": {
        "id": "8SCoEc2GZ_Sp"
      }
    },
    {
      "cell_type": "markdown",
      "source": [
        "### Evaluando el modelo"
      ],
      "metadata": {
        "id": "WtlRAZt96VLG"
      }
    },
    {
      "cell_type": "code",
      "source": [
        "# importamos la matriz de confusión\n",
        "from sklearn.metrics import confusion_matrix"
      ],
      "metadata": {
        "id": "IlUZBhPrPyYh"
      },
      "execution_count": 15,
      "outputs": []
    },
    {
      "cell_type": "markdown",
      "source": [],
      "metadata": {
        "id": "ycFRmt8DchrM"
      }
    },
    {
      "cell_type": "markdown",
      "source": [
        "Crear una variable que llamaremos y_predicha. Y ella va a tomar nuestro último modelo, entonces vamos a hacer modelo.predict y vamos a hacer una predicción con la X de validación.\n",
        "\n",
        "Después vamos a crear nuestra matriz de confusión que va a tomar nuestra confusion_matrix, que recibe la Y de validación y la y_predicha. Entonces, hace esa comparación de los valores reales. La Y de validación es el valor real y la y_predicha es la que estamos prediciendo a través del modelo. Y vamos a hacer un print de la matriz de confusión."
      ],
      "metadata": {
        "id": "huUOo7LqdIHk"
      }
    },
    {
      "cell_type": "code",
      "source": [
        "# creamos una variable y ella toma el último modelo.\n",
        "y_previsto = modelo.predict(X_val)\n",
        "matriz_confusion = confusion_matrix(y_val,y_previsto)\n",
        "print(matriz_confusion)"
      ],
      "metadata": {
        "id": "iill3u5HPyOA",
        "outputId": "98e3bfc8-a26b-4346-8def-bf9118b8a8cd",
        "colab": {
          "base_uri": "https://localhost:8080/"
        }
      },
      "execution_count": 16,
      "outputs": [
        {
          "output_type": "stream",
          "name": "stdout",
          "text": [
            "[[10351   128]\n",
            " [  958    44]]\n"
          ]
        }
      ]
    },
    {
      "cell_type": "markdown",
      "source": [
        "Observa que me devolvió una matriz, pero no sé realmente estos valores. 10,356, 123, 957, 45. ¿Pero qué? ¿Qué es qué? Entonces, para ello vamos a continuar aquí importando recursos. From sklearn.metrics import confusion_matrix display, que nos va a permitir dibujar nuestra matriz de confusión."
      ],
      "metadata": {
        "id": "KPzQWjD2eC5z"
      }
    },
    {
      "cell_type": "code",
      "source": [
        "from sklearn.metrics import ConfusionMatrixDisplay"
      ],
      "metadata": {
        "id": "gtFWt6emPyJt"
      },
      "execution_count": 17,
      "outputs": []
    },
    {
      "cell_type": "markdown",
      "source": [
        "Vamos a crear una variable que llamaremos visualizacion y ella recibe nuestra matriz de confusión. Y vamos a dar visualizacion.plot(). Abrimos y cerramos paréntesis, colocamos punto y coma, porque si no tendríamos que importar matplotlib para hacer un plt.show. Aquí con el punto y coma ya directamente se abstrae esa parte.\n",
        "Tenemos nuestra matriz de confusión. En el eje Y tenemos los valores reales, 0 siendo cumplido, 1 siendo deudor. Y aquí en el eje X tenemos los valores previstos, 0 siendo cumplido y 1 siendo deudor."
      ],
      "metadata": {
        "id": "WMbPmwoZeIES"
      }
    },
    {
      "cell_type": "code",
      "source": [
        "visualizacion = ConfusionMatrixDisplay(matriz_confusion)\n",
        "visualizacion.plot();"
      ],
      "metadata": {
        "id": "qg0OgZeqPyGJ",
        "outputId": "4db1589a-72cf-4b50-90f0-e9576ad00bc7",
        "colab": {
          "base_uri": "https://localhost:8080/",
          "height": 449
        }
      },
      "execution_count": 18,
      "outputs": [
        {
          "output_type": "display_data",
          "data": {
            "text/plain": [
              "<Figure size 640x480 with 2 Axes>"
            ],
            "image/png": "[encoded data removed]"
          },
          "metadata": {}
        }
      ]
    },
    {
      "cell_type": "markdown",
      "source": [
        "Voy a tomar aquí nuevamente, porque está un poco difícil aún de leer, y voy a colocar aquí los parámetros mejor. Confusion_matrix es igual a matriz de confusión. Y también voy a colocar los labels. Display_labels. Y los coloco en una lista de Python. Entonces, el primer label va a ser cumplido, que el cliente es cumplido, y el otro label va a ser deudor."
      ],
      "metadata": {
        "id": "y3Pmdf5PfkYp"
      }
    },
    {
      "cell_type": "code",
      "source": [
        "\n",
        "visualizacion = ConfusionMatrixDisplay(confusion_matrix = matriz_confusion,display_labels=['Cumplido','Moroso'])\n",
        "visualizacion.plot();\n"
      ],
      "metadata": {
        "id": "J2Fgk8bDe0E6",
        "outputId": "1dfe2adf-a7d3-4be3-c385-0cb8b1674b7f",
        "colab": {
          "base_uri": "https://localhost:8080/",
          "height": 449
        }
      },
      "execution_count": 19,
      "outputs": [
        {
          "output_type": "display_data",
          "data": {
            "text/plain": [
              "<Figure size 640x480 with 2 Axes>"
            ],
            "image/png": "[encoded data removed]"
          },
          "metadata": {}
        }
      ]
    },
    {
      "cell_type": "markdown",
      "source": [
        "**¿Qué quiere decir mi matriz de confusión?** Que de mi modelo, predijo cumplidos de todo el conjunto de datos, al momento de validar, más de 10,000 clientes de forma correcta. Sin embargo, hubo 957 clientes que mi modelo dijo que eran cumplidos, pero en realidad eran deudores. Es decir, 957 clientes fueron clasificados como clientes cumplidos, pero en realidad eran deudores.\n",
        "Entonces, existe un riesgo muy grande aquí. Y en este lado, ¿verdad? Lo mismo sucede con los morosos. Mi modelo indicó que 123 clientes eran morosos, cuando en realidad eran cumplidos. Y solo identificó a 45 de estos morosos, ¿verdad? Es decir, solo clasificó de manera efectiva a 45 clientes morosos como morosos. Y de manera efectiva, más de 10,000 clientes cumplidos como cumplidos."
      ],
      "metadata": {
        "id": "r00KkDH0gFLg"
      }
    },
    {
      "cell_type": "markdown",
      "source": [
        "Estos números aquí, digamos, son los que nos permitirán trabajar con nuestro modelo para mejorarlo. Porque definitivamente queremos priorizar los casos en los que nuestro cliente realmente es moroso. Y no decir, por ejemplo, que es un cliente moroso cuando en realidad es cumplido. Entonces, dejaría de prestarle a 123 personas o a 123 clientes que me iban a pagar bien. Y estoy prestando a 957 clientes que no me van a pagar bien. Entonces, aquí, digamos, se está asumiendo un riesgo muy grande. Potencialmente, ¿no? Estamos hablando potencialmente."
      ],
      "metadata": {
        "id": "2QqcX_C8giv4"
      }
    },
    {
      "cell_type": "markdown",
      "source": [
        "###**Entendiendo la matriz de confusión**\n",
        "\n",
        "Para obtener una evaluación más completa del desempeño de modelos de clasificación, podemos utilizar una herramienta conocida como matriz de confusión. Esta matriz ofrece ventajas a la persona científica de datos, ya que permite entender cuántos errores y aciertos tiene las predicciones de un modelo. En lugar de una tasa de acierto general, la matriz es capaz de proporcionar información en una visualización para cada una de las categorías de la variable objetivo.\n",
        "\n",
        "Piensa en un sistema de seguridad de un edificio que utiliza cámaras para identificar personas que entran. La \"matriz de confusión\" se vuelve valiosa, ya que permite verificar cuántas veces el sistema acertó al identificar correctamente a las personas autorizadas, cuántas veces acusó erróneamente a personas y cuántas veces dejó pasar a personas no autorizadas. Con estos números, es posible ajustar el sistema para minimizar falsos positivos y negativos, mejorando su precisión en la detección de visitantes.\n",
        "Las categorías de la variable objetivo están representadas por el valor 0 (ausencia del atributo), también llamado negativo, y por el valor 1 (presencia del atributo), también llamado positivo.\n",
        ".Verdaderos Negativos (VN): Cuando el valor real es 0 y la predicción también es 0. Indica que el modelo clasificó correctamente los valores de la clase negativa.\n",
        "\n",
        ".Falsos Positivos (FP): Cuando el valor real es 0 y la predicción es 1. Indica que el modelo clasificó erróneamente un elemento de la clase negativa como si fuera de la clase positiva.\n",
        "\n",
        ".Falsos Negativos (FN): Cuando el valor real es 1 y la predicción es 0. Indica que el modelo clasificó erróneamente un elemento de la clase positiva como si fuera de la clase negativa.\n",
        "\n",
        ".Verdaderos Positivos (VP): Cuando el valor real es 1 y la predicción también es 1. Indica que el modelo clasificó correctamente los valores de la clase positiva.\n",
        "\n",
        "Estos valores son muy útiles para un análisis más profundo del modelo de clasificación. Esto permite identificar las capacidades y limitaciones de la predicción, si hay un equilibrio entre los aciertos y errores o si el resultado está sesgado hacia una clase en detrimento de la otra. Con esto, es evidente que la matriz de confusión es una herramienta mucho más completa que la métrica de precisión, que representa solo el porcentaje de aciertos del modelo, sin considerar las clases de manera aislada.\n"
      ],
      "metadata": {
        "id": "N55UPwJAg6bv"
      }
    },
    {
      "cell_type": "markdown",
      "source": [
        "## <font color='dark'>Métricas de evaluación</h1>"
      ],
      "metadata": {
        "id": "tPogL-24ntSH"
      }
    },
    {
      "cell_type": "markdown",
      "source": [
        "### Exactitud, precisión y recall (sensibilidad)."
      ],
      "metadata": {
        "id": "nP1WfyyR6XMl"
      }
    },
    {
      "cell_type": "markdown",
      "source": [
        "Tenemos verdaderos negativos en este primer cuadrante, que son los casos donde el valor real era cero, es decir, cumplido, es un cliente cumplido, cero. Y el valor predicho era cero, es decir, verdadero negativo. Realmente este es un cliente cumplido, verdadero negativo, que fueron más de 10.000.\n",
        "\n",
        "También tenemos el caso donde el valor real era cero, pero yo predije que era un cliente moroso, entonces es un falso positivo, es decir, es un falso 1, es un falso moroso porque realmente este es cumplido. El falso positivo se conoce como error tipo 1.\n",
        "\n",
        "Además, en este tercer cuadrante tengo los valores reales cuando es moroso, es decir, cuando es 1. Entonces, 1, y mi modelo dijo que era cumplido, es decir, que era cero, entonces es un falso negativo, es decir, yo lo predije como cero, falsamente, falso negativo, entonces tengo un error tipo 2. Hubo 957 casos donde mi modelo dijo que eran clientes cumplidos cuando en realidad eran morosos.\n",
        "\n",
        "Este número es muy importante. Y también tenemos los verdaderos positivos, que son los casos en los cuales el modelo efectivamente predijo clientes morosos que sí realmente eran morosos, entonces nota que únicamente hubo 45. Ya viendo estos números sin necesidad de entrar en fórmulas, ya sé que mi modelo no está generalizando bien."
      ],
      "metadata": {
        "id": "NQN5Dh5TkJD7"
      }
    },
    {
      "cell_type": "markdown",
      "source": [
        "<a href=\"https://ibb.co/351SbY7t\"><img src=\"https://i.ibb.co/wZypqrRD/matriz-confusion.png\" alt=\"matriz-confusion\" border=\"0\"></a>"
      ],
      "metadata": {
        "id": "oE8N0NqoH6hy"
      }
    },
    {
      "cell_type": "markdown",
      "source": [
        "Las métricas que vamos a calcular, que son precisión, recall, y F1 score. Accuracy, o exactitud, que es la primera métrica que utilizamos que era score, ella únicamente suma verdaderos positivos y verdaderos negativos, es decir, suma estos 10,000, más de 10,000, más estos 45, y los divide en el total de observaciones, es decir, sumando todo, sumando todos estos cuadritos.\n",
        "\n",
        "Entonces, lógicamente, si aquí tengo 10,000 y aquí tengo 45 y únicamente le estoy sumando 1,000 más, entonces el número va a quedar alrededor del 90%, es decir, 10,000 sobre 11,000, ¿sí? , algo así. Entonces yo no voy a entrar aquí a hacer cálculos en mi mente, pero para que utilicemos los recursos de Scikit-learn, entonces vamos a importar estas métricas."
      ],
      "metadata": {
        "id": "x5uDPlXolNXB"
      }
    },
    {
      "cell_type": "markdown",
      "source": [
        "<a href=\"https://imgbb.com/\"><img src=\"https://i.ibb.co/6Jp6rKyC/Captura-de-tela-2025-03-22-120744.png\" alt=\"Captura-de-tela-2025-03-22-120744\" border=\"0\"></a>"
      ],
      "metadata": {
        "id": "k0ldCSgoZiPX"
      }
    },
    {
      "cell_type": "code",
      "source": [
        "from sklearn.metrics import accuracy_score, precision_score, recall_score,f1_score\n"
      ],
      "metadata": {
        "id": "IIEaf2fmPmq1"
      },
      "execution_count": 22,
      "outputs": []
    },
    {
      "cell_type": "markdown",
      "source": [
        "Qué es la precisión? Verdaderos positivos, es decir, true positive (verdadero positivo), 45, es decir, en 45 casos que él identificó que realmente eran morosos, dividido entre verdaderos positivos más falsos positivos, es decir, dividido entre este valor más este valor, entonces 45 sobre 45 más 123.\n",
        "Voy a hacerlo aquí a mano antes de usar la biblioteca."
      ],
      "metadata": {
        "id": "P91iL8f-nwKP"
      }
    },
    {
      "cell_type": "code",
      "source": [
        "# precisión\n",
        "45/(45+123)"
      ],
      "metadata": {
        "id": "QnGxEIrWPmbx",
        "outputId": "e7a1d443-9892-4db4-b8d0-2bf0950f2ea4",
        "colab": {
          "base_uri": "https://localhost:8080/"
        }
      },
      "execution_count": 20,
      "outputs": [
        {
          "output_type": "execute_result",
          "data": {
            "text/plain": [
              "0.26785714285714285"
            ]
          },
          "metadata": {},
          "execution_count": 20
        }
      ]
    },
    {
      "cell_type": "markdown",
      "source": [
        "Tengo la precisión, tengo la sensibilidad, que es el mismo recall (recuerdo), voy a colocar aquí entre paréntesis recall. Entonces, ¿cómo es el recall? Aquí solo cambio, en vez de precisión, coloco recall, y la exactitud. Entonces, la exactitud aquí sería accuracy, del modelo es accuracy score. Entonces, voy a hacer esta impresión aquí. La precisión de mi modelo es exactamente el número que les mostré aquí, el mismo cálculo lo hizo para recall, la sensibilidad. ¿Qué quiere decir esto? Que tiene un 4% de sensibilidad. ¿Por qué? ¿Cómo calcula la sensibilidad? Toma los verdaderos positivos, ¿verdad? Y los divide entre el valor de verdaderos positivos más falsos negativos, o sea, 45 dividido entre 45 más 957.\n",
        "\n"
      ],
      "metadata": {
        "id": "zx1sOzcFna1n"
      }
    },
    {
      "cell_type": "code",
      "source": [
        "print(f'La precisión del modelo es: {precision_score(y_val,y_previsto)}')\n",
        "print(f'La sensibilidad (Recall)  del modelo es: {recall_score(y_val,y_previsto)}')\n",
        "print(f'La exactitud (accuracy) del modelo es: {accuracy_score(y_val,y_previsto)}')\n"
      ],
      "metadata": {
        "id": "7C7NoVZnPmX1",
        "outputId": "5c8ec3bd-aede-4937-bb5c-01dbdf544849",
        "colab": {
          "base_uri": "https://localhost:8080/"
        }
      },
      "execution_count": 23,
      "outputs": [
        {
          "output_type": "stream",
          "name": "stdout",
          "text": [
            "La precisión del modelo es: 0.2558139534883721\n",
            "La sensibilidad (Recall)  del modelo es: 0.043912175648702596\n",
            "La exactitud (accuracy) del modelo es: 0.9054089365037888\n"
          ]
        }
      ]
    },
    {
      "cell_type": "markdown",
      "source": [
        "Entonces, ¿qué quiere decir esto? Estoy prestando dinero, o la financiera, la empresa financiera está financiando a muchas personas morosas, entonces esto es un problema muy serio. La métrica de validación que se va a utilizar, la que vamos a mejorar es el recall. Queremos disminuir al máximo el error tipo 2, y vamos a ver solo como referencia el F1 score, solo para tenerlo como referencia"
      ],
      "metadata": {
        "id": "vD5KsQAIojZV"
      }
    },
    {
      "cell_type": "markdown",
      "source": [
        "Entonces, voy a copiar aquí, pegar, el F1 score del modelo, que penaliza a mi modelo. ¿Qué hace? Toma, ¿verdad? dos veces la precisión por el recall, dividido entre la precisión más el recall. Entonces, penaliza a mi modelo, voy a tener también seguramente un valor cercano, aquí puse accuracy, es el F1, un valor cercano a 0, ok. Entonces, 0.076, o sea, mientras más lejos de 1, quiere decir que el modelo está desempeñándose muy mal."
      ],
      "metadata": {
        "id": "FKE2p1VppfM1"
      }
    },
    {
      "cell_type": "code",
      "source": [
        "print(f'El F1-scorre del modelo es: {f1_score(y_val,y_previsto)}')"
      ],
      "metadata": {
        "id": "u2SqICFJPmU-",
        "outputId": "278c65ae-1559-470b-a784-7cfc1873845e",
        "colab": {
          "base_uri": "https://localhost:8080/"
        }
      },
      "execution_count": 24,
      "outputs": [
        {
          "output_type": "stream",
          "name": "stdout",
          "text": [
            "El F1-scorre del modelo es: 0.07495741056218058\n"
          ]
        }
      ]
    },
    {
      "cell_type": "markdown",
      "source": [
        "###**Cuándo usar cada métrica**\n",
        "\n",
        "Evaluar de manera adecuada el desempeño de un modelo de machine learning es esencial para asegurar que el modelo está resolviendo el problema de negocio que necesita ser solucionado. Existen diversas métricas que pueden ser utilizadas para evaluar el desempeño de los modelos de clasificación, cada una de ellas tiene ventajas y limitaciones. Estas métricas se calculan a partir de la comparación entre las clasificaciones realizadas por el modelo y los valores reales de la base de datos. Por lo tanto, pueden ser extraídas a partir de una matriz de confusión. Las principales métricas de clasificación son:\n",
        "\n",
        "**Exactitud**\n",
        "\n",
        "Es la métrica más común y básica en problemas de clasificación. Se utiliza para medir la proporción de datos previstos correctamente por el modelo en relación al total de los datos. Esta métrica es útil cuando las clases de la variable objetivo están balanceadas, es decir, cuando hay una cantidad equilibrada de datos para cada clase y una importancia equivalente de clasificación entre las categorías. Como ejemplo de utilización, tenemos el reconocimiento de dígitos manuscritos. Podemos utilizar imágenes de caracteres de letras y números para entrenar un modelo de clasificación para identificar correctamente la escritura. Como cada letra o número no tiene una importancia mayor que los demás, la exactitud se convierte en una buena métrica para medir la capacidad del modelo en clasificar correctamente los dígitos.\n",
        "\n",
        "**Recuperación (recall)**\n",
        "\n",
        "Mide la proporción de datos positivos que fueron correctamente identificados por el modelo, es decir, revela la capacidad del modelo en evitar la clasificación incorrecta de datos positivos como negativos. Se usa cuando el riesgo o costo de clasificar falsos negativos es alto. Por ejemplo, en casos de diagnóstico de enfermedades graves, donde es fundamental detectar correctamente la presencia de la enfermedad.\n",
        "\n",
        "A continuación, podemos constatar el cálculo del recall a partir de la matriz de confusión. El recall solo toma en cuenta los valores positivos reales, es decir, los valores de la segunda fila de la matriz. Se calcula a partir de la división entre Verdaderos Positivos (VP) y la suma de todos los positivos reales (VP + FN).\n",
        "\n",
        "**Precisión**\n",
        "\n",
        "Mide la proporción de datos clasificados como positivos que son realmente positivos, es decir, revela la capacidad del modelo en evitar la clasificación incorrecta de datos negativos como positivos. Se usa cuando el riesgo o costo de clasificar falsos positivos es alto, por ejemplo, en casos de selección de acciones en el mercado financiero, donde lo importante es seleccionar acciones que tengan gran probabilidad de retorno, reduciendo la cantidad de acciones malas (falsos positivos) incluso si otras buenas acciones no han sido detectadas por el modelo (falso negativo). La precisión también es importante en el ejemplo de detección de enfermedades, donde queremos evitar que pacientes sanos sean erróneamente clasificados como enfermos.\n",
        "\n",
        "A continuación, podemos analizar el cálculo de la precisión a partir de la matriz de confusión. La precisión solo toma en cuenta los valores positivos previstos por el modelo, es decir, los valores de la segunda columna de la matriz. Se calcula a partir de la división entre Verdaderos Positivos (VP) y la suma de todos los positivos previstos (VP + FP).\n",
        "\n",
        "**F1-Score**\n",
        "\n",
        "Proporciona un equilibrio entre el recall y la precisión, siendo útil cuando las clases de la variable objetivo están desbalanceadas, es decir, cuando hay una cantidad de datos muy diferente para cada clase. Además, es aplicable cuando el riesgo o costo de falsos positivos y de falsos negativos es alto simultáneamente. En casos de detección de tumores en pacientes, es necesario tener un equilibrio entre evitar errores en la detección de tumores cuando la persona realmente los tiene y evitar errores al informar que una persona tiene un tumor cuando en realidad no lo tiene.\n",
        "\n",
        "El cálculo del F1-Score se realiza a partir de la media armónica entre la precisión y el recall. Por lo tanto, equivale a 2 veces la precisión por el recall, dividido por la suma entre la precisión y el recall"
      ],
      "metadata": {
        "id": "BViIMm9cp9s9"
      }
    },
    {
      "cell_type": "markdown",
      "source": [
        "### Curva ROC"
      ],
      "metadata": {
        "id": "I8ELhexg2jNx"
      }
    },
    {
      "cell_type": "markdown",
      "source": [
        "¿cómo se interpreta? Este color mostaza, que tengo aquí en mi gráfica, representa los verdaderos negativos. Este, que es como un mostaza más claro, falsos positivos. Este, azul, aguamarina, o azul claro, sería falsos negativos. Y este, azul, que es como un azul oscuro, verdadero positivo. Aquí tengo mi predictor. ¿Qué quiere decir esto? Este es como mi árbol de decisión de profundidad 10, que instancié y quedó así mi modelo.\n",
        "\n",
        "A través de las Características Operativas del Receptor, lo que hago es ajustar mi modelo para priorizar una métrica sobre la otra. Entonces, volviendo a nuestra gráfica de la Matriz de Confusión, tengo esta métrica que son los morosos, es decir, los verdaderos positivos. Quiero que cuando sean morosos, mi modelo sea capaz de hacer una previsión correcta de que es moroso. Pero mi modelo, únicamente predijo 45 personas morosas y hubo personas que eran morosas, ¿verdad? 957, casi el 95% de las observaciones del total de morosos de la base fueron clasificados como cumplidos.\n",
        "\n",
        "Entonces, ¿qué quiere decir esto? Que el 95% de las veces mi modelo está prestando a personas o potencialmente me va a llevar a hacer préstamos a personas que no van a pagar. Entonces, lo que quiero es disminuir el error tipo 2, es decir, aumentar mi puntaje de RECALL. Es decir, que tenga más identificados los morosos, es decir, que ya no sean 45, sino que en la medida de lo posible pueda maximizar la identificación o la clasificación de clientes morosos.\n",
        "\n",
        "¿Cuál es el trade-off o a cambio de qué? Entonces, nota que también tengo una tasa de falsos positivos, que es el error tipo 1. Entonces, aquí tengo falsos positivos, ¿verdad? Y en la medida que identifique más morosos, lógicamente, mi número de falsos positivos va a aumentar y el número de personas cumplidas, que fue clasificada como cumplida, es decir, verdaderos negativos, va a disminuir porque estos valores van a ser, es decir, la suma de todos estos valores no va a cambiar. Lo único que se va a modificar es la distribución, como los voy a dejar clasificados al final.\n",
        "\n",
        "Entonces, voy a disminuir a los cumplidos, los voy a volver falsos positivos para poder identificar a los morosos. Entonces, seguramente dejaré de recibir dinero de personas cumplidas, es decir, dejaré de hacer préstamos porque los voy a clasificar mal, siendo falsos positivos, a cambio de identificar a más morosos.\n",
        "\n",
        "Entonces, la curva ROC, volviendo nuevamente a este gráfico, pensemos que este azul oscuro son los verdaderos positivos, es decir, los morosos. Entonces, en la medida que identifique más morosos, nota que también comienzo a sacrificar de este lado a personas. Es decir, digamos, me vengo aquí, clasifiqué a los 900 morosos de forma correcta, pero si trazo esta recta hasta arriba, esto quiere decir que voy a tener toda esta cantidad de falsos positivos, ¿verdad?, de mi base.\n",
        "\n",
        "Entonces, si tengo una base de 10,000 personas, quiere decir que, para poder clasificar correctamente a mis 900 morosos, voy a sacrificar 9,000 personas de la base de datos que son cumplidas. Entonces, eso realmente es un problema, porque dejé de hacer préstamo a 9,000 personas para identificar a 900, tampoco es la idea. La idea es encontrar en qué parte dejo ajustado mi modelo, ¿verdad?, en qué parte coloco esta recta para maximizar mi RECALL sin, digamos, afectar la precisión de mi modelo.\n",
        "\n",
        "Entonces, el área bajo la curva, ¿verdad? Me ayuda a identificar este caso. Mientras más cerca esté a este lado, lógicamente, mejor para mi modelo, pero a cambio de qué, ¿verdad? ¿Cuál es el tradeoff (compensación)?\n",
        "\n",
        "La curva AUC, en el mejor de los casos, es 100%. De esta forma, con Python y Scikit-Learn, podemos medir cómo está la curva AUC de nuestro modelo."
      ],
      "metadata": {
        "id": "TEM0WQN0svCT"
      }
    },
    {
      "cell_type": "code",
      "source": [
        "from IPython.display import Image\n",
        "Image(url='https://raw.githubusercontent.com/dariyasydykova/open_projects/master/ROC_animation/animations/cutoff.gif')"
      ],
      "metadata": {
        "colab": {
          "base_uri": "https://localhost:8080/",
          "height": 442
        },
        "id": "PhUNE4Xm4MII",
        "outputId": "6fc5c73b-b45e-49d6-cbaf-5d5d225f2c3f"
      },
      "execution_count": 25,
      "outputs": [
        {
          "output_type": "execute_result",
          "data": {
            "text/html": [
              "<img src=\"https://raw.githubusercontent.com/dariyasydykova/open_projects/master/ROC_animation/animations/cutoff.gif\"/>"
            ],
            "text/plain": [
              "<IPython.core.display.Image object>"
            ]
          },
          "metadata": {},
          "execution_count": 25
        }
      ]
    },
    {
      "cell_type": "markdown",
      "source": [
        "Fuente: [paulvanderlaken.com](https://paulvanderlaken.com/2019/08/16/roc-auc-precision-and-recall-visually-explained/)\n",
        "\n",
        "\n"
      ],
      "metadata": {
        "id": "XK8_7Ruy32BT"
      }
    },
    {
      "cell_type": "code",
      "source": [
        "from sklearn.metrics import  RocCurveDisplay"
      ],
      "metadata": {
        "id": "FHc-8FjePhM6"
      },
      "execution_count": 26,
      "outputs": []
    },
    {
      "cell_type": "markdown",
      "source": [
        "La curva AUC, en el mejor de los casos, es 100%. De esta forma, con Python y Scikit-Learn, podemos medir cómo está la curva AUC de nuestro modelo.\n",
        "\n",
        "Entonces, from Scikit-Learn.metrics import curve, es ROC curve, ROC curve display, vamos a graficarlo. Aquí simplemente hacemos la curva ROC, ROC curve display from predictions, de la predicción que ya hicimos, y colocamos nuestra Y real, es decir, Y val, coma, nuestra Y prevista, Y previsto, y vamos a darle un título a nuestra gráfica, entonces, sería árbol de decisión. Y ponemos un punto y coma para que ya grafique.\n",
        "\n",
        "Observa, la curva ROC de nuestro modelo solo aumentó un poco en esta región, y ya se fue aquí recta. ¿Qué quiere decir esto? Mientras más cerca esté aquí, es decir, esto significa aleatoriedad, 50-50, es producto de la aleatoriedad. Entonces, esto tampoco sirve, quiere decir que el modelo no está generalizando ni encontrando a las personas, ni clasificando bien.\n",
        "\n",
        "Este modelo, lógicamente, con la curva ROC, a pesar de que diga que tiene una exactitud del 90%, queda claro que es un modelo deficiente."
      ],
      "metadata": {
        "id": "GLZfqfJZuLWI"
      }
    },
    {
      "cell_type": "code",
      "source": [
        "RocCurveDisplay.from_predictions(y_val,y_previsto,name='Arbol de Decisión');  # punto y coma para que grafique\n"
      ],
      "metadata": {
        "id": "V6Ua2rY3PhFt",
        "outputId": "90da118c-24c8-4cb2-cf83-fbf728a0af74",
        "colab": {
          "base_uri": "https://localhost:8080/",
          "height": 451
        }
      },
      "execution_count": 27,
      "outputs": [
        {
          "output_type": "display_data",
          "data": {
            "text/plain": [
              "<Figure size 640x480 with 1 Axes>"
            ],
            "image/png": "[encoded data removed]"
          },
          "metadata": {}
        }
      ]
    },
    {
      "cell_type": "code",
      "source": [
        "from sklearn.metrics import roc_auc_score     # se llama ROC-AOC-score, porque ya tenemos la curva, ahora nos falta el puntaje.\n",
        ""
      ],
      "metadata": {
        "id": "LJE-yyWMPg8R"
      },
      "execution_count": 28,
      "outputs": []
    },
    {
      "cell_type": "markdown",
      "source": [
        "Aquí hacemos un print, printf, de formato, el área bajo la curva. ROC es, entonces, los puntos, abrimos y cerramos llaves, y colocamos ROC-AOC-score, y él también recibe la Y-real, que sería Y-val, y la Y-prevista, Y-previsto.\n",
        "\n",
        "Vemos que el valor es 0.516. Aquí ya lo redondeo a 0.52. Pero entonces, esta es una forma de validar nuestro modelo.\n"
      ],
      "metadata": {
        "id": "YR_r87r_voZd"
      }
    },
    {
      "cell_type": "code",
      "source": [
        "print(f'El área bajo la curva ROC es: {roc_auc_score(y_val,y_previsto)}')"
      ],
      "metadata": {
        "id": "7mtvjPHsPi1o",
        "outputId": "22a861fd-586a-45c5-e0c0-e040b9d80f15",
        "colab": {
          "base_uri": "https://localhost:8080/"
        }
      },
      "execution_count": 29,
      "outputs": [
        {
          "output_type": "stream",
          "name": "stdout",
          "text": [
            "El área bajo la curva ROC es: 0.5158486348231107\n"
          ]
        }
      ]
    },
    {
      "cell_type": "markdown",
      "source": [
        "### Curva de  precisión x sensibilidad"
      ],
      "metadata": {
        "id": "IztSEZfh7QFe"
      }
    },
    {
      "cell_type": "code",
      "source": [
        "Image(url='https://paulvanderlaken.com/wp-content/uploads/2019/08/roc.gif')"
      ],
      "metadata": {
        "colab": {
          "base_uri": "https://localhost:8080/",
          "height": 442
        },
        "id": "EJzfjuxa3fxD",
        "outputId": "093263be-e3d6-4bd6-ded5-2f760ffe55f7"
      },
      "execution_count": 30,
      "outputs": [
        {
          "output_type": "execute_result",
          "data": {
            "text/html": [
              "<img src=\"https://paulvanderlaken.com/wp-content/uploads/2019/08/roc.gif\"/>"
            ],
            "text/plain": [
              "<IPython.core.display.Image object>"
            ]
          },
          "metadata": {},
          "execution_count": 30
        }
      ]
    },
    {
      "cell_type": "markdown",
      "source": [
        "Fuente: [paulvanderlaken.com](https://paulvanderlaken.com/2019/08/16/roc-auc-precision-and-recall-visually-explained/)\n"
      ],
      "metadata": {
        "id": "bUoGCSUB4msC"
      }
    },
    {
      "cell_type": "markdown",
      "source": [
        "Aquí tengo diversos tipos de modelos de Machine Learning. Por ejemplo, un predictor clasifica de esta forma, otro predictor de esta forma, de esta forma, de esta forma. El predictor ideal es cuando logra aislar bien y determinar de forma perfecta o clasificar mejor de forma perfecta a cada categoría, entonces, morosos de un lado y cumplidos de otro. Supongamos que morosos es azul y cumplidos de rojo. El modelo ideal, es el que permite clasificarlos bien, y nota que la curva se acerca más a 1, mientras que cuando están sobrepuestos es todo producto de la aleatoriedad, puede ser el uno o el otro, entonces, por eso notas estos puntitos es cada una de las observaciones del modelo, entonces, cuando está sobrepuesto, quiere decir que está todo como aleatorio, está todo como mezclado.\n",
        "\n",
        "Entonces, aquí está todo mezclado y por eso queda este valor de área bajo la curva tan bajito, pero a medida que logramos aislar bien o separar bien cada una de estas clases, lógicamente, mi modelo va a ser mucho mejor."
      ],
      "metadata": {
        "id": "bJhsI5fjwWt1"
      }
    },
    {
      "cell_type": "code",
      "source": [
        "from sklearn.metrics import PrecisionRecallDisplay"
      ],
      "metadata": {
        "id": "7t20ira6Pcds"
      },
      "execution_count": 31,
      "outputs": []
    },
    {
      "cell_type": "code",
      "source": [
        "PrecisionRecallDisplay.from_predictions(y_val,y_previsto,name='Árbol de Decisión');  # punto y coma para gráficar\n"
      ],
      "metadata": {
        "id": "Drs3Z6RTPcTc",
        "outputId": "4a81d650-2dcb-463f-8b80-3a64ff9ec9b2",
        "colab": {
          "base_uri": "https://localhost:8080/",
          "height": 451
        }
      },
      "execution_count": 32,
      "outputs": [
        {
          "output_type": "display_data",
          "data": {
            "text/plain": [
              "<Figure size 640x480 with 1 Axes>"
            ],
            "image/png": "[encoded data removed]"
          },
          "metadata": {}
        }
      ]
    },
    {
      "cell_type": "markdown",
      "source": [
        "es una curva también que nos permite ver la precisión y el recall, entonces, mira cómo quedó, él quedó como más preciso nuestro modelo, aquí está el 26% que vimos de precisión y el 4% que tiene de recall, entonces, el árbol de decisión, o sea, el promedio, el promedio del average precision recall es 0.10, o sea, la idea es que el promedio quede en 1, pero 0.10 es deficiente."
      ],
      "metadata": {
        "id": "IBaOwnG1xKgk"
      }
    },
    {
      "cell_type": "code",
      "source": [
        "from sklearn.metrics import average_precision_score"
      ],
      "metadata": {
        "id": "DmhO5H5cPcOp"
      },
      "execution_count": 33,
      "outputs": []
    },
    {
      "cell_type": "code",
      "source": [
        "print(f'El score promedio de precisión vs recall es: {average_precision_score(y_val,y_previsto)}')\n",
        "# da 10 %"
      ],
      "metadata": {
        "id": "SS08sHDkPeaG",
        "outputId": "9b6e1f3b-343d-4c48-a297-d8b3c3fd7e76",
        "colab": {
          "base_uri": "https://localhost:8080/"
        }
      },
      "execution_count": 35,
      "outputs": [
        {
          "output_type": "stream",
          "name": "stdout",
          "text": [
            "El score promedio de precisión vs recall es: 0.09467555612579388\n"
          ]
        }
      ]
    },
    {
      "cell_type": "markdown",
      "source": [
        "### Informe de métricas"
      ],
      "metadata": {
        "id": "Bm2E6GEJDJLH"
      }
    },
    {
      "cell_type": "markdown",
      "source": [
        "Podemos también utilizar un recurso que es un informe de métricas, que va a traer todos estos resultados ya consolidados para que podamos analizar directamente desde un mismo lugar.\n",
        "El informe presenta la precisión, recall y f1-score de cada clase, además de devolver un promedio de estas métricas de forma general o ponderada en relación a la cantidad de datos de cada clase.\n",
        "\n",
        "Entonces, vamos a importarlo."
      ],
      "metadata": {
        "id": "bLDwRPQnzohJ"
      }
    },
    {
      "cell_type": "code",
      "source": [
        "from sklearn.metrics import classification_report"
      ],
      "metadata": {
        "id": "C85qunYhPZTJ"
      },
      "execution_count": 36,
      "outputs": []
    },
    {
      "cell_type": "code",
      "source": [
        "# instanciamos directamente\n",
        "print(classification_report(y_val,y_previsto))"
      ],
      "metadata": {
        "id": "pnN6QRlYPZQR",
        "outputId": "1de040d0-5a31-4996-c52e-aed4fc875b46",
        "colab": {
          "base_uri": "https://localhost:8080/"
        }
      },
      "execution_count": 37,
      "outputs": [
        {
          "output_type": "stream",
          "name": "stdout",
          "text": [
            "              precision    recall  f1-score   support\n",
            "\n",
            "           0       0.92      0.99      0.95     10479\n",
            "           1       0.26      0.04      0.07      1002\n",
            "\n",
            "    accuracy                           0.91     11481\n",
            "   macro avg       0.59      0.52      0.51     11481\n",
            "weighted avg       0.86      0.91      0.87     11481\n",
            "\n"
          ]
        }
      ]
    },
    {
      "cell_type": "markdown",
      "source": [
        "Tenemos el siguiente informe. Tenemos el informe con la precisión, el recall o la sensibilidad, el score F1 y support, que es la cantidad de muestras que soportan estos valores. De entrada, tengo aquí la clase 0, que son las personas clientes cumplidas, ¿verdad? Y la clase 1, que son las personas clientes que no pagan, o sea, las morosas. Entonces, cumplidas es 0, morosas es 1.\n",
        "\n",
        "¿Qué sucede? Cuando hace este análisis, hace el cálculo basado en el total de observaciones, que son 11,481, ¿ok? Y nota que existe una clase predominante, que son las personas clientes buenas. O sea, más del 90% del conjunto de datos está compuesto por personas que pagan bien. Entonces, la tendencia del modelo, lógicamente, como es la clase mayor, es a clasificar correctamente a las personas clientes cumplidas, ¿ok?\n",
        "\n",
        "Por eso tengo una precisión de 0.92, ¿verdad? Porque está tomando 10,479 dividido entre 11,481, ¿ok? Entonces, tengo esta precisión alta para la clase 0, que son las cumplidas. Para la clase 1, estoy tomando 1,002 sobre 11,481. Entonces, por eso ya tengo un valor mucho menor. ¿Por qué? Porque ya estoy tomando una clase desbalanceada, ¿ok? Aquí, de entrada, veo que no tengo un equilibrio entre las clases. Entonces, eso puede, lógicamente, afectar mi modelado.\n",
        "\n",
        "Tengo los puntajes de precisión, de recall, para cada una de las clases. Y, como estamos trabajando con recall, nota que este recall de 0.04 es, pues, deficiente, muy bajo. Y la precisión, también, de 0.27, pues, muy mal, ¿ok? Entonces, este modelo, realmente, no identificó bien a las personas morosas, porque en las personas morosas es lo que estamos tratando de clasificar.\n",
        "\n",
        "También, en la parte inferior, tenemos la exactitud. A pesar de aparecer el puntaje de exactitud de 0.91, ¿verdad? Bajo F1 score, realmente, es la exactitud. O sea, está tomando, haciendo la medida, como los cálculos que previamente mostramos. Entonces, es del 91%, pero eso no quiere decir que mi modelo esté clasificando bien, ¿ok? Entonces, es un punto muy importante.\n",
        "\n",
        "También, tenemos el promedio general, ¿verdad? Que es lo que toma, es el valor de precisión. Lo suma y lo divide entre 2. Y lo mismo aquí para recall. Entonces, nota que el promedio general para la precisión es 0.59. Para recall, 0.52. El F1 es 0.51, siempre tomando como referencia las 11,500 muestras que tengo en el conjunto de entrenamiento y validación.\n",
        "Y el promedio ponderado, ¿verdad? Adicionalmente, tiene en cuenta las muestras, ¿ok? Entonces, en este caso, el promedio ponderado es calculado precisión veces soporte, ¿verdad? Dividido por la cantidad de muestras que hay. Y lo mismo para la clase 1. Entonces, precisión veces soporte dividido por la cantidad de muestras. Entonces, aquí, este desbalanceo hace que lleguemos a estos promedios ponderados que acaban favoreciendo la clase más frecuente, que serían las personas clientes cumplidas.\n",
        "Este informe de métricas es bastante útil. Sin embargo, no es la única manera de validar nuestros modelos. Hay, inclusive, otros pasos de validación muy interesantes, porque hasta el momento lo único que hemos hecho es validar este modelo inicial sin realizar ningún ajuste a él, sino entender muy bien las métricas que nos ofrece para, a partir de allí, entonces ver qué es lo que podemos hacer para mejorar nuestro modelo de clasificación."
      ],
      "metadata": {
        "id": "1vcWN2TSzlYA"
      }
    },
    {
      "cell_type": "markdown",
      "source": [
        "## <font color='dark'> Validación cruzada</h1>"
      ],
      "metadata": {
        "id": "SuxCy_oZZQxE"
      }
    },
    {
      "cell_type": "markdown",
      "source": [
        "### Usando KFold"
      ],
      "metadata": {
        "id": "17q2T0iRnzSg"
      }
    },
    {
      "cell_type": "markdown",
      "source": [
        "La validación del modelo de clasificación a partir de la separación de los datos en conjuntos de entrenamiento y validación hace que el resultado dependa en gran medida de esta división. Puede suceder que, de forma aleatoria, el patrón de los datos de validación sea diferente al de los datos de entrenamiento, lo que podría llevar a obtener un resultado mucho mejor o mucho peor que la realidad simplemente por suerte o mala suerte.  \n",
        "\n",
        "Teniendo esto en cuenta, es posible utilizar la **validación cruzada**, una estrategia más consistente y ampliamente utilizada en proyectos de *machine learning*.  \n",
        "\n",
        "En la validación cruzada, en lugar de separar los datos en entrenamiento y validación una sola vez, se dividen en varias partes de igual tamaño. En cada una de estas divisiones, se usa una parte para validación y todas las demás para entrenamiento. Este proceso se repite hasta que todas las partes hayan sido utilizadas tanto para validación como para entrenamiento.  \n",
        "\n",
        "Se generará un modelo para cada una de estas divisiones y la evaluación del desempeño se realizará promediando la métrica de cada modelo. Esto elimina la dependencia de la separación de los datos, ya que hay una mayor variación en la selección de los mismos y se obtiene un valor medio.  \n",
        "\n",
        "Generalmente, se utilizan 5 o 10 partes. Un número mayor no suele ser necesario, ya que implica un procesamiento más costoso, y valores menores ya ayudan a mitigar el problema de la selección de los datos."
      ],
      "metadata": {
        "id": "zjfYnDWJ6C2A"
      }
    },
    {
      "cell_type": "markdown",
      "source": [
        "<a href=\"https://ibb.co/KcBtshJR\"><img src=\"https://i.ibb.co/nq4X1mFZ/train-y-validacion.png\" alt=\"train-y-validacion\" border=\"0\"></a>"
      ],
      "metadata": {
        "id": "oSboV-QNMG__"
      }
    },
    {
      "cell_type": "code",
      "source": [
        "from sklearn.model_selection import KFold, cross_validate"
      ],
      "metadata": {
        "id": "TU8HYdzmPI7P"
      },
      "execution_count": 38,
      "outputs": []
    },
    {
      "cell_type": "markdown",
      "source": [
        " Hacemos la validación cruzada y el KFold. Lo siguiente es que vamos a recrear nuestro modelo. El modelo va a ser un clasificador de árbol de decisión Decision Tree Classifier y vamos a establecer la misma profundidad maxDepth igual a 10.\n",
        "\n",
        "Ahora sí vamos a crear nuestro KFold. Entonces, KF, vamos a llamarlo KF, es igual a KFold y nuestro KFold recibe lo siguiente. Él recibe la cantidad de divisiones nSplits que va a ser igual a 5. Él recibe también, si queremos, que se mezcle. Entonces, hacemos un shuffle igual a true. Hace un shuffling (mezcla) y, por último, él necesita un estado de aleatoriedad para poder reproducir esta misma división de los segmentos de datos para entrenamiento y para validación.\n",
        "\n",
        "Ahora viene la validación cruzada. Entonces, lo llamaremos crossValidation. Entonces, sería como mejor se ve resultadosCrossValidation que sería igual a crossValidate y que recibe él. Él va a recibir el modelo, que es el estimador. Entonces, va a ser el modelo, va a recibir nuestra X, va a recibir nuestra Y y va a recibir también, como queremos, esa validación cruzada. Y utilizamos nuestro KFold. Él nos devuelve un diccionario. Entonces, hago cvResultados.\n",
        "Él se demoró un poco porque él hace todas las iteraciones segmenta, inclusive él muestra el tiempo que demoró para hacer el fit del modelo. Entonces, demoró .43, .79, .43, .48, .33. Ahí está lo que demoró. Después, el tiempo que demoró para establecer el puntaje, ¿verdad? Y por último, el puntaje en sí.\n",
        "¿El puntaje cuál? La exactitud."
      ],
      "metadata": {
        "id": "pnOa8oX88aD5"
      }
    },
    {
      "cell_type": "code",
      "source": [
        "\n",
        "modelo = DecisionTreeClassifier(max_depth=10)\n",
        "kf = KFold(n_splits=5, shuffle=True,random_state=5)\n",
        "cv_resultado = cross_validate(modelo,X,y,cv=kf)\n",
        "cv_resultado"
      ],
      "metadata": {
        "id": "McSadnzDPI4G",
        "outputId": "94a4eb2d-1f9b-4bc7-9f95-0b44d82b73e6",
        "colab": {
          "base_uri": "https://localhost:8080/"
        }
      },
      "execution_count": 39,
      "outputs": [
        {
          "output_type": "execute_result",
          "data": {
            "text/plain": [
              "{'fit_time': array([0.22706366, 0.22064686, 0.2194047 , 0.23769116, 0.22488427]),\n",
              " 'score_time': array([0.00371981, 0.00362301, 0.00339007, 0.00338864, 0.00355649]),\n",
              " 'test_score': array([0.91344584, 0.90788328, 0.90755662, 0.91300087, 0.89884582])}"
            ]
          },
          "metadata": {},
          "execution_count": 39
        }
      ]
    },
    {
      "cell_type": "markdown",
      "source": [
        " Se trata de la llave que se llama testScore. TestScore. Entonces, vemos aquí el resultado. Entonces, en cada una de las iteraciones. Por ejemplo, en este primer caso, el resultado fue 0.91. En este segundo caso, el resultado fue 0.90.\n",
        "\n",
        "Y así sucesivamente."
      ],
      "metadata": {
        "id": "ISnKx0GX9rSW"
      }
    },
    {
      "cell_type": "code",
      "source": [
        "cv_resultado['test_score']"
      ],
      "metadata": {
        "id": "o5oZ8-lhPIy_",
        "outputId": "18acb2a1-f402-4140-9c68-e4bbd73fa9de",
        "colab": {
          "base_uri": "https://localhost:8080/"
        }
      },
      "execution_count": 40,
      "outputs": [
        {
          "output_type": "execute_result",
          "data": {
            "text/plain": [
              "array([0.91344584, 0.90788328, 0.90755662, 0.91300087, 0.89884582])"
            ]
          },
          "metadata": {},
          "execution_count": 40
        }
      ]
    },
    {
      "cell_type": "markdown",
      "source": [
        " ¿Cómo estimo si está generalizando bien? ¿Y cuál es el intervalo de confianza? Entonces, necesito calcular el promedio. ¿Verdad? De todos estos valores. Que es la suma de todos estos resultados, dividido entre 5. Lógicamente, el promedio. Y después, la desviación estándar. ¿Sí? Entonces, con la desviación estándar, voy a calcular el intervalo de confianza. Que va a ser igual al promedio, menos dos veces la desviación estándar. ¿Verdad? Y esa es la parte inferior. Y la parte superior va a ser el promedio, más dos veces la desviación estándar. Y, lógicamente, asegurándonos de que la parte superior del intervalo de confianza no supere 1. Porque el valor máximo es el 100%. ¿Ok?"
      ],
      "metadata": {
        "id": "E6ZE6vSy-Rm-"
      }
    },
    {
      "cell_type": "markdown",
      "source": [
        "Vamos a hacer promedio. Entonces, promedio es igual a, precisamente, la media de este array. Entonces, mean. La desviación estándar. A ver. Mean. La desviación estándar. Vamos a ponerlo aquí. Desvío. STD. Va a ser igual también a CVResultado.STD. ¿Ok? Y ahora, vamos a colocar aquí mejor. Bueno, todo aquí en la parte inferior. No pasa nada. Print. Abrimos y cerramos paréntesis. Format. Entonces, colocamos el promedio de la exactitud es de los puntos. Entonces, colocamos promedio. Lo mismo vamos a colocar para la desviación estándar. La desviación estándar es de desvío estándar. Y, por último, aquí quedó como desvío. Listo.\n",
        "\n",
        "Y, por último, el intervalo de confianza. El intervalo de confianza es, aquí abro corchetes y coloco aquí una coma, vuelvo y abro llaves y coloco de nuevo corchete para cerrar. Entonces, dijimos que es el promedio menos dos veces la desviación estándar. Y la parte superior es el promedio más dos veces la desviación estándar. ¿Ok? Pero, puede ser que hay casos en los cuales el promedio es 0.99, o sea, está casi llegando al 100% y la desviación estándar es, por ejemplo, de 0.02. Entonces, ¿qué sucede? El intervalo de confianza va a superar el 1. Y eso no lo podemos permitir. El máximo es 1. Entonces, en el mejor de los casos va a ser 1. Entonces, voy a tomar el valor mínimo, ¿verdad? De este límite superior del intervalo de confianza."
      ],
      "metadata": {
        "id": "4Yus3_T7DDiZ"
      }
    },
    {
      "cell_type": "code",
      "source": [
        "promedio = cv_resultado['test_score'].mean()\n",
        "desvio_std = cv_resultado['test_score'].std()\n",
        "print(f'El promedio de la exactitud es de: {promedio}')\n",
        "print(f'El desvio típico es de: {desvio_std}')\n",
        "print(f'El intervalo de confianza es de: [{promedio-2*desvio_std},{min(promedio+2*desvio_std,1)}]')\n"
      ],
      "metadata": {
        "id": "ogVc_XdK-PPv",
        "outputId": "246e8984-47c7-4694-930f-7db22acfda5d",
        "colab": {
          "base_uri": "https://localhost:8080/"
        }
      },
      "execution_count": 41,
      "outputs": [
        {
          "output_type": "stream",
          "name": "stdout",
          "text": [
            "El promedio de la exactitud es de: 0.9081464841934755\n",
            "El desvio típico es de: 0.00526436686278026\n",
            "El intervalo de confianza es de: [0.897617750467915,0.9186752179190361]\n"
          ]
        }
      ]
    },
    {
      "cell_type": "markdown",
      "source": [
        "### Validación cruzada con sensibilidad"
      ],
      "metadata": {
        "id": "GAHrtLM2OCjO"
      }
    },
    {
      "cell_type": "markdown",
      "source": [
        "Vamos a hacer promedio. Entonces, promedio es igual a, precisamente, la media de este array. Entonces, mean. La desviación estándar. A ver. Mean. La desviación estándar. Vamos a ponerlo aquí. Desvío. STD. Va a ser igual también a CVResultado.STD. ¿Ok? Y ahora, vamos a colocar aquí mejor. Bueno, todo aquí en la parte inferior. No pasa nada. Print. Abrimos y cerramos paréntesis. Format. Entonces, colocamos el promedio de la exactitud es de los puntos. Entonces, colocamos promedio. Lo mismo vamos a colocar para la desviación estándar. La desviación estándar es de desvío estándar. Y, por último, aquí quedó como desvío. Listo.\n",
        "\n",
        "Y, por último, el intervalo de confianza. El intervalo de confianza es, aquí abro corchetes y coloco aquí una coma, vuelvo y abro llaves y coloco de nuevo corchete para cerrar. Entonces, dijimos que es el promedio menos dos veces la desviación estándar. Y la parte superior es el promedio más dos veces la desviación estándar. ¿Ok? Pero, puede ser que hay casos en los cuales el promedio es 0.99, o sea, está casi llegando al 100% y la desviación estándar es, por ejemplo, de 0.02. Entonces, ¿qué sucede? El intervalo de confianza va a superar el 1. Y eso no lo podemos permitir. El máximo es 1. Entonces, en el mejor de los casos va a ser 1. Entonces, voy a tomar el valor mínimo, ¿verdad? De este límite superior del intervalo de confianza."
      ],
      "metadata": {
        "id": "l13ZU1hQKe2b"
      }
    },
    {
      "cell_type": "code",
      "source": [
        "def intervalo_confianza(resultado):\n",
        "  promedio = resultado['test_score'].mean()\n",
        "  desvio_std = resultado['test_score'].std()\n",
        "  return(f'El intervalo de confianza es de: [{promedio-2*desvio_std},{min(promedio+2*desvio_std,1)}]')\n",
        ""
      ],
      "metadata": {
        "id": "Ywfsoe3_PLYZ"
      },
      "execution_count": 42,
      "outputs": []
    },
    {
      "cell_type": "markdown",
      "source": [
        "Creamos nuestra función y ahora vamos a hacer este mismo ejercicio con el mismo modelo. Copiamos, lo pegamos y aquí la diferencia es que vamos a dar el parámetro scoring y scoring va a ser recall. Entonces, de esta manera, estoy de nuevo creando mi modelo y voy a calcular este scoring con el recall directamente.\n",
        "\n",
        "Y nota que ya me da estos resultados de recall: 0.25, 0.21, 0.19, 0.14, 0.21. Entonces vamos a ver el intervalo de confianza. Entonces sería intervalo de confianza y este recibe como parámetro cv_resultados."
      ],
      "metadata": {
        "id": "GzV_Ib-EMGs_"
      }
    },
    {
      "cell_type": "code",
      "source": [
        "modelo = DecisionTreeClassifier(max_depth=10)\n",
        "kf = KFold(n_splits=5, shuffle=True,random_state=5)\n",
        "cv_resultado = cross_validate(modelo,X,y,cv=kf,scoring='recall')\n",
        "cv_resultado"
      ],
      "metadata": {
        "id": "PV3m-6IxPLMf",
        "outputId": "2ac080e5-cf26-404e-b297-2cebaac077b6",
        "colab": {
          "base_uri": "https://localhost:8080/"
        }
      },
      "execution_count": 43,
      "outputs": [
        {
          "output_type": "execute_result",
          "data": {
            "text/plain": [
              "{'fit_time': array([0.22619963, 0.24108553, 0.21711493, 0.21548009, 0.21547508]),\n",
              " 'score_time': array([0.01083827, 0.00868392, 0.00592566, 0.00510073, 0.00507355]),\n",
              " 'test_score': array([0.02509908, 0.02351485, 0.01845018, 0.01305483, 0.02427746])}"
            ]
          },
          "metadata": {},
          "execution_count": 43
        }
      ]
    },
    {
      "cell_type": "code",
      "source": [
        "intervalo_confianza(cv_resultado)"
      ],
      "metadata": {
        "id": "Y-gpgU7pPLJv",
        "outputId": "1d46d1ef-0d00-4680-9f47-c89fa082df19",
        "colab": {
          "base_uri": "https://localhost:8080/",
          "height": 36
        }
      },
      "execution_count": 44,
      "outputs": [
        {
          "output_type": "execute_result",
          "data": {
            "text/plain": [
              "'El intervalo de confianza es de: [0.011783213145417892,0.02997534614211192]'"
            ],
            "application/vnd.google.colaboratory.intrinsic+json": {
              "type": "string"
            }
          },
          "metadata": {},
          "execution_count": 44
        }
      ]
    },
    {
      "cell_type": "markdown",
      "source": [
        "Ejecutamos entonces aquí la validación cruzada para la sensibilidad. Funciona exactamente igual a los pasos anteriores y lo único que hacemos es colocar aquí el tipo de puntaje que vamos a utilizar que es el recall. Y nota que tiene un desvío estándar bastante grande porque varía de 0.13 a 0.27.\n",
        "\n",
        "Entonces, ese es el resultado para recall que fue la métrica que estábamos priorizando. Recuerda que este modelo sigue siendo deficiente, no hemos trabajado en mejorar el modelo. Lo único que hemos hecho hasta ahora es validarlo, utilizar diversas técnicas para la validación con diversas métricas de modo que podamos tomar acciones basados en los resultados que seamos data driven."
      ],
      "metadata": {
        "id": "zxDWMKKjMwFN"
      }
    },
    {
      "cell_type": "markdown",
      "source": [
        "### Estratificando los datos"
      ],
      "metadata": {
        "id": "-FAOYtNen4qJ"
      }
    },
    {
      "cell_type": "code",
      "source": [
        "datos['moroso'].value_counts()"
      ],
      "metadata": {
        "id": "G6bPA6vaPN1A",
        "outputId": "9070c951-6ee1-4c98-f514-24b1438fca0d",
        "colab": {
          "base_uri": "https://localhost:8080/",
          "height": 178
        }
      },
      "execution_count": 47,
      "outputs": [
        {
          "output_type": "execute_result",
          "data": {
            "text/plain": [
              "moroso\n",
              "0    49309\n",
              "1     4716\n",
              "Name: count, dtype: int64"
            ],
            "text/html": [
              "<div>\n",
              "<style scoped>\n",
              "    .dataframe tbody tr th:only-of-type {\n",
              "        vertical-align: middle;\n",
              "    }\n",
              "\n",
              "    .dataframe tbody tr th {\n",
              "        vertical-align: top;\n",
              "    }\n",
              "\n",
              "    .dataframe thead th {\n",
              "        text-align: right;\n",
              "    }\n",
              "</style>\n",
              "<table border=\"1\" class=\"dataframe\">\n",
              "  <thead>\n",
              "    <tr style=\"text-align: right;\">\n",
              "      <th></th>\n",
              "      <th>count</th>\n",
              "    </tr>\n",
              "    <tr>\n",
              "      <th>moroso</th>\n",
              "      <th></th>\n",
              "    </tr>\n",
              "  </thead>\n",
              "  <tbody>\n",
              "    <tr>\n",
              "      <th>0</th>\n",
              "      <td>49309</td>\n",
              "    </tr>\n",
              "    <tr>\n",
              "      <th>1</th>\n",
              "      <td>4716</td>\n",
              "    </tr>\n",
              "  </tbody>\n",
              "</table>\n",
              "</div><br><label><b>dtype:</b> int64</label>"
            ]
          },
          "metadata": {},
          "execution_count": 47
        }
      ]
    },
    {
      "cell_type": "markdown",
      "source": [
        "Si observamos rápidamente la cantidad de personas morosas y cumplidas, entonces voy a tomar mis datos, morosas y doy un valueCount (conteo de valores), entonces tengo 4.716 morosas y 49.309 cumplidas. Entonces, ¿qué significa esto? Que más del 90% de mis datos pertenecen a una misma clase y el resto a otra clase, por lo que mi dataframe está muy desequilibrado.\n",
        "Cuando hicimos estos splits, no nos aseguramos de que se mantuviera la misma proporción de muestras. Por ejemplo, en este split es probable que haya quedado el 5% de la clase morosa y el 95% de la clase cumplida y en este grupo podría haber quedado el 100% de la clase cumplida y nada de morosa. Entonces, corremos el riesgo de que nuestro algoritmo aún no esté haciendo una validación cruzada efectiva.\n",
        "Podemos utilizar otro recurso de Sklearn que es un método estratificado de KFold. Entonces, from sklearn.modelSelection import stratified kfold, lo importamos y los pasos son exactamente iguales a los que ya hemos realizado."
      ],
      "metadata": {
        "id": "69NRa-caObdl"
      }
    },
    {
      "cell_type": "code",
      "source": [
        "from sklearn.model_selection import StratifiedKFold"
      ],
      "metadata": {
        "id": "HONIpY1BPNzd"
      },
      "execution_count": 45,
      "outputs": []
    },
    {
      "cell_type": "code",
      "source": [
        "modelo = DecisionTreeClassifier(max_depth=10)\n",
        "skf = StratifiedKFold(n_splits=5, shuffle=True,random_state=5)\n",
        "cv_resultado = cross_validate(modelo,X,y,cv=skf,scoring='recall')\n",
        "cv_resultado"
      ],
      "metadata": {
        "id": "jCFRBhd_PNxT",
        "outputId": "50fe9530-0ba4-46f4-d186-41dc283822bc",
        "colab": {
          "base_uri": "https://localhost:8080/"
        }
      },
      "execution_count": 48,
      "outputs": [
        {
          "output_type": "execute_result",
          "data": {
            "text/plain": [
              "{'fit_time': array([0.21865988, 0.21550727, 0.21912956, 0.24410653, 0.21638894]),\n",
              " 'score_time': array([0.00503445, 0.00566673, 0.00623918, 0.00553083, 0.00564814]),\n",
              " 'test_score': array([0.03740648, 0.02621723, 0.03241895, 0.02244389, 0.02493766])}"
            ]
          },
          "metadata": {},
          "execution_count": 48
        }
      ]
    },
    {
      "cell_type": "markdown",
      "source": [
        "En vez de utilizar kfold va a ser stratified kfold. Entonces, stratified kfold, la misma cantidad de splits, que también haga el shuffling y el random state igual a 5.\n",
        "\n",
        "Aquí estoy garantizando que la proporción de cada clase se mantenga. Quiero que en todos estos grupos, independientemente de cómo queden, todos tengan un porcentaje aproximado de la clase morosa. Si, por ejemplo, quedó el 10% moroso en cada uno de los grupos, entonces, estaría bien.\n",
        "Por último, hacemos esta validación, utilizamos el SKF (nuestro stratified kfold) y lo almacenamos en resultados.\n"
      ],
      "metadata": {
        "id": "39S0L8_qP5Tw"
      }
    },
    {
      "cell_type": "code",
      "source": [
        "intervalo_confianza(cv_resultado)"
      ],
      "metadata": {
        "id": "Eq84F2egRBKz",
        "outputId": "13f8c815-5c9a-45a9-e90f-f58b6c233552",
        "colab": {
          "base_uri": "https://localhost:8080/",
          "height": 36
        }
      },
      "execution_count": 49,
      "outputs": [
        {
          "output_type": "execute_result",
          "data": {
            "text/plain": [
              "'El intervalo de confianza es de: [0.017763647519652745,0.03960603688357142]'"
            ],
            "application/vnd.google.colaboratory.intrinsic+json": {
              "type": "string"
            }
          },
          "metadata": {},
          "execution_count": 49
        }
      ]
    },
    {
      "cell_type": "markdown",
      "source": [
        "Aquí no necesitamos ver los resultados directamente, sino que podemos ya utilizar nuestra función de intervalo de confianza. Entonces, intervalo confianza va a recibir los resultados, se ven resultados, entonces, ejecutamos nuestra celda y notamos que el intervalo de confianza, lógicamente, tuvo un cambio significativo porque en el primer caso la variación fue de 0.13 a 0.27 y en este caso ya fue de 0.012 a 0.030.\n",
        "Entonces, el desvío típico aumentó, pero a principio, estoy obteniendo un intervalo de confianza con una variación que con este modelo puede presentar una puntuación de recall que va a variar entre el 0.018, o sea, 1.2%, casi 2% y el 3.9 %, no puede esperar más de ello con este modelo.\n",
        "Aquí notamos un detalle muy interesante y es que estamos lidiando con un conjunto de datos desequilibrado, un conjunto de datos en el que tengo 50.000 registros que son personas cumplidas y tengo casi 5.000 que son personas morosas. Entonces, detectar a estas personas morosas de esta forma es muy difícil. ¿Qué estrategia podríamos implementar, entonces, para mejorar nuestra previsión?"
      ],
      "metadata": {
        "id": "O2j1ECKgRCfg"
      }
    },
    {
      "cell_type": "markdown",
      "source": [
        "###**Otros métodos de validación**\n",
        "\n",
        "**GroupKFold**\n",
        "\n",
        "El método GroupKFold es una variación de la validación cruzada KFold tradicional y se utiliza cuando los datos tienen alguna estructura de grupo o dependencia que no debe ser rota, generalmente una característica en una de las columnas de la base de datos.\n",
        "\n",
        "Este enfoque utiliza una estrategia de separación de los datos para que los registros pertenecientes a un grupo específico se mantengan juntos durante las divisiones del KFold, garantizando que no sean separados entre los conjuntos de entrenamiento y validación. Esto es útil para evitar posibles sesgos y garantizar que el modelo generalice para grupos desconocidos, es decir, incluso si no hay datos del grupo en el conjunto de entrenamiento, el modelo deberá tener un buen desempeño al predecir el resultado para los datos de ese grupo.\n",
        "\n",
        "**Leave-p-out**\n",
        "\n",
        "El método Leave-p-out funciona de manera diferente al método KFold. En lugar de dividir el conjunto de datos en una cantidad fija de conjuntos, se elegirá una cantidad 'p' de elementos para ser dejados fuera del entrenamiento. Los datos se entrenarán en el resto y se validarán solo en los 'p' elementos. Este proceso se repite hasta que todos los datos se utilicen como datos de validación. El resultado final puede considerarse el promedio de los resultados obtenidos en los modelos, tal como se hace en la validación cruzada tradicional.\n",
        "\n",
        "Esto proporciona una validación mucho más completa, ya que considera todas las combinaciones posibles de datos de entrenamiento y validación. Sin embargo, es mucho más costosa computacionalmente, ya que se crearán muchos modelos y esto aumenta a medida que el conjunto de datos es muy grande y el valor elegido para 'p' es pequeño.\n",
        "\n",
        "**Leave-one-out**\n",
        "\n",
        "El método Leave-one-out es una forma especial del Leave-p-out, donde se elige el valor de p=1. De esta manera, solo se reserva una muestra para validación y todos los demás datos se eligen para entrenamiento. Este proceso se repite para todas las muestras de la base de datos. Esto significa que, si hay 1000 filas en la base de datos, se entrenarán 1000 modelos distintos.\n",
        "\n",
        "Se espera que este método demande mucho computacionalmente, debido a la creación de un modelo para cada fila de la base de datos. Por lo tanto, se indica solo en los casos en que la base de datos es muy pequeña. En estas situaciones, es interesante utilizar la mayor cantidad de datos posible para el entrenamiento, para que el modelo pueda entender el patrón de los datos. Otra estrategia de validación cruzada eliminaría muchos datos que serían útiles en el entrenamiento.\n",
        "\n",
        "Si deseas saber más sobre otros métodos de validación disponibles en la biblioteca Scikit-Learn, puedes consultar la documentación https://scikit-learn.org/stable/modules/cross_validation.htmlValidación (Validación cruzada: evaluando el desempeño del estimador).\n",
        "\n",
        "Si quieres crear una visualización para tener un mejor entendimiento de cómo se realizó la división de los datos en algún proyecto, ya sea con KFold, StratifiedKFold o GroupKFold, puedes explorar la documentación Visualizando el comportamiento de validación cruzada en scikit-learn."
      ],
      "metadata": {
        "id": "TS7hznjXSs9w"
      }
    },
    {
      "cell_type": "markdown",
      "source": [
        "## <font color='dark'>Balanceo de los datos</h1>"
      ],
      "metadata": {
        "id": "yaVwNb1kn8sX"
      }
    },
    {
      "cell_type": "markdown",
      "source": [
        "### Oversampling"
      ],
      "metadata": {
        "id": "4eYKxWJd6g6w"
      }
    },
    {
      "cell_type": "markdown",
      "source": [
        "https://imbalanced-learn.org/stable/references/generated/imblearn.over_sampling.SMOTE.html#id1"
      ],
      "metadata": {
        "id": "N0MJ7hGUmL4l"
      }
    },
    {
      "cell_type": "code",
      "source": [],
      "metadata": {
        "id": "cO0Dx5xAO4B5"
      },
      "execution_count": null,
      "outputs": []
    },
    {
      "cell_type": "code",
      "source": [],
      "metadata": {
        "id": "h6DQqcttO3_c"
      },
      "execution_count": null,
      "outputs": []
    },
    {
      "cell_type": "code",
      "source": [],
      "metadata": {
        "id": "7Lp4GoMRO355"
      },
      "execution_count": null,
      "outputs": []
    },
    {
      "cell_type": "markdown",
      "source": [
        "### Pipeline para validación"
      ],
      "metadata": {
        "id": "fHSNXznm6ia-"
      }
    },
    {
      "cell_type": "code",
      "source": [],
      "metadata": {
        "id": "DaoAbR84O44S"
      },
      "execution_count": null,
      "outputs": []
    },
    {
      "cell_type": "code",
      "source": [],
      "metadata": {
        "id": "7UezUduWO41c"
      },
      "execution_count": null,
      "outputs": []
    },
    {
      "cell_type": "code",
      "source": [],
      "metadata": {
        "id": "b7Z-pe6wO4yN"
      },
      "execution_count": null,
      "outputs": []
    },
    {
      "cell_type": "markdown",
      "source": [
        "### Undersampling"
      ],
      "metadata": {
        "id": "66PlvwjX6kFv"
      }
    },
    {
      "cell_type": "markdown",
      "source": [
        "https://imbalanced-learn.org/stable/references/generated/imblearn.under_sampling.NearMiss.html"
      ],
      "metadata": {
        "id": "Fh6VZN5Fx7wl"
      }
    },
    {
      "cell_type": "code",
      "source": [],
      "metadata": {
        "id": "lUn59uqAO63N"
      },
      "execution_count": null,
      "outputs": []
    },
    {
      "cell_type": "code",
      "source": [],
      "metadata": {
        "id": "pOUKHwqRO6zb"
      },
      "execution_count": null,
      "outputs": []
    },
    {
      "cell_type": "code",
      "source": [],
      "metadata": {
        "id": "ykn9H4kFO6so"
      },
      "execution_count": null,
      "outputs": []
    },
    {
      "cell_type": "markdown",
      "source": [
        "### Probando el modelo"
      ],
      "metadata": {
        "id": "EP-44U0eHt-a"
      }
    },
    {
      "cell_type": "code",
      "source": [],
      "metadata": {
        "id": "XWhZlwOTO8eN"
      },
      "execution_count": null,
      "outputs": []
    },
    {
      "cell_type": "code",
      "source": [],
      "metadata": {
        "id": "gZHVqM6hO8bt"
      },
      "execution_count": null,
      "outputs": []
    },
    {
      "cell_type": "code",
      "source": [],
      "metadata": {
        "id": "QSrpOQpxO8WT"
      },
      "execution_count": null,
      "outputs": []
    }
  ]
}